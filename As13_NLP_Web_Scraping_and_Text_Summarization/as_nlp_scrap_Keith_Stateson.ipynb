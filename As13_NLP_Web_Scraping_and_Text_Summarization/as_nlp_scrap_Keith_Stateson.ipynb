{
 "cells": [
  {
   "cell_type": "markdown",
   "id": "931793e0-95db-4202-aaec-8222707f084c",
   "metadata": {},
   "source": [
    "# Natural Language Processing (NLP)\n",
    "\n",
    "## Text Summarization \n",
    "\n",
    "## Objectives\n",
    "\n",
    "On completing this assignment, students will be able to write a simple ai application that summarizes a given text by selecting a few most relevant sentences from the text.  \n",
    "\n",
    "## Description\n",
    " \n",
    "Write an AI application that will scrape a Wikipedia article on Neural Networking from the Internet and will summarize it by selecting the three most relevant sentences which are less than 20 words long from the article.\n",
    "\n",
    "### Additionally, do the following:\n",
    "\n",
    "Allow sentences of the following maximum length to be included in the calculations and see which one produces a good summary.\n",
    "\n",
    "Max sentence length:\n",
    "15, 20, 25, 30, or any length\n",
    "\n",
    "After selecting a suitable length for the above, try out the following numbers for sentences to be included in the final summary.\n",
    "\n",
    "Number of sentences to be included in the document summary:\n",
    "1, 2, 3, 4, or 5\n",
    "\n",
    "What number seems most suitable. \n",
    "\n",
    "Write a paragraph that both describes your experience and summarizes the results of carrying out the above experiment.\n",
    "\n",
    "\n",
    "## Discussion\n",
    "\n",
    "There are two ways to summarize an article. One way is to fully comprehend the article and then summarize it in your own words. This way we produce an abstract of the article. The second way is to extract from the article a few most relevant sentences and use them to constitute the summary. This type of summary is called an executive summary.\n",
    "\n",
    "In this assignment, we have chosen the second approach of producing an executive summary of the article. \n",
    "\n",
    "## Coding\n",
    "\n",
    "Follow the steps below."
   ]
  },
  {
   "cell_type": "markdown",
   "id": "afb24764",
   "metadata": {},
   "source": [
    "## Title: NLP Web Scraping and Text Summarization\n",
    "\n",
    "### Keith Yrisarri Stateson\n",
    "July 18, 2024. Python 3.11.0\n",
    "\n",
    "##### Summary\n",
    "This program is an AI application designed to summarize a given Wikipedia article on Neural Networking by web scraping the content. The program uses Beautiful Soup to scrape and parse the article from the Internet, extracting the three most relevant sentences, each containing fewer than 20 words. \n",
    "\n",
    "Additionally, the program explores the impact of different maximum sentence lengths and varying the number of sentences in the summary to identify the best configuration for summarizing the text.\n",
    "\n",
    "Assumptions\n",
    "The program assumes that the most relevant sentences are those with the highest word frequency scores, and that the paragraphs are in the 'p' tag.\n",
    "\n",
    "##### Overview\n",
    "Install, Import, and Raw Data Collection\n",
    "- Importing Libraries\n",
    "- Scraping the Wikipedia Article\n",
    "\n",
    "Data Cleaning\n",
    "- Parsing HTML Content\n",
    "- Cleaning and Formatting Text\n",
    "- Removing Reference Numbers\n",
    "\n",
    "Text Tokenization and Text Analysis\n",
    "- Sentence Tokenization\n",
    "- Text Analysis\n",
    "- Word Tokenization\n",
    "- Text Analysis\n",
    "\n",
    "Word Frequency Calculation\n",
    "- Creating a Word Frequency Dictionary\n",
    "- Normalizing Word Frequencies\n",
    "\n",
    "Sentence Scoring and Selection\n",
    "- Calculating Sentence Scores\n",
    "- Filtering Sentences by Length\n",
    "- Selecting Top Sentences\n",
    "\n",
    "Variations 1, 2, 3\n",
    "- Experimenting with Different Configurations\n",
    "\n",
    "Conclusion"
   ]
  },
  {
   "cell_type": "markdown",
   "id": "3ec99758",
   "metadata": {},
   "source": [
    "## Install, Import, and Raw Data Collection"
   ]
  },
  {
   "cell_type": "code",
   "execution_count": 2,
   "id": "a06bcf40",
   "metadata": {},
   "outputs": [
    {
     "name": "stdout",
     "output_type": "stream",
     "text": [
      "Requirement already satisfied: lxml in /Library/Frameworks/Python.framework/Versions/3.11/lib/python3.11/site-packages (5.2.2)\n",
      "\n",
      "\u001b[1m[\u001b[0m\u001b[34;49mnotice\u001b[0m\u001b[1;39;49m]\u001b[0m\u001b[39;49m A new release of pip is available: \u001b[0m\u001b[31;49m24.0\u001b[0m\u001b[39;49m -> \u001b[0m\u001b[32;49m24.1.2\u001b[0m\n",
      "\u001b[1m[\u001b[0m\u001b[34;49mnotice\u001b[0m\u001b[1;39;49m]\u001b[0m\u001b[39;49m To update, run: \u001b[0m\u001b[32;49mpython3.11 -m pip install --upgrade pip\u001b[0m\n",
      "Note: you may need to restart the kernel to use updated packages.\n"
     ]
    }
   ],
   "source": [
    "pip install lxml"
   ]
  },
  {
   "cell_type": "code",
   "execution_count": 3,
   "id": "5b04a4bb",
   "metadata": {},
   "outputs": [
    {
     "name": "stderr",
     "output_type": "stream",
     "text": [
      "[nltk_data] Downloading package punkt to\n",
      "[nltk_data]     /Users/keithstateson/nltk_data...\n",
      "[nltk_data]   Package punkt is already up-to-date!\n"
     ]
    },
    {
     "data": {
      "text/plain": [
       "True"
      ]
     },
     "execution_count": 3,
     "metadata": {},
     "output_type": "execute_result"
    }
   ],
   "source": [
    "import nltk\n",
    "nltk.download('punkt')"
   ]
  },
  {
   "cell_type": "code",
   "execution_count": 4,
   "id": "5f532508-e771-4667-a758-65de43a7e252",
   "metadata": {},
   "outputs": [
    {
     "name": "stdout",
     "output_type": "stream",
     "text": [
      "<http.client.HTTPResponse object at 0x12f3067d0>\n"
     ]
    }
   ],
   "source": [
    "import bs4 as bs\n",
    "import urllib.request  # for opening and reading URLs\n",
    "raw_data = urllib.request.urlopen ('https://en.wikipedia.org/wiki/Neural_network')  # open the URL and get the raw data\n",
    "print (raw_data)"
   ]
  },
  {
   "cell_type": "markdown",
   "id": "ab3b20af-9388-4f66-94d5-7ac502edf243",
   "metadata": {},
   "source": [
    "Read the raw page from the connected website"
   ]
  },
  {
   "cell_type": "code",
   "execution_count": 5,
   "id": "b73544ab-ddf1-4249-93d3-d4e4fee51f3c",
   "metadata": {},
   "outputs": [],
   "source": [
    "document=raw_data.read()  # read the raw data\n",
    "# print (document)"
   ]
  },
  {
   "cell_type": "markdown",
   "id": "f6e5c35c",
   "metadata": {},
   "source": [
    "## Data Cleaning"
   ]
  },
  {
   "cell_type": "markdown",
   "id": "9cab242e-3dc9-40ad-bb62-1004daf98fc3",
   "metadata": {},
   "source": [
    "Cleanup the page to make it a clean html page. Parse the document using lxml parser."
   ]
  },
  {
   "cell_type": "code",
   "execution_count": 27,
   "id": "7f35549e-db98-43e7-84af-5f1cdcb6fde3",
   "metadata": {},
   "outputs": [],
   "source": [
    "parsed_document = bs.BeautifulSoup(document, 'lxml')\n",
    "# print (parsed_document)"
   ]
  },
  {
   "cell_type": "markdown",
   "id": "4050cbdd-e331-4f2c-a8b8-ddcb3c9cc1cb",
   "metadata": {},
   "source": [
    "Prepare a list of all <p> tag objects (<p> tags and the enclosed text) (html paragraphs)"
   ]
  },
  {
   "cell_type": "code",
   "execution_count": 7,
   "id": "76a89a8d-a8ee-4259-a7d3-3d17f08b4f9f",
   "metadata": {},
   "outputs": [
    {
     "name": "stdout",
     "output_type": "stream",
     "text": [
      "[<p>A <b>neural network</b> is a group of interconnected units called <a class=\"mw-redirect\" href=\"/wiki/Neurons\" title=\"Neurons\">neurons</a> that send signals to one another. Neurons can be either <a href=\"/wiki/Cell_(biology)\" title=\"Cell (biology)\">biological cells</a> or <a href=\"/wiki/Mathematical_model\" title=\"Mathematical model\">mathematical models</a>. While individual neurons are simple, many of them together in a network can perform complex tasks. There are two main types of neural network.\n",
      "</p>, <p>In the context of biology, a neural network is a population of biological <a href=\"/wiki/Neuron\" title=\"Neuron\">neurons</a> chemically connected to each other by <a href=\"/wiki/Synapse\" title=\"Synapse\">synapses</a>. A given neuron can be connected to hundreds of thousands of synapses.<sup class=\"reference\" id=\"cite_ref-shao_1-0\"><a href=\"#cite_note-shao-1\">[1]</a></sup>\n",
      "Each neuron sends and receives <a href=\"/wiki/Electrochemistry\" title=\"Electrochemistry\">electrochemical</a> signals called <a href=\"/wiki/Action_potential\" title=\"Action potential\">action potentials</a> to its connected neighbors. A neuron can serve an <a href=\"/wiki/Excitatory_postsynaptic_potential\" title=\"Excitatory postsynaptic potential\">excitatory</a> role, amplifying and propagating signals it receives, or an <a href=\"/wiki/Inhibitory_postsynaptic_potential\" title=\"Inhibitory postsynaptic potential\">inhibitory</a> role, suppressing signals instead.<sup class=\"reference\" id=\"cite_ref-shao_1-1\"><a href=\"#cite_note-shao-1\">[1]</a></sup>\n",
      "</p>]\n"
     ]
    }
   ],
   "source": [
    "# .find_all method is used to find all the tags. 'p' is the tag for paragraph\n",
    "article_paras=parsed_document.find_all ('p')  # article_paras is a list of all the paragraphs in the article\n",
    "print (article_paras[0:2])  # print the first 2 paragraphs"
   ]
  },
  {
   "cell_type": "code",
   "execution_count": 8,
   "id": "4a160982",
   "metadata": {},
   "outputs": [
    {
     "name": "stdout",
     "output_type": "stream",
     "text": [
      "\n",
      "prettify method:\n",
      "<p>\n",
      " A\n",
      " <b>\n",
      "  neural network\n",
      " </b>\n",
      " is a group of interconnected units called\n",
      " <a class=\"mw-redirect\" href=\"/wiki/Neurons\" title=\"Neurons\">\n",
      "  neurons\n",
      " </a>\n",
      " that send signals to one another. Neurons can be either\n",
      " <a href=\"/wiki/Cell_(biology)\" title=\"Cell (biology)\">\n",
      "  biological cells\n",
      " </a>\n",
      " or\n",
      " <a href=\"/wiki/Mathematical_model\" title=\"Mathematical model\">\n",
      "  mathematical models\n",
      " </a>\n",
      " . While individual neurons are simple, many of them together in a network can perform complex tasks. There are two main types of neural network.\n",
      "</p>\n",
      "\n",
      "<p>\n",
      " In the context of biology, a neural network is a population of biological\n",
      " <a href=\"/wiki/Neuron\" title=\"Neuron\">\n",
      "  neurons\n",
      " </a>\n",
      " chemically connected to each other by\n",
      " <a href=\"/wiki/Synapse\" title=\"Synapse\">\n",
      "  synapses\n",
      " </a>\n",
      " . A given neuron can be connected to hundreds of thousands of synapses.\n",
      " <sup class=\"reference\" id=\"cite_ref-shao_1-0\">\n",
      "  <a href=\"#cite_note-shao-1\">\n",
      "   [1]\n",
      "  </a>\n",
      " </sup>\n",
      " Each neuron sends and receives\n",
      " <a href=\"/wiki/Electrochemistry\" title=\"Electrochemistry\">\n",
      "  electrochemical\n",
      " </a>\n",
      " signals called\n",
      " <a href=\"/wiki/Action_potential\" title=\"Action potential\">\n",
      "  action potentials\n",
      " </a>\n",
      " to its connected neighbors. A neuron can serve an\n",
      " <a href=\"/wiki/Excitatory_postsynaptic_potential\" title=\"Excitatory postsynaptic potential\">\n",
      "  excitatory\n",
      " </a>\n",
      " role, amplifying and propagating signals it receives, or an\n",
      " <a href=\"/wiki/Inhibitory_postsynaptic_potential\" title=\"Inhibitory postsynaptic potential\">\n",
      "  inhibitory\n",
      " </a>\n",
      " role, suppressing signals instead.\n",
      " <sup class=\"reference\" id=\"cite_ref-shao_1-1\">\n",
      "  <a href=\"#cite_note-shao-1\">\n",
      "   [1]\n",
      "  </a>\n",
      " </sup>\n",
      "</p>\n",
      "\n"
     ]
    }
   ],
   "source": [
    "# prettify method will print the html in a more readable format\n",
    "print('\\nprettify method:')\n",
    "for para in article_paras[:2]:\n",
    "    print(para.prettify())"
   ]
  },
  {
   "cell_type": "code",
   "execution_count": 9,
   "id": "cc792b87",
   "metadata": {},
   "outputs": [
    {
     "name": "stdout",
     "output_type": "stream",
     "text": [
      "\n",
      "get_text method:\n",
      "A neural network is a group of interconnected units called neurons that send signals to one another. Neurons can be either biological cells or mathematical models. While individual neurons are simple, many of them together in a network can perform complex tasks. There are two main types of neural network.\n",
      "\n",
      "In the context of biology, a neural network is a population of biological neurons chemically connected to each other by synapses. A given neuron can be connected to hundreds of thousands of synapses.[1]\n",
      "Each neuron sends and receives electrochemical signals called action potentials to its connected neighbors. A neuron can serve an excitatory role, amplifying and propagating signals it receives, or an inhibitory role, suppressing signals instead.[1]\n",
      "\n"
     ]
    }
   ],
   "source": [
    "# get_text method will print the text in the paragraphs\n",
    "print('\\nget_text method:')\n",
    "for para in article_paras[:2]:\n",
    "    print(para.get_text())\n",
    "    \n",
    "# # .text method will print the text in the paragraphs, same output as get_text method\n",
    "# print('\\n .text method will print the text in the paragraphs')\n",
    "# for para in article_paras[:2]:  # print the first 2 paragraphs\n",
    "#     print(para.text)"
   ]
  },
  {
   "cell_type": "markdown",
   "id": "6173a5af-4aff-4537-94b4-ea5fc9ee0aa7",
   "metadata": {},
   "source": [
    "By iterating over the list, extract and put together the text parts (html paragraph text par) "
   ]
  },
  {
   "cell_type": "code",
   "execution_count": 10,
   "id": "3c538ca0-af99-4243-9a9e-b6256330c791",
   "metadata": {},
   "outputs": [
    {
     "name": "stdout",
     "output_type": "stream",
     "text": [
      "A neural network is a group of interconnected units called neurons that send signals to one another. Neurons can be either biological cells or mathematical models. While individual neurons are simple, many of them together in a network can perform complex tasks. There are two main types of neural network.\n",
      "In the context of biology, a neural network is a population of biological neurons chemically connected to each other by synapses. A given neuron can be connected to hundreds of thousands of syn \n",
      "\n"
     ]
    }
   ],
   "source": [
    "scrapped_data=\"\"\n",
    "for para in article_paras:\n",
    "    scrapped_data += para.text\n",
    "print (scrapped_data[:500], '\\n') # print the first 500 characters of the scrapped data"
   ]
  },
  {
   "cell_type": "markdown",
   "id": "e434613e-e37a-4ce4-9bf1-6e036696e7a4",
   "metadata": {
    "scrolled": true
   },
   "source": [
    "At the end of text parts, there are reference numbers such as: [1] etc. Do the cleanup of the whole text and remove them as done below."
   ]
  },
  {
   "cell_type": "code",
   "execution_count": 11,
   "id": "a7d09a3e-2db0-4205-b30e-8a38311c231d",
   "metadata": {},
   "outputs": [
    {
     "name": "stdout",
     "output_type": "stream",
     "text": [
      "A neural network is a group of interconnected units called neurons that send signals to one another. Neurons can be either biological cells or mathematical models. While individual neurons are simple, many of them together in a network can perform complex tasks. There are two main types of neural network. In the context of biology, a neural network is a population of biological neurons chemically connected to each other by synapses. A given neuron can be connected to hundreds of thousands of syn\n"
     ]
    }
   ],
   "source": [
    "import re\n",
    "scrapped_data = re.sub (r'\\[[0-9]*\\]', ' ', scrapped_data)  # remove the reference numbers, *\\ means any number of digits\n",
    "scrapped_data = re.sub (r'\\s+', ' ', scrapped_data)\n",
    "\n",
    "print(scrapped_data[:500])"
   ]
  },
  {
   "cell_type": "markdown",
   "id": "19c0aa86",
   "metadata": {},
   "source": [
    "## Text Tokenization and Text Analysis"
   ]
  },
  {
   "cell_type": "markdown",
   "id": "94836caa-3113-4b0f-a3e4-277274d8059b",
   "metadata": {},
   "source": [
    "Tokenize (surround with single quotes) all sentences and make a list of them in which quoted sentences are separated by comma."
   ]
  },
  {
   "cell_type": "code",
   "execution_count": 12,
   "id": "190d7c26-5999-4945-8b0d-8c9e018d1a16",
   "metadata": {},
   "outputs": [
    {
     "name": "stdout",
     "output_type": "stream",
     "text": [
      "['A neural network is a group of interconnected units called neurons that send signals to one another.', 'Neurons can be either biological cells or mathematical models.', 'While individual neurons are simple, many of them together in a network can perform complex tasks.', 'There are two main types of neural network.', 'In the context of biology, a neural network is a population of biological neurons chemically connected to each other by synapses.', 'A given neuron can be connected to hundreds of thousands of synapses.', 'Each neuron sends and receives electrochemical signals called action potentials to its connected neighbors.', 'A neuron can serve an excitatory role, amplifying and propagating signals it receives, or an inhibitory role, suppressing signals instead.', 'Populations of interconnected neurons that are smaller than neural networks are called neural circuits.', 'Very large interconnected networks are called large scale brain networks, and many of these together form brains and nervous systems.', 'Signals generated by neural networks in the brain eventually travel through the nervous system and across neuromuscular junctions to muscle cells, where they cause contraction and thereby motion.', 'In machine learning, a neural network is an artificial mathematical model used to approximate nonlinear functions.', 'While early artificial neural networks were physical machines, today they are almost always implemented in software.', 'Neurons in an artificial neural network are usually arranged into layers, with information passing from the first layer (the input layer) through one or more intermediate layers (the hidden layers) to the final layer (the output layer).', 'The \"signal\" input to each neuron is a number, specifically a linear combination of the outputs of the connected neurons in the previous layer.', 'The signal each neuron outputs is calculated from this number, according to its activation function.', 'The behavior of the network depends on the strengths (or weights) of the connections between neurons.', 'A network is trained by modifying these weights through empirical risk minimization or backpropagation in order to fit some preexisting dataset.', 'Neural networks are used to solve problems in artificial intelligence, and have thereby found applications in many disciplines, including predictive modeling, adaptive control, facial recognition, handwriting recognition, general game playing, and generative AI.', 'The theoretical base for contemporary neural networks was independently proposed by Alexander Bain in 1873 and William James in 1890.', 'Both posited that human thought emerged from interactions among large numbers of neurons inside the brain.', 'In 1949, Donald Hebb described Hebbian learning, the idea that neural networks can change and learn over time by strengthening a synapse every time a signal travels along it.', 'Artificial neural networks were originally used to model biological neural networks starting in the 1930s under the approach of connectionism.', 'However, starting with the invention of the perceptron, a simple artificial neural network, by Warren McCulloch and Walter Pitts in 1943, followed by the implementation of one in hardware by Frank Rosenblatt in 1957, artificial neural networks became increasingly used for machine learning applications instead, and increasingly different from their biological counterparts.']\n"
     ]
    }
   ],
   "source": [
    "from nltk import sent_tokenize\n",
    "all_sentences = sent_tokenize (scrapped_data)\n",
    "print (all_sentences[:500])"
   ]
  },
  {
   "cell_type": "markdown",
   "id": "621424df",
   "metadata": {},
   "source": [
    "Text Analysis"
   ]
  },
  {
   "cell_type": "code",
   "execution_count": 13,
   "id": "13016c5e",
   "metadata": {},
   "outputs": [
    {
     "name": "stdout",
     "output_type": "stream",
     "text": [
      "Total number of words: 494\n",
      "Total number of sentences: 24\n",
      "Average length of words: 5.8 characters\n",
      "Average sentence length: 139.4 characters\n",
      "\n",
      "Sentence Length Distribution:\n",
      "Length 8: 1 sentences\n",
      "Length 9: 1 sentences\n",
      "Length 12: 1 sentences\n",
      "Length 14: 2 sentences\n",
      "Length 15: 1 sentences\n",
      "Length 16: 5 sentences\n",
      "Length 17: 1 sentences\n",
      "Length 20: 4 sentences\n",
      "Length 21: 2 sentences\n",
      "Length 24: 1 sentences\n",
      "Length 28: 1 sentences\n",
      "Length 29: 1 sentences\n",
      "Length 33: 1 sentences\n",
      "Length 37: 1 sentences\n",
      "Length 52: 1 sentences\n",
      "\n",
      "Sentences shorter than 15 words:\n",
      "Neurons can be either biological cells or mathematical models.\n",
      "There are two main types of neural network.\n",
      "A given neuron can be connected to hundreds of thousands of synapses.\n",
      "Each neuron sends and receives electrochemical signals called action potentials to its connected neighbors.\n",
      "Populations of interconnected neurons that are smaller than neural networks are called neural circuits.\n",
      "\n",
      "Sentences between 15 and 30 words:\n",
      "A neural network is a group of interconnected units called neurons that send signals to one another.\n",
      "While individual neurons are simple, many of them together in a network can perform complex tasks.\n",
      "In the context of biology, a neural network is a population of biological neurons chemically connected to each other by synapses.\n",
      "A neuron can serve an excitatory role, amplifying and propagating signals it receives, or an inhibitory role, suppressing signals instead.\n",
      "Very large interconnected networks are called large scale brain networks, and many of these together form brains and nervous systems.\n",
      "Signals generated by neural networks in the brain eventually travel through the nervous system and across neuromuscular junctions to muscle cells, where they cause contraction and thereby motion.\n",
      "In machine learning, a neural network is an artificial mathematical model used to approximate nonlinear functions.\n",
      "While early artificial neural networks were physical machines, today they are almost always implemented in software.\n",
      "The \"signal\" input to each neuron is a number, specifically a linear combination of the outputs of the connected neurons in the previous layer.\n",
      "The signal each neuron outputs is calculated from this number, according to its activation function.\n",
      "The behavior of the network depends on the strengths (or weights) of the connections between neurons.\n",
      "A network is trained by modifying these weights through empirical risk minimization or backpropagation in order to fit some preexisting dataset.\n",
      "The theoretical base for contemporary neural networks was independently proposed by Alexander Bain in 1873 and William James in 1890.\n",
      "Both posited that human thought emerged from interactions among large numbers of neurons inside the brain.\n",
      "In 1949, Donald Hebb described Hebbian learning, the idea that neural networks can change and learn over time by strengthening a synapse every time a signal travels along it.\n",
      "Artificial neural networks were originally used to model biological neural networks starting in the 1930s under the approach of connectionism.\n"
     ]
    }
   ],
   "source": [
    "# Analyze word count, sentence count, average word length, and average sentence length\n",
    "# all_sentences is tokenized into words but scrapped_data is not yet formatted\n",
    "\n",
    "print(f'Total number of words: {len(scrapped_data.split())}')\n",
    "print(f'Total number of sentences: {len(all_sentences)}')\n",
    "print(f'Average length of words: {sum(len(word) for word in scrapped_data.split()) / len(scrapped_data.split()):.1f} characters')\n",
    "print(f'Average sentence length: {len(scrapped_data) / len(all_sentences):.1f} characters')\n",
    "\n",
    "sentence_length = [len(sent.split()) for sent in all_sentences]\n",
    "length_distribution = nltk.FreqDist(sentence_length)\n",
    "\n",
    "print(\"\\nSentence Length Distribution:\")\n",
    "for length, count in sorted(length_distribution.items()):\n",
    "    print(f\"Length {length}: {count} sentences\")\n",
    "\n",
    "# Print sentences based on length\n",
    "print(\"\\nSentences shorter than 15 words:\")\n",
    "for sent in all_sentences:\n",
    "    if len(sent.split(' ')) < 15:\n",
    "        print(sent)\n",
    "\n",
    "print(\"\\nSentences between 15 and 30 words:\")\n",
    "for sent in all_sentences:\n",
    "    if 15 <= len(sent.split(' ')) < 30:\n",
    "        print(sent)"
   ]
  },
  {
   "cell_type": "markdown",
   "id": "71bff50a-ca1b-47e9-bd4b-c313cc8b78de",
   "metadata": {},
   "source": [
    "Start with the data in which the data is not yet sentence tokenized and prepare a word frequency list (dictionary) for all the data. [Word frequency list is a list (dictionary) that contains words and their corresponding frequencies (the number of times the words are used in the document)]. Do this the following way:\n",
    "\n",
    "- cleanup the document so that it contains only alphabetic text\n",
    "- tokenize words (surround each word with single quotes and put them in a list)\n",
    "- iterate on the tokenized word list and prepare a word frequency list (dictionary) while making sure not to include stopwords (short words such as 'to', 'is', etc.) in the frequency count"
   ]
  },
  {
   "cell_type": "code",
   "execution_count": 14,
   "id": "6e2d5451-9386-475d-aa4f-b614e661077a",
   "metadata": {},
   "outputs": [
    {
     "name": "stdout",
     "output_type": "stream",
     "text": [
      "formatted_text:\n",
      "A neural network is a group of interconnected units called neurons that send signals to one another Neurons can be either biological cells or mathematical models While individual neurons are simple many of them together in a network can perform complex tasks There are two main types of neural network In the context of biology a neural network is a population of biological neurons chemically connected to each other by synapses A given neuron can be connected to hundreds of thousands of synapses E\n",
      "\n",
      "First 10 key-value pairs in the word_freq dictionary:\n",
      "A: 4\n",
      "neural: 15\n",
      "network: 9\n",
      "group: 1\n",
      "interconnected: 3\n",
      "units: 1\n",
      "called: 4\n",
      "neurons: 7\n",
      "send: 1\n",
      "signals: 4\n"
     ]
    }
   ],
   "source": [
    "import re\n",
    "from nltk import word_tokenize\n",
    "from nltk.corpus import stopwords\n",
    "\n",
    "scrapped_data = re.sub ('[^a-zA-Z]', ' ', scrapped_data)  # remove all characters except alphabets\n",
    "formatted_text = re.sub (r'\\s+', ' ', scrapped_data)\n",
    "print(f'formatted_text:\\n{formatted_text[:500]}\\n')\n",
    "\n",
    "word_freq = {}\n",
    "for word in word_tokenize (formatted_text):  # word_tokenize will split text e.g., formatted_text into words and return a list of words\n",
    "    if word not in stopwords.words('english'):\n",
    "        if word not in word_freq.keys():\n",
    "            word_freq [word] = 1\n",
    "        else:\n",
    "            word_freq [word] += 1\n",
    "\n",
    "# print (word_freq)\n",
    "\n",
    "# Print the first 10 key-value pairs in the word_freq dictionary. Can use itertools, which provides better performance for large dictionaries\n",
    "print('First 10 key-value pairs in the word_freq dictionary:')\n",
    "for i, (word, freq) in enumerate(word_freq.items()):\n",
    "    if i < 10:\n",
    "        print(f\"{word}: {freq}\")\n",
    "    else:\n",
    "        break"
   ]
  },
  {
   "cell_type": "markdown",
   "id": "c4d44d92",
   "metadata": {},
   "source": [
    "Text Analysis"
   ]
  },
  {
   "cell_type": "code",
   "execution_count": 15,
   "id": "ebda2106",
   "metadata": {},
   "outputs": [
    {
     "name": "stdout",
     "output_type": "stream",
     "text": [
      "Total number of words: 489\n",
      "Total number of sentences: 24\n",
      "Average length of words: 5.7 characters\n",
      "Average sentence length: 135.7 characters\n",
      "\n",
      "Sentence Length Distribution:\n",
      "Length 8: 1 sentences\n",
      "Length 9: 1 sentences\n",
      "Length 12: 1 sentences\n",
      "Length 14: 2 sentences\n",
      "Length 15: 1 sentences\n",
      "Length 16: 5 sentences\n",
      "Length 17: 1 sentences\n",
      "Length 20: 4 sentences\n",
      "Length 21: 2 sentences\n",
      "Length 24: 1 sentences\n",
      "Length 28: 1 sentences\n",
      "Length 29: 1 sentences\n",
      "Length 33: 1 sentences\n",
      "Length 37: 1 sentences\n",
      "Length 52: 1 sentences\n",
      "\n",
      "Sentences shorter than 15 words:\n",
      "Neurons can be either biological cells or mathematical models.\n",
      "There are two main types of neural network.\n",
      "A given neuron can be connected to hundreds of thousands of synapses.\n",
      "Each neuron sends and receives electrochemical signals called action potentials to its connected neighbors.\n",
      "Populations of interconnected neurons that are smaller than neural networks are called neural circuits.\n",
      "\n",
      "Sentences between 15 and 30 words:\n",
      "A neural network is a group of interconnected units called neurons that send signals to one another.\n",
      "While individual neurons are simple, many of them together in a network can perform complex tasks.\n",
      "In the context of biology, a neural network is a population of biological neurons chemically connected to each other by synapses.\n",
      "A neuron can serve an excitatory role, amplifying and propagating signals it receives, or an inhibitory role, suppressing signals instead.\n",
      "Very large interconnected networks are called large scale brain networks, and many of these together form brains and nervous systems.\n",
      "Signals generated by neural networks in the brain eventually travel through the nervous system and across neuromuscular junctions to muscle cells, where they cause contraction and thereby motion.\n",
      "In machine learning, a neural network is an artificial mathematical model used to approximate nonlinear functions.\n",
      "While early artificial neural networks were physical machines, today they are almost always implemented in software.\n",
      "The \"signal\" input to each neuron is a number, specifically a linear combination of the outputs of the connected neurons in the previous layer.\n",
      "The signal each neuron outputs is calculated from this number, according to its activation function.\n",
      "The behavior of the network depends on the strengths (or weights) of the connections between neurons.\n",
      "A network is trained by modifying these weights through empirical risk minimization or backpropagation in order to fit some preexisting dataset.\n",
      "The theoretical base for contemporary neural networks was independently proposed by Alexander Bain in 1873 and William James in 1890.\n",
      "Both posited that human thought emerged from interactions among large numbers of neurons inside the brain.\n",
      "In 1949, Donald Hebb described Hebbian learning, the idea that neural networks can change and learn over time by strengthening a synapse every time a signal travels along it.\n",
      "Artificial neural networks were originally used to model biological neural networks starting in the 1930s under the approach of connectionism.\n"
     ]
    }
   ],
   "source": [
    "# Analyze word count, sentence count, average word length, and average sentence length\n",
    "\n",
    "print(f'Total number of words: {len(formatted_text.split())}')\n",
    "print(f'Total number of sentences: {len(all_sentences)}')\n",
    "print(f'Average length of words: {sum(len(word) for word in formatted_text.split()) / len(formatted_text.split()):.1f} characters')\n",
    "print(f'Average sentence length: {len(formatted_text) / len(all_sentences):.1f} characters')\n",
    "\n",
    "sentence_length = [len(sent.split()) for sent in all_sentences]\n",
    "length_distribution = nltk.FreqDist(sentence_length)\n",
    "\n",
    "print(\"\\nSentence Length Distribution:\")\n",
    "for length, count in sorted(length_distribution.items()):\n",
    "    print(f\"Length {length}: {count} sentences\")\n",
    "\n",
    "# Print sentences based on length\n",
    "print(\"\\nSentences shorter than 15 words:\")\n",
    "for sent in all_sentences:\n",
    "    if len(sent.split(' ')) < 15:\n",
    "        print(sent)\n",
    "\n",
    "print(\"\\nSentences between 15 and 30 words:\")\n",
    "for sent in all_sentences:\n",
    "    if 15 <= len(sent.split(' ')) < 30:\n",
    "        print(sent)"
   ]
  },
  {
   "cell_type": "markdown",
   "id": "b7446d1c",
   "metadata": {},
   "source": [
    "## Word Frequency Calculation"
   ]
  },
  {
   "cell_type": "markdown",
   "id": "af516ee2-144e-4c1d-97f9-8b1ae4a8b2bf",
   "metadata": {},
   "source": [
    "Convert the word frequencies to relative word frequencies by dividing each frequency by the maximum frequency.\n",
    "\n",
    "This allows the comparison of the frequencies of different words on the same scale."
   ]
  },
  {
   "cell_type": "code",
   "execution_count": 16,
   "id": "da5e0867-2491-4cc2-b203-251650a4e9fc",
   "metadata": {},
   "outputs": [
    {
     "name": "stdout",
     "output_type": "stream",
     "text": [
      "First 10 key-value pairs in the word_freq dictionary after normalization:\n",
      "A: 0.26666666666666666\n",
      "neural: 1.0\n",
      "network: 0.6\n",
      "group: 0.06666666666666667\n",
      "interconnected: 0.2\n",
      "units: 0.06666666666666667\n",
      "called: 0.26666666666666666\n",
      "neurons: 0.4666666666666667\n",
      "send: 0.06666666666666667\n",
      "signals: 0.26666666666666666\n"
     ]
    }
   ],
   "source": [
    "max_freq=max(word_freq.values())\n",
    "for word in word_freq.keys():\n",
    "    word_freq [word]= word_freq [word] / max_freq\n",
    "\n",
    "# print (word_freq)\n",
    "\n",
    "print('First 10 key-value pairs in the word_freq dictionary after normalization:')\n",
    "for i, (word, freq) in enumerate(word_freq.items()):\n",
    "    if i < 10:\n",
    "        print(f\"{word}: {freq}\")\n",
    "    else:\n",
    "        break"
   ]
  },
  {
   "cell_type": "raw",
   "id": "de189dbe-55b4-4f97-9af1-e4f3bd2c31b5",
   "metadata": {},
   "source": [
    "After finished preparing the sentence list and relative word frequency list (dictionary) above, now prepare a sentence score list (dictionary) containing each sentence and its corresponding sentence score. (The sentence score is calculated by adding the word frequencies (from the word frequency list/dictionary) of all the words that make up the sentence.) Exclude the sentences that are 20 or more words long. Do this in the following way:\n",
    "\n",
    "iterate on the sentence list:   \n",
    "    if the sentence is less than 20 word long:\n",
    "        for each sentence, iterate on its freshly prepared tokenized wordlist:\n",
    "            if the word is in the word frequency list (dictionary):\n",
    "                if the sentence score exist in the sentence score list (dictionary):\n",
    "                    add the word frequency to the sentence score \n",
    "                else:\n",
    "                    initialize sentence score with the word frequency value"
   ]
  },
  {
   "cell_type": "markdown",
   "id": "79228d45",
   "metadata": {},
   "source": [
    "## Sentence Scoring and Selection"
   ]
  },
  {
   "cell_type": "code",
   "execution_count": 17,
   "id": "10019859-ebce-486f-a65a-a9d8ed8529f0",
   "metadata": {},
   "outputs": [
    {
     "name": "stdout",
     "output_type": "stream",
     "text": [
      "key-value pairs in the sent_scores dictionary:\n",
      "A neural network is a group of interconnected units called neurons that send signals to one another.: 3.533333333333334\n",
      "Neurons can be either biological cells or mathematical models.: 0.7999999999999999\n",
      "While individual neurons are simple, many of them together in a network can perform complex tasks.: 1.9333333333333333\n",
      "There are two main types of neural network.: 1.8666666666666667\n",
      "In the context of biology, a neural network is a population of biological neurons chemically connected to each other by synapses.: 3.2\n",
      "A given neuron can be connected to hundreds of thousands of synapses.: 1.2\n",
      "Each neuron sends and receives electrochemical signals called action potentials to its connected neighbors.: 1.6666666666666665\n",
      "A neuron can serve an excitatory role, amplifying and propagating signals it receives, or an inhibitory role, suppressing signals instead.: 2.0666666666666664\n",
      "Populations of interconnected neurons that are smaller than neural networks are called neural circuits.: 3.8666666666666667\n",
      "Very large interconnected networks are called large scale brain networks, and many of these together form brains and nervous systems.: 3.333333333333334\n",
      "In machine learning, a neural network is an artificial mathematical model used to approximate nonlinear functions.: 3.266666666666667\n",
      "While early artificial neural networks were physical machines, today they are almost always implemented in software.: 2.8000000000000016\n",
      "The \"signal\" input to each neuron is a number, specifically a linear combination of the outputs of the connected neurons in the previous layer.: 2.5333333333333337\n",
      "The signal each neuron outputs is calculated from this number, according to its activation function.: 1.3333333333333333\n",
      "The behavior of the network depends on the strengths (or weights) of the connections between neurons.: 1.7333333333333334\n",
      "A network is trained by modifying these weights through empirical risk minimization or backpropagation in order to fit some preexisting dataset.: 1.6666666666666665\n",
      "The theoretical base for contemporary neural networks was independently proposed by Alexander Bain in 1873 and William James in 1890.: 2.600000000000001\n",
      "Both posited that human thought emerged from interactions among large numbers of neurons inside the brain.: 1.4666666666666666\n",
      "Artificial neural networks were originally used to model biological neural networks starting in the 1930s under the approach of connectionism.: 4.533333333333333\n"
     ]
    }
   ],
   "source": [
    "sent_scores = {}\n",
    "for sent in all_sentences:\n",
    "    if len (sent.split(' ')) < 25:\n",
    "        for word in word_tokenize (sent):\n",
    "            if word in word_freq.keys():            \n",
    "                if sent in sent_scores.keys():\n",
    "                    sent_scores [sent] += word_freq [word]\n",
    "                else:\n",
    "                    sent_scores [sent] = word_freq [word]\n",
    "\n",
    "# print (sent_scores)\n",
    "\n",
    "print('key-value pairs in the sent_scores dictionary:')\n",
    "for i, (sent, score) in enumerate(sent_scores.items()):\n",
    "    if i < 100:\n",
    "        print(f\"{sent}: {score}\")\n",
    "    else:\n",
    "        break"
   ]
  },
  {
   "cell_type": "markdown",
   "id": "1abfe11e",
   "metadata": {},
   "source": [
    "## Variations"
   ]
  },
  {
   "cell_type": "markdown",
   "id": "aa0ebcd1",
   "metadata": {},
   "source": [
    "### Variation 1. Max sentence length: 25. Number of sentences: 3"
   ]
  },
  {
   "cell_type": "markdown",
   "id": "1a06f690-55b8-43d8-863b-50520591388f",
   "metadata": {},
   "source": [
    "From the sentence score list (dictionary), extract three sentences with top three scores and put them in a list."
   ]
  },
  {
   "cell_type": "code",
   "execution_count": 18,
   "id": "c1ca4a04-7245-42b8-ad10-a634049cb2b9",
   "metadata": {},
   "outputs": [
    {
     "name": "stdout",
     "output_type": "stream",
     "text": [
      "['Artificial neural networks were originally used to model biological neural networks starting in the 1930s under the approach of connectionism.', 'Populations of interconnected neurons that are smaller than neural networks are called neural circuits.']\n"
     ]
    }
   ],
   "source": [
    "import heapq\n",
    "selected_sentences = heapq.nlargest(3, sent_scores, key=sent_scores.get)\n",
    "\n",
    "print (selected_sentences[:2])"
   ]
  },
  {
   "cell_type": "markdown",
   "id": "4fd56c6d-f0be-47dd-b6eb-b69af586017d",
   "metadata": {},
   "source": [
    "Convert the above list of sentences into printable quoted text. Then print the quoted text."
   ]
  },
  {
   "cell_type": "code",
   "execution_count": 19,
   "id": "b78e210a-bb6b-4b8b-a3fb-e1b401bb31f6",
   "metadata": {},
   "outputs": [
    {
     "name": "stdout",
     "output_type": "stream",
     "text": [
      "Artificial neural networks were originally used to model biological neural networks starting in the 1930s under the approach of connectionism.\n",
      "Populations of interconnected neurons that are smaller than neural networks are called neural circuits.\n",
      "A neural network is a group of interconnected units called neurons that send signals to one another.\n"
     ]
    }
   ],
   "source": [
    "selected_summary = \" \".join (selected_sentences)\n",
    "for sent in selected_sentences:\n",
    "    print (sent)"
   ]
  },
  {
   "cell_type": "markdown",
   "id": "cacbef15",
   "metadata": {},
   "source": [
    "### Variation 2. Max sentence length: 30. Number of sentences: 4"
   ]
  },
  {
   "cell_type": "code",
   "execution_count": 20,
   "id": "f38fdcc6-3c50-4a0f-a613-47cf8769abf6",
   "metadata": {},
   "outputs": [
    {
     "name": "stdout",
     "output_type": "stream",
     "text": [
      "Key-value pairs in the sent_scores2 dictionary:\n",
      "A neural network is a group of interconnected units called neurons that send signals to one another.: 3.533333333333334\n",
      "Neurons can be either biological cells or mathematical models.: 0.7999999999999999\n",
      "While individual neurons are simple, many of them together in a network can perform complex tasks.: 1.9333333333333333\n",
      "There are two main types of neural network.: 1.8666666666666667\n",
      "In the context of biology, a neural network is a population of biological neurons chemically connected to each other by synapses.: 3.2\n",
      "A given neuron can be connected to hundreds of thousands of synapses.: 1.2\n",
      "Each neuron sends and receives electrochemical signals called action potentials to its connected neighbors.: 1.6666666666666665\n",
      "A neuron can serve an excitatory role, amplifying and propagating signals it receives, or an inhibitory role, suppressing signals instead.: 2.0666666666666664\n",
      "Populations of interconnected neurons that are smaller than neural networks are called neural circuits.: 3.8666666666666667\n",
      "Very large interconnected networks are called large scale brain networks, and many of these together form brains and nervous systems.: 3.333333333333334\n",
      "Signals generated by neural networks in the brain eventually travel through the nervous system and across neuromuscular junctions to muscle cells, where they cause contraction and thereby motion.: 3.1333333333333355\n",
      "In machine learning, a neural network is an artificial mathematical model used to approximate nonlinear functions.: 3.266666666666667\n",
      "While early artificial neural networks were physical machines, today they are almost always implemented in software.: 2.8000000000000016\n",
      "The \"signal\" input to each neuron is a number, specifically a linear combination of the outputs of the connected neurons in the previous layer.: 2.5333333333333337\n",
      "The signal each neuron outputs is calculated from this number, according to its activation function.: 1.3333333333333333\n",
      "The behavior of the network depends on the strengths (or weights) of the connections between neurons.: 1.7333333333333334\n",
      "A network is trained by modifying these weights through empirical risk minimization or backpropagation in order to fit some preexisting dataset.: 1.6666666666666665\n",
      "The theoretical base for contemporary neural networks was independently proposed by Alexander Bain in 1873 and William James in 1890.: 2.600000000000001\n",
      "Both posited that human thought emerged from interactions among large numbers of neurons inside the brain.: 1.4666666666666666\n",
      "In 1949, Donald Hebb described Hebbian learning, the idea that neural networks can change and learn over time by strengthening a synapse every time a signal travels along it.: 3.4000000000000017\n",
      "Artificial neural networks were originally used to model biological neural networks starting in the 1930s under the approach of connectionism.: 4.533333333333333\n"
     ]
    }
   ],
   "source": [
    "sent_scores2 = {}\n",
    "for sent in all_sentences:\n",
    "    if len (sent.split(' ')) < 30:\n",
    "        for word in word_tokenize (sent):\n",
    "            if word in word_freq.keys():            \n",
    "                if sent in sent_scores2.keys():\n",
    "                    sent_scores2 [sent] += word_freq [word]\n",
    "                else:\n",
    "                    sent_scores2 [sent] = word_freq [word]\n",
    "\n",
    "print('Key-value pairs in the sent_scores2 dictionary:')\n",
    "for i, (sent, score) in enumerate(sent_scores2.items()):\n",
    "    if i < 100:\n",
    "        print(f\"{sent}: {score}\")\n",
    "    else:\n",
    "        break"
   ]
  },
  {
   "cell_type": "code",
   "execution_count": 21,
   "id": "e7463118",
   "metadata": {},
   "outputs": [
    {
     "name": "stdout",
     "output_type": "stream",
     "text": [
      "Artificial neural networks were originally used to model biological neural networks starting in the 1930s under the approach of connectionism.\n",
      "Populations of interconnected neurons that are smaller than neural networks are called neural circuits.\n",
      "A neural network is a group of interconnected units called neurons that send signals to one another.\n",
      "Very large interconnected networks are called large scale brain networks, and many of these together form brains and nervous systems.\n"
     ]
    }
   ],
   "source": [
    "import heapq\n",
    "selected_sentences2 = heapq.nlargest(4, sent_scores, sent_scores.get)\n",
    "\n",
    "selected_summary2 = \" \".join (selected_sentences2)\n",
    "\n",
    "for sent in selected_sentences2:\n",
    "    print (sent)"
   ]
  },
  {
   "cell_type": "markdown",
   "id": "86ff1bd5",
   "metadata": {},
   "source": [
    "### Variation 3. Max sentence length: 15. Number of sentences: 5"
   ]
  },
  {
   "cell_type": "code",
   "execution_count": 22,
   "id": "1a85e7d6",
   "metadata": {},
   "outputs": [
    {
     "name": "stdout",
     "output_type": "stream",
     "text": [
      "Key-value pairs in the sent_scores3 dictionary:\n",
      "Neurons can be either biological cells or mathematical models.: 0.7999999999999999\n",
      "There are two main types of neural network.: 1.8666666666666667\n",
      "A given neuron can be connected to hundreds of thousands of synapses.: 1.2\n",
      "Each neuron sends and receives electrochemical signals called action potentials to its connected neighbors.: 1.6666666666666665\n",
      "Populations of interconnected neurons that are smaller than neural networks are called neural circuits.: 3.8666666666666667\n"
     ]
    }
   ],
   "source": [
    "sent_scores3 = {}\n",
    "for sent in all_sentences:\n",
    "    if len (sent.split(' ')) < 15:\n",
    "        for word in word_tokenize (sent):\n",
    "            if word in word_freq.keys():            \n",
    "                if sent in sent_scores3.keys():\n",
    "                    sent_scores3 [sent] += word_freq [word]\n",
    "                else:\n",
    "                    sent_scores3 [sent] = word_freq [word]\n",
    "\n",
    "print('Key-value pairs in the sent_scores3 dictionary:')\n",
    "for i, (sent, score) in enumerate(sent_scores3.items()):\n",
    "    if i < 100:\n",
    "        print(f\"{sent}: {score}\")\n",
    "    else:\n",
    "        break"
   ]
  },
  {
   "cell_type": "code",
   "execution_count": 23,
   "id": "c39c5648",
   "metadata": {},
   "outputs": [
    {
     "name": "stdout",
     "output_type": "stream",
     "text": [
      "Artificial neural networks were originally used to model biological neural networks starting in the 1930s under the approach of connectionism.\n",
      "Populations of interconnected neurons that are smaller than neural networks are called neural circuits.\n",
      "A neural network is a group of interconnected units called neurons that send signals to one another.\n",
      "Very large interconnected networks are called large scale brain networks, and many of these together form brains and nervous systems.\n",
      "In machine learning, a neural network is an artificial mathematical model used to approximate nonlinear functions.\n"
     ]
    }
   ],
   "source": [
    "import heapq\n",
    "selected_sentences3 = heapq.nlargest(5, sent_scores, sent_scores.get)\n",
    "\n",
    "selected_summary3 = \" \".join (selected_sentences3)\n",
    "\n",
    "for sent in selected_sentences3:\n",
    "    print (sent)"
   ]
  },
  {
   "cell_type": "markdown",
   "id": "c254e293",
   "metadata": {},
   "source": [
    "## Conclusion"
   ]
  },
  {
   "cell_type": "markdown",
   "id": "398c7425",
   "metadata": {},
   "source": [
    "The summaries are largely identical regardless of the different configurations used.\n",
    "\n",
    "The consistency across variations of the summaries produced are very similar. This indicates that the key sentences identified by the algorithm are consistently ranked high irrespective of the sentence length limit and the number of sentences chosen.\n",
    "\n",
    "The different sentence length limits (15, 25, and 30) did not significantly alter the outcome. This may imply that most sentences in the text fall within the shorter length limits, or the high-scoring sentences are inherently short.\n",
    "\n",
    "One possible reason is the dataset used in this example is relatively small, and the majority of the sentences are of similar length. As a result, the algorithm may have difficulty distinguishing between the importance of different sentences. In a larger dataset with more diverse sentence lengths and structures, the variations in the summaries may be more pronounced.\n",
    "\n",
    "Considering the sentence scoring and text analysis, medium length sentences (15-30 words) seem to contain more substantial information and context, making them valuable for summaries. They strike a balance between detail and conciseness."
   ]
  }
 ],
 "metadata": {
  "kernelspec": {
   "display_name": "Python 3",
   "language": "python",
   "name": "python3"
  },
  "language_info": {
   "codemirror_mode": {
    "name": "ipython",
    "version": 3
   },
   "file_extension": ".py",
   "mimetype": "text/x-python",
   "name": "python",
   "nbconvert_exporter": "python",
   "pygments_lexer": "ipython3",
   "version": "3.11.0"
  }
 },
 "nbformat": 4,
 "nbformat_minor": 5
}
