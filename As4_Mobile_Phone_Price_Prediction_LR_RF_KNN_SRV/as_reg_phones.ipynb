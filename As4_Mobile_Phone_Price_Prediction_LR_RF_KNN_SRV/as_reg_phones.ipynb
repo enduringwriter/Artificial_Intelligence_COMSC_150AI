{
 "cells": [
  {
   "attachments": {},
   "cell_type": "markdown",
   "id": "891078ec-1ee3-4bc8-8137-e35733a43cce",
   "metadata": {},
   "source": [
    "## Supervised learning using Regression\n",
    "\n",
    "## Predicting Price\n",
    "\n",
    "## Objectives\n",
    "\n",
    "On completing this assignment, you will learn how to write a simple AI application involving supervised learning using regression.\n",
    "\n",
    "## Description\n",
    "\n",
    "Write an AI application which, when provided with an Android cell phone attributes, will predict its price. For training and testing the application, please use the labeled data set provided in the file, k_mobilephonepriceprediction.csv. The data set contains data regarding 1370 android cell phones with 17 features including the price. Use 80% of the data items for training, and the remaining 20% for testing. Train the sklearn's Linear Regression (LinearRegression) model. After the model is trained, test it using the test data and produce the Mean Absolute Percentage Error (MeanAbsolutePercentageError) (MAPE) reflecting its performance. Also produce trained model's coefficient (coeff_) and intercept (intercpt_) values. \n",
    "\n",
    "#### Regressor models to be used\n",
    "\n",
    "Try out the following regression models of sklearn's library and compare their performance using Mean Absolute Percentage Error (MAPE) values.\n",
    "\n",
    "- Linear Regressor (LinearRegression) from sklearn,linear_model\n",
    "- KNeighbor Regressor (KNeighborRegressor) from sklearn.neighbors using n_neighbors=5\n",
    "- Support Vector Regressor (SVR) from sklearn.svm\n",
    "- Random Forest Regressor (RandomForestRegressor) from sklearn.ensemble \n",
    "\n",
    "Also try out made-up attribute values of a few cell phones with the best performing model from the above list and report their attribute values used and predicted prices received.\n",
    "\n",
    "## Implementation \n",
    "\n",
    "#### Preprocessing\n",
    "\n",
    "- Remove missing and null containing rows\n",
    "- Remove duplicate rows\n",
    "\n",
    "#### Columns Used\n",
    "\n",
    "Although data set provided have 17 columns including the price, use only the following including the price:\n",
    "\n",
    "Rating,\tSpec_score,\tInbuilt_memory, Processor, company, Price\n",
    "\n",
    "#### Column Cleaning\n",
    "\n",
    "- Rating and Spec_score column values are already numerical.\n",
    "  \n",
    "- Inbuilt_memory values needs cleaning because they are strings and are given in the form such as: 64 GB etc. We need to remove GB and convert their values into float.\n",
    "  \n",
    "- Processor values are strings such as 'Octa Core Processor', '1.8 GHz Processor' and they seems to be ordinal type. So, we need to convert them into numerical values using sklearn.preprocessing's label encoder (LabelEncoder).\n",
    "  \n",
    "- Company values contain a large number of different company names. We need to keep the top 4 names and change the remaining into \"Others\". Company names are strings and they are nominal type. So, we need to convert them into numeric using panda's getdummies function (one hot decoding).\n",
    "\n",
    "- Price values needs cleaning because they are given as strings with commas in them such as 9,999. So, we need to remove commas and convert them into float.\n",
    "\n",
    "## Discussion\n",
    "\n",
    "#### Column Data Types\n",
    "\n",
    "Data values are either quantitavtive or qualitative.\n",
    "\n",
    "#### Quantitative (Numerical) Values\n",
    "\n",
    "All quantitative (numrical) values can be shown along a number line and we can perform mathematical operations (+, -, *, /) upon them. These values could be either discrete or continuous.\n",
    "\n",
    "##### Discrete Values\n",
    " \r",
    "Discrete numerical values exist along a number line within a range but theyAalways have some value that are not included within the range. For example, int or whole number values are discrete numerical values because they don't include the fractional or decimal values within the range.\n",
    "\n",
    "##### Continuous Values\n",
    "\n",
    "Continuous numerical values also exist along a number line within a range but they do not have any values that are excluded within the range. For example, float or decimal number values within the range are continuous numerical values because they don't exclude any value within the range.\n",
    "\n",
    "For example, shoe sizes are discrete values because there are no show sizes of 8.1, 8.2 etc. However, foot size are considered continuous values because we can specify a foot size of 8.1, 8.2 etc.\n",
    "\n",
    "Regressors versus Classifiers \n",
    "\n",
    "In our supervised learning problems, if the target (label) values are continuous such as prices (decimal values) then we use regressors to solve them. Otherwise we use classifiers to solve them.\n",
    "\n",
    "\n",
    "#### Quanlitative (Categorical) (Non-numerical) Values\n",
    "\n",
    "Qualitative (Categorical) (non-numrical) values are not shown along a number line and we can perform mathematical operations (+, -, *, /) upon them. These values could be either nominal or ordinal.\n",
    "\n",
    "##### Nominal Values\n",
    " \n",
    "When data values are just names without any ranking or order to them, they are considered nominal values. For example, if a hair-color column contains values such black, brown, red etc. These value are considered nominal values. \n",
    "\n",
    "##### Ordinal Values\n",
    "\n",
    "When data values are names but there is an implied ranking or order to them, they are considered ordinal values. For example, if a job satisfaction column contains values such as unsatisfied, satisfied, very satisfied ets. then these values are considered ordinal values.\n",
    "\n",
    "Implementing nominal and ordinal values\n",
    "\n",
    "Both nominal and ordinal value columns are converted to numerical values. For converting nominal values, we use Pandas' getdummies method. It creates separate column for each unique namevvalue. So, in our hair color example above, it will create a column for each color and assign 0 or 1 indicating presence or absent of the color. \n",
    "\n",
    "On ther hand, for an ordinal values column, we used sklearn.preprocessing module's label encoder (LabelEncoder). It wdoes not create any new columns. Instead, it substitutes value 0, 1, 2, 3, etc for ordered name values. \n",
    "\n",
    "-4016-a63b-0a57016a58d3.png)\n",
    "\n",
    "## Implementation Notes\n",
    "\n",
    "\n",
    "#### Dataset source\n",
    "\n",
    "The data set was downloaded fity-data-determining-factors\n",
    "\n",
    "\n",
    "## Submittal\n",
    "\n",
    "The uploaded submittal should contain the following:\n",
    "\n",
    "- jpynb file after running the application from start to finish containing the marked source code, output, and your interaction.\n",
    "  \n",
    "- the corresponding html file.\n",
    "\n",
    "## Coding\n",
    "\n",
    "Follow the steps below."
   ]
  },
  {
   "cell_type": "code",
   "execution_count": 1932,
   "id": "8a18fb38-69b7-4c44-98fb-9bfd93b4b801",
   "metadata": {},
   "outputs": [
    {
     "name": "stdout",
     "output_type": "stream",
     "text": [
      "(1370, 17)\n"
     ]
    },
    {
     "data": {
      "text/html": [
       "<div>\n",
       "<style scoped>\n",
       "    .dataframe tbody tr th:only-of-type {\n",
       "        vertical-align: middle;\n",
       "    }\n",
       "\n",
       "    .dataframe tbody tr th {\n",
       "        vertical-align: top;\n",
       "    }\n",
       "\n",
       "    .dataframe thead th {\n",
       "        text-align: right;\n",
       "    }\n",
       "</style>\n",
       "<table border=\"1\" class=\"dataframe\">\n",
       "  <thead>\n",
       "    <tr style=\"text-align: right;\">\n",
       "      <th></th>\n",
       "      <th>Name</th>\n",
       "      <th>Rating</th>\n",
       "      <th>Spec_score</th>\n",
       "      <th>No_of_sim</th>\n",
       "      <th>Ram</th>\n",
       "      <th>Battery</th>\n",
       "      <th>Display</th>\n",
       "      <th>Camera</th>\n",
       "      <th>External_Memory</th>\n",
       "      <th>Android_version</th>\n",
       "      <th>Price</th>\n",
       "      <th>company</th>\n",
       "      <th>Inbuilt_memory</th>\n",
       "      <th>fast_charging</th>\n",
       "      <th>Screen_resolution</th>\n",
       "      <th>Processor</th>\n",
       "      <th>Processor_name</th>\n",
       "    </tr>\n",
       "  </thead>\n",
       "  <tbody>\n",
       "    <tr>\n",
       "      <th>0</th>\n",
       "      <td>Samsung Galaxy F14 5G</td>\n",
       "      <td>4.65</td>\n",
       "      <td>68</td>\n",
       "      <td>Dual Sim, 3G, 4G, 5G, VoLTE,</td>\n",
       "      <td>4 GB RAM</td>\n",
       "      <td>6000 mAh Battery</td>\n",
       "      <td>6.6 inches</td>\n",
       "      <td>50 MP + 2 MP Dual Rear &amp;amp; 13 MP Front Camera</td>\n",
       "      <td>Memory Card Supported, upto 1 TB</td>\n",
       "      <td>13</td>\n",
       "      <td>9,999</td>\n",
       "      <td>Samsung</td>\n",
       "      <td>128 GB inbuilt</td>\n",
       "      <td>25W Fast Charging</td>\n",
       "      <td>2408 x 1080 px Display with Water Drop Notch</td>\n",
       "      <td>Octa Core Processor</td>\n",
       "      <td>Exynos 1330</td>\n",
       "    </tr>\n",
       "    <tr>\n",
       "      <th>1</th>\n",
       "      <td>Samsung Galaxy A11</td>\n",
       "      <td>4.20</td>\n",
       "      <td>63</td>\n",
       "      <td>Dual Sim, 3G, 4G, VoLTE,</td>\n",
       "      <td>2 GB RAM</td>\n",
       "      <td>4000 mAh Battery</td>\n",
       "      <td>6.4 inches</td>\n",
       "      <td>13 MP + 5 MP + 2 MP Triple Rear &amp;amp; 8 MP Fro...</td>\n",
       "      <td>Memory Card Supported, upto 512 GB</td>\n",
       "      <td>10</td>\n",
       "      <td>9,990</td>\n",
       "      <td>Samsung</td>\n",
       "      <td>32 GB inbuilt</td>\n",
       "      <td>15W Fast Charging</td>\n",
       "      <td>720 x 1560 px Display with Punch Hole</td>\n",
       "      <td>1.8 GHz Processor</td>\n",
       "      <td>Octa Core</td>\n",
       "    </tr>\n",
       "    <tr>\n",
       "      <th>2</th>\n",
       "      <td>Samsung Galaxy A13</td>\n",
       "      <td>4.30</td>\n",
       "      <td>75</td>\n",
       "      <td>Dual Sim, 3G, 4G, VoLTE,</td>\n",
       "      <td>4 GB RAM</td>\n",
       "      <td>5000 mAh Battery</td>\n",
       "      <td>6.6 inches</td>\n",
       "      <td>50 MP Quad Rear &amp;amp; 8 MP Front Camera</td>\n",
       "      <td>Memory Card Supported, upto 1 TB</td>\n",
       "      <td>12</td>\n",
       "      <td>11,999</td>\n",
       "      <td>Samsung</td>\n",
       "      <td>64 GB inbuilt</td>\n",
       "      <td>25W Fast Charging</td>\n",
       "      <td>1080 x 2408 px Display with Water Drop Notch</td>\n",
       "      <td>2 GHz Processor</td>\n",
       "      <td>Octa Core</td>\n",
       "    </tr>\n",
       "    <tr>\n",
       "      <th>3</th>\n",
       "      <td>Samsung Galaxy F23</td>\n",
       "      <td>4.10</td>\n",
       "      <td>73</td>\n",
       "      <td>Dual Sim, 3G, 4G, VoLTE,</td>\n",
       "      <td>4 GB RAM</td>\n",
       "      <td>6000 mAh Battery</td>\n",
       "      <td>6.4 inches</td>\n",
       "      <td>48 MP Quad Rear &amp;amp; 13 MP Front Camera</td>\n",
       "      <td>Memory Card Supported, upto 1 TB</td>\n",
       "      <td>12</td>\n",
       "      <td>11,999</td>\n",
       "      <td>Samsung</td>\n",
       "      <td>64 GB inbuilt</td>\n",
       "      <td>NaN</td>\n",
       "      <td>720 x 1600 px</td>\n",
       "      <td>Octa Core</td>\n",
       "      <td>Helio G88</td>\n",
       "    </tr>\n",
       "    <tr>\n",
       "      <th>4</th>\n",
       "      <td>Samsung Galaxy A03s (4GB RAM + 64GB)</td>\n",
       "      <td>4.10</td>\n",
       "      <td>69</td>\n",
       "      <td>Dual Sim, 3G, 4G, VoLTE,</td>\n",
       "      <td>4 GB RAM</td>\n",
       "      <td>5000 mAh Battery</td>\n",
       "      <td>6.5 inches</td>\n",
       "      <td>13 MP + 2 MP + 2 MP Triple Rear &amp;amp; 5 MP Fro...</td>\n",
       "      <td>Memory Card Supported, upto 1 TB</td>\n",
       "      <td>11</td>\n",
       "      <td>11,999</td>\n",
       "      <td>Samsung</td>\n",
       "      <td>64 GB inbuilt</td>\n",
       "      <td>15W Fast Charging</td>\n",
       "      <td>720 x 1600 px Display with Water Drop Notch</td>\n",
       "      <td>Octa Core</td>\n",
       "      <td>Helio P35</td>\n",
       "    </tr>\n",
       "    <tr>\n",
       "      <th>...</th>\n",
       "      <td>...</td>\n",
       "      <td>...</td>\n",
       "      <td>...</td>\n",
       "      <td>...</td>\n",
       "      <td>...</td>\n",
       "      <td>...</td>\n",
       "      <td>...</td>\n",
       "      <td>...</td>\n",
       "      <td>...</td>\n",
       "      <td>...</td>\n",
       "      <td>...</td>\n",
       "      <td>...</td>\n",
       "      <td>...</td>\n",
       "      <td>...</td>\n",
       "      <td>...</td>\n",
       "      <td>...</td>\n",
       "      <td>...</td>\n",
       "    </tr>\n",
       "    <tr>\n",
       "      <th>1365</th>\n",
       "      <td>TCL 40R</td>\n",
       "      <td>4.05</td>\n",
       "      <td>75</td>\n",
       "      <td>Dual Sim, 3G, 4G, 5G, VoLTE,</td>\n",
       "      <td>4 GB RAM</td>\n",
       "      <td>5000 mAh Battery</td>\n",
       "      <td>6.6 inches</td>\n",
       "      <td>50 MP + 2 MP + 2 MP Triple Rear &amp;amp; 8 MP Fro...</td>\n",
       "      <td>Memory Card (Hybrid)</td>\n",
       "      <td>12</td>\n",
       "      <td>18,999</td>\n",
       "      <td>TCL</td>\n",
       "      <td>64 GB inbuilt</td>\n",
       "      <td>15W Fast Charging</td>\n",
       "      <td>720 x 1612 px</td>\n",
       "      <td>Octa Core</td>\n",
       "      <td>Dimensity 700 5G</td>\n",
       "    </tr>\n",
       "    <tr>\n",
       "      <th>1366</th>\n",
       "      <td>TCL 50 XL NxtPaper 5G</td>\n",
       "      <td>4.10</td>\n",
       "      <td>80</td>\n",
       "      <td>Dual Sim, 3G, 4G, VoLTE,</td>\n",
       "      <td>8 GB RAM</td>\n",
       "      <td>5000 mAh Battery</td>\n",
       "      <td>6.8 inches</td>\n",
       "      <td>50 MP + 2 MP Dual Rear &amp;amp; 16 MP Front Camera</td>\n",
       "      <td>Memory Card (Hybrid)</td>\n",
       "      <td>14</td>\n",
       "      <td>24,990</td>\n",
       "      <td>TCL</td>\n",
       "      <td>128 GB inbuilt</td>\n",
       "      <td>33W Fast Charging</td>\n",
       "      <td>1200 x 2400 px</td>\n",
       "      <td>Octa Core</td>\n",
       "      <td>Dimensity 7050</td>\n",
       "    </tr>\n",
       "    <tr>\n",
       "      <th>1367</th>\n",
       "      <td>TCL 50 XE NxtPaper 5G</td>\n",
       "      <td>4.00</td>\n",
       "      <td>80</td>\n",
       "      <td>Dual Sim, 3G, 4G, 5G, VoLTE,</td>\n",
       "      <td>6 GB RAM</td>\n",
       "      <td>5000 mAh Battery</td>\n",
       "      <td>6.6 inches</td>\n",
       "      <td>50 MP + 2 MP Dual Rear &amp;amp; 16 MP Front Camera</td>\n",
       "      <td>Memory Card Supported, upto 1 TB</td>\n",
       "      <td>13</td>\n",
       "      <td>23,990</td>\n",
       "      <td>TCL</td>\n",
       "      <td>256 GB inbuilt</td>\n",
       "      <td>18W Fast Charging</td>\n",
       "      <td>720 x 1612 px</td>\n",
       "      <td>Octa Core</td>\n",
       "      <td>Dimensity 6080</td>\n",
       "    </tr>\n",
       "    <tr>\n",
       "      <th>1368</th>\n",
       "      <td>TCL 40 NxtPaper 5G</td>\n",
       "      <td>4.50</td>\n",
       "      <td>79</td>\n",
       "      <td>Dual Sim, 3G, 4G, 5G, VoLTE,</td>\n",
       "      <td>6 GB RAM</td>\n",
       "      <td>5000 mAh Battery</td>\n",
       "      <td>6.6 inches</td>\n",
       "      <td>50 MP + 2 MP + 2 MP Triple Rear &amp;amp; 8 MP Fro...</td>\n",
       "      <td>Memory Card Supported, upto 1 TB</td>\n",
       "      <td>13</td>\n",
       "      <td>22,499</td>\n",
       "      <td>TCL</td>\n",
       "      <td>256 GB inbuilt</td>\n",
       "      <td>15W Fast Charging</td>\n",
       "      <td>720 x 1612 px</td>\n",
       "      <td>Octa Core</td>\n",
       "      <td>Dimensity 6020</td>\n",
       "    </tr>\n",
       "    <tr>\n",
       "      <th>1369</th>\n",
       "      <td>TCL Trifold</td>\n",
       "      <td>4.65</td>\n",
       "      <td>93</td>\n",
       "      <td>Dual Sim, 3G, 4G, 5G, VoLTE, Vo5G,</td>\n",
       "      <td>12 GB RAM</td>\n",
       "      <td>4600 mAh Battery</td>\n",
       "      <td>10 inches</td>\n",
       "      <td>Foldable Display, Dual Display</td>\n",
       "      <td>50 MP + 48 MP + 8 MP Triple Rear &amp;amp; 32 MP F...</td>\n",
       "      <td>13</td>\n",
       "      <td>1,19,990</td>\n",
       "      <td>TCL</td>\n",
       "      <td>256 GB inbuilt</td>\n",
       "      <td>67W Fast Charging</td>\n",
       "      <td>1916 x 2160 px</td>\n",
       "      <td>Octa Core</td>\n",
       "      <td>Snapdragon 8 Gen2</td>\n",
       "    </tr>\n",
       "  </tbody>\n",
       "</table>\n",
       "<p>1370 rows × 17 columns</p>\n",
       "</div>"
      ],
      "text/plain": [
       "                                      Name  Rating  Spec_score  \\\n",
       "0                    Samsung Galaxy F14 5G    4.65          68   \n",
       "1                       Samsung Galaxy A11    4.20          63   \n",
       "2                       Samsung Galaxy A13    4.30          75   \n",
       "3                       Samsung Galaxy F23    4.10          73   \n",
       "4     Samsung Galaxy A03s (4GB RAM + 64GB)    4.10          69   \n",
       "...                                    ...     ...         ...   \n",
       "1365                               TCL 40R    4.05          75   \n",
       "1366                 TCL 50 XL NxtPaper 5G    4.10          80   \n",
       "1367                 TCL 50 XE NxtPaper 5G    4.00          80   \n",
       "1368                    TCL 40 NxtPaper 5G    4.50          79   \n",
       "1369                           TCL Trifold    4.65          93   \n",
       "\n",
       "                                No_of_sim        Ram            Battery  \\\n",
       "0           Dual Sim, 3G, 4G, 5G, VoLTE,    4 GB RAM  6000 mAh Battery    \n",
       "1               Dual Sim, 3G, 4G, VoLTE,    2 GB RAM  4000 mAh Battery    \n",
       "2               Dual Sim, 3G, 4G, VoLTE,    4 GB RAM  5000 mAh Battery    \n",
       "3               Dual Sim, 3G, 4G, VoLTE,    4 GB RAM   6000 mAh Battery   \n",
       "4               Dual Sim, 3G, 4G, VoLTE,    4 GB RAM  5000 mAh Battery    \n",
       "...                                   ...        ...                ...   \n",
       "1365        Dual Sim, 3G, 4G, 5G, VoLTE,    4 GB RAM  5000 mAh Battery    \n",
       "1366            Dual Sim, 3G, 4G, VoLTE,    8 GB RAM  5000 mAh Battery    \n",
       "1367        Dual Sim, 3G, 4G, 5G, VoLTE,    6 GB RAM  5000 mAh Battery    \n",
       "1368        Dual Sim, 3G, 4G, 5G, VoLTE,    6 GB RAM  5000 mAh Battery    \n",
       "1369  Dual Sim, 3G, 4G, 5G, VoLTE, Vo5G,   12 GB RAM  4600 mAh Battery    \n",
       "\n",
       "         Display                                             Camera  \\\n",
       "0     6.6 inches    50 MP + 2 MP Dual Rear &amp; 13 MP Front Camera   \n",
       "1     6.4 inches  13 MP + 5 MP + 2 MP Triple Rear &amp; 8 MP Fro...   \n",
       "2     6.6 inches            50 MP Quad Rear &amp; 8 MP Front Camera   \n",
       "3     6.4 inches           48 MP Quad Rear &amp; 13 MP Front Camera   \n",
       "4     6.5 inches  13 MP + 2 MP + 2 MP Triple Rear &amp; 5 MP Fro...   \n",
       "...          ...                                                ...   \n",
       "1365  6.6 inches  50 MP + 2 MP + 2 MP Triple Rear &amp; 8 MP Fro...   \n",
       "1366  6.8 inches    50 MP + 2 MP Dual Rear &amp; 16 MP Front Camera   \n",
       "1367  6.6 inches    50 MP + 2 MP Dual Rear &amp; 16 MP Front Camera   \n",
       "1368  6.6 inches  50 MP + 2 MP + 2 MP Triple Rear &amp; 8 MP Fro...   \n",
       "1369   10 inches                     Foldable Display, Dual Display   \n",
       "\n",
       "                                        External_Memory Android_version  \\\n",
       "0                      Memory Card Supported, upto 1 TB              13   \n",
       "1                    Memory Card Supported, upto 512 GB              10   \n",
       "2                      Memory Card Supported, upto 1 TB              12   \n",
       "3                      Memory Card Supported, upto 1 TB              12   \n",
       "4                      Memory Card Supported, upto 1 TB              11   \n",
       "...                                                 ...             ...   \n",
       "1365                               Memory Card (Hybrid)              12   \n",
       "1366                               Memory Card (Hybrid)              14   \n",
       "1367                   Memory Card Supported, upto 1 TB              13   \n",
       "1368                   Memory Card Supported, upto 1 TB              13   \n",
       "1369  50 MP + 48 MP + 8 MP Triple Rear &amp; 32 MP F...              13   \n",
       "\n",
       "         Price  company   Inbuilt_memory       fast_charging  \\\n",
       "0        9,999  Samsung   128 GB inbuilt   25W Fast Charging   \n",
       "1        9,990  Samsung    32 GB inbuilt   15W Fast Charging   \n",
       "2       11,999  Samsung    64 GB inbuilt   25W Fast Charging   \n",
       "3       11,999  Samsung    64 GB inbuilt                 NaN   \n",
       "4       11,999  Samsung    64 GB inbuilt   15W Fast Charging   \n",
       "...        ...      ...              ...                 ...   \n",
       "1365    18,999      TCL    64 GB inbuilt   15W Fast Charging   \n",
       "1366    24,990      TCL   128 GB inbuilt   33W Fast Charging   \n",
       "1367    23,990      TCL   256 GB inbuilt   18W Fast Charging   \n",
       "1368    22,499      TCL   256 GB inbuilt   15W Fast Charging   \n",
       "1369  1,19,990      TCL   256 GB inbuilt   67W Fast Charging   \n",
       "\n",
       "                                  Screen_resolution             Processor  \\\n",
       "0      2408 x 1080 px Display with Water Drop Notch   Octa Core Processor   \n",
       "1             720 x 1560 px Display with Punch Hole     1.8 GHz Processor   \n",
       "2      1080 x 2408 px Display with Water Drop Notch       2 GHz Processor   \n",
       "3                                     720 x 1600 px             Octa Core   \n",
       "4       720 x 1600 px Display with Water Drop Notch             Octa Core   \n",
       "...                                             ...                   ...   \n",
       "1365                                  720 x 1612 px             Octa Core   \n",
       "1366                                 1200 x 2400 px             Octa Core   \n",
       "1367                                  720 x 1612 px             Octa Core   \n",
       "1368                                  720 x 1612 px             Octa Core   \n",
       "1369                                 1916 x 2160 px             Octa Core   \n",
       "\n",
       "         Processor_name  \n",
       "0           Exynos 1330  \n",
       "1             Octa Core  \n",
       "2             Octa Core  \n",
       "3             Helio G88  \n",
       "4             Helio P35  \n",
       "...                 ...  \n",
       "1365   Dimensity 700 5G  \n",
       "1366     Dimensity 7050  \n",
       "1367     Dimensity 6080  \n",
       "1368     Dimensity 6020  \n",
       "1369  Snapdragon 8 Gen2  \n",
       "\n",
       "[1370 rows x 17 columns]"
      ]
     },
     "execution_count": 1932,
     "metadata": {},
     "output_type": "execute_result"
    }
   ],
   "source": [
    "import seaborn as sns\n",
    "import pandas as pd\n",
    "import warnings\n",
    "warnings.filterwarnings('ignore')\n",
    "#warnings.filterwarnings('ignore', category=UserWarning)\n",
    "\n",
    "df=pd.read_csv('k_mobilephonepriceprediction.csv',index_col=0)\n",
    "\n",
    "print(df.shape)\n",
    "df\n"
   ]
  },
  {
   "cell_type": "code",
   "execution_count": 1933,
   "id": "b9aeb6db-db50-459b-a577-29c16b2f0551",
   "metadata": {},
   "outputs": [
    {
     "data": {
      "text/plain": [
       "581"
      ]
     },
     "execution_count": 1933,
     "metadata": {},
     "output_type": "execute_result"
    }
   ],
   "source": [
    "df.isna().sum().sum()"
   ]
  },
  {
   "cell_type": "code",
   "execution_count": 1934,
   "id": "14cab175-8f70-4734-92e7-a83b529e4073",
   "metadata": {},
   "outputs": [
    {
     "data": {
      "text/plain": [
       "0"
      ]
     },
     "execution_count": 1934,
     "metadata": {},
     "output_type": "execute_result"
    }
   ],
   "source": [
    "df=df.dropna()\n",
    "df.isna().sum().sum()"
   ]
  },
  {
   "cell_type": "code",
   "execution_count": 1935,
   "id": "37dffcc3-923e-4b57-82f3-7e3b2e70ad80",
   "metadata": {},
   "outputs": [
    {
     "data": {
      "text/plain": [
       "0"
      ]
     },
     "execution_count": 1935,
     "metadata": {},
     "output_type": "execute_result"
    }
   ],
   "source": [
    "df.duplicated().sum()"
   ]
  },
  {
   "cell_type": "code",
   "execution_count": 1936,
   "id": "f07d11b2-ceb6-4966-9041-2e4ad660276a",
   "metadata": {},
   "outputs": [
    {
     "data": {
      "text/plain": [
       "Processor\n",
       " Octa Core              770\n",
       " Octa Core Processor     39\n",
       " 2 GHz Processor          2\n",
       " Nine-Cores               2\n",
       " 1.8 GHz Processor        1\n",
       " Quad Core                1\n",
       " Deca Core Processor      1\n",
       " 2.3 GHz Processor        1\n",
       "Name: count, dtype: int64"
      ]
     },
     "execution_count": 1936,
     "metadata": {},
     "output_type": "execute_result"
    }
   ],
   "source": [
    "df.Processor.value_counts()"
   ]
  },
  {
   "cell_type": "code",
   "execution_count": 1937,
   "id": "9b33ecfb-a9da-4850-9627-5b0b189318bb",
   "metadata": {},
   "outputs": [
    {
     "data": {
      "text/plain": [
       "No_of_sim\n",
       "Dual Sim, 3G, 4G, 5G, VoLTE,           442\n",
       "Dual Sim, 3G, 4G, VoLTE,               318\n",
       "Dual Sim, 3G, 4G, 5G, VoLTE, Vo5G,      44\n",
       "Single Sim, 3G, 4G, 5G, VoLTE,           7\n",
       "Single Sim, 3G, 4G, VoLTE,               3\n",
       "Dual Sim, 3G, 4G,                        2\n",
       "No Sim Supported,                        1\n",
       "Name: count, dtype: int64"
      ]
     },
     "execution_count": 1937,
     "metadata": {},
     "output_type": "execute_result"
    }
   ],
   "source": [
    "df.fast_charging.value_counts()\n",
    "df.No_of_sim.value_counts()"
   ]
  },
  {
   "cell_type": "code",
   "execution_count": 1938,
   "id": "3248c271-6edc-4ea5-a7ac-5e9a8ff87748",
   "metadata": {},
   "outputs": [
    {
     "data": {
      "text/plain": [
       "No_of_sim\n",
       "Dual Sim, 3G, 4G, 5G, VoLTE,           442\n",
       "Dual Sim, 3G, 4G, VoLTE,               318\n",
       "Dual Sim, 3G, 4G, 5G, VoLTE, Vo5G,      44\n",
       "Single Sim, 3G, 4G, 5G, VoLTE,           7\n",
       "Single Sim, 3G, 4G, VoLTE,               3\n",
       "Dual Sim, 3G, 4G,                        2\n",
       "No Sim Supported,                        1\n",
       "Name: count, dtype: int64"
      ]
     },
     "execution_count": 1938,
     "metadata": {},
     "output_type": "execute_result"
    }
   ],
   "source": [
    "df.No_of_sim.value_counts()\n"
   ]
  },
  {
   "cell_type": "code",
   "execution_count": 1939,
   "id": "eb275926-0565-4a7d-8db2-b27b24e491b6",
   "metadata": {},
   "outputs": [
    {
     "data": {
      "text/plain": [
       "company\n",
       "Samsung     149\n",
       "Realme      126\n",
       "Vivo        124\n",
       "Motorola     72\n",
       "Xiaomi       69\n",
       "Poco         54\n",
       "OnePlus      37\n",
       "iQOO         23\n",
       "Honor        21\n",
       "OPPO         20\n",
       "TCL          20\n",
       "Huawei       18\n",
       "POCO         18\n",
       "Lava         13\n",
       "Oppo         11\n",
       "Google        9\n",
       "itel          9\n",
       "Asus          6\n",
       "Lenovo        5\n",
       "Tecno         4\n",
       "LG            3\n",
       "Itel          2\n",
       "IQOO          1\n",
       "Nothing       1\n",
       "Gionee        1\n",
       "Coolpad       1\n",
       "Name: count, dtype: int64"
      ]
     },
     "execution_count": 1939,
     "metadata": {},
     "output_type": "execute_result"
    }
   ],
   "source": [
    "df.company.value_counts()"
   ]
  },
  {
   "cell_type": "code",
   "execution_count": 1940,
   "id": "2aee6749-17a1-4bd0-ae28-40a3645b5cda",
   "metadata": {},
   "outputs": [],
   "source": [
    "import re\n",
    "def cleanup_target (item):\n",
    "    item = re.sub ('[,]', '',item)\n",
    "    item = re.sub (r'\\s+', '',item)\n",
    "    return float (item)\n",
    "\n",
    "def cleanup_company (item):\n",
    "    if (item == 'Samsung' or item == 'Realme' or item == 'Vivo'):\n",
    "        return item\n",
    "    else:\n",
    "        return \"Others\"\n",
    "\n",
    "def cleanup_processor (item):\n",
    "    if (item == 'Octa Core' or item == 'Octa Core Processor'):\n",
    "        return item\n",
    "    else:\n",
    "        return \"Others\"\n",
    "\n",
    "def cleanup_feature (item):\n",
    "    if 'TB' in item:\n",
    "        item = re.sub ('TB', '',item)\n",
    "        item = re.sub ('inbuilt', '',item)\n",
    "        item = re.sub (r'\\s+', '',item)\n",
    "        item = 1000 * float (item)\n",
    "        #print (item)\n",
    "        return item\n",
    "    else:\n",
    "        #item = re.sub ('inches', '',item)\n",
    "        item = re.sub ('GB', '',item)\n",
    "        #item = re.sub ('RAM', '',item)\n",
    "        item = re.sub ('inbuilt', '',item)\n",
    "        item = re.sub (r'\\s+', '',item)\n",
    "        return float (item)\n",
    "\n"
   ]
  },
  {
   "cell_type": "code",
   "execution_count": 1941,
   "id": "7e2ed59e-db65-46bc-8e0e-c9789e515561",
   "metadata": {},
   "outputs": [
    {
     "name": "stdout",
     "output_type": "stream",
     "text": [
      "0     9,999\n",
      "1     9,990\n",
      "2    11,999\n",
      "Name: Price, dtype: object\n",
      "[ 9999.  9990. 11999.]\n",
      "<class 'numpy.ndarray'>\n",
      "<class 'numpy.float64'>\n"
     ]
    }
   ],
   "source": [
    "import numpy as np\n",
    "import re\n",
    "target = df.Price\n",
    "print (target[0:3])\n",
    "target = target.apply(cleanup_target)\n",
    "target = np.array (target)\n",
    "print (target[0:3])\n",
    "print(type (target))\n",
    "print(type(target[0]))"
   ]
  },
  {
   "cell_type": "code",
   "execution_count": 1942,
   "id": "fc9e90ce-d73c-4db3-aa2f-717218880bf2",
   "metadata": {},
   "outputs": [
    {
     "data": {
      "text/html": [
       "<div>\n",
       "<style scoped>\n",
       "    .dataframe tbody tr th:only-of-type {\n",
       "        vertical-align: middle;\n",
       "    }\n",
       "\n",
       "    .dataframe tbody tr th {\n",
       "        vertical-align: top;\n",
       "    }\n",
       "\n",
       "    .dataframe thead th {\n",
       "        text-align: right;\n",
       "    }\n",
       "</style>\n",
       "<table border=\"1\" class=\"dataframe\">\n",
       "  <thead>\n",
       "    <tr style=\"text-align: right;\">\n",
       "      <th></th>\n",
       "      <th>Rating</th>\n",
       "      <th>Spec_score</th>\n",
       "      <th>Inbuilt_memory</th>\n",
       "      <th>Processor</th>\n",
       "      <th>company</th>\n",
       "    </tr>\n",
       "  </thead>\n",
       "  <tbody>\n",
       "    <tr>\n",
       "      <th>0</th>\n",
       "      <td>4.65</td>\n",
       "      <td>68</td>\n",
       "      <td>128 GB inbuilt</td>\n",
       "      <td>Octa Core Processor</td>\n",
       "      <td>Samsung</td>\n",
       "    </tr>\n",
       "    <tr>\n",
       "      <th>1</th>\n",
       "      <td>4.20</td>\n",
       "      <td>63</td>\n",
       "      <td>32 GB inbuilt</td>\n",
       "      <td>1.8 GHz Processor</td>\n",
       "      <td>Samsung</td>\n",
       "    </tr>\n",
       "    <tr>\n",
       "      <th>2</th>\n",
       "      <td>4.30</td>\n",
       "      <td>75</td>\n",
       "      <td>64 GB inbuilt</td>\n",
       "      <td>2 GHz Processor</td>\n",
       "      <td>Samsung</td>\n",
       "    </tr>\n",
       "    <tr>\n",
       "      <th>4</th>\n",
       "      <td>4.10</td>\n",
       "      <td>69</td>\n",
       "      <td>64 GB inbuilt</td>\n",
       "      <td>Octa Core</td>\n",
       "      <td>Samsung</td>\n",
       "    </tr>\n",
       "    <tr>\n",
       "      <th>5</th>\n",
       "      <td>4.40</td>\n",
       "      <td>75</td>\n",
       "      <td>128 GB inbuilt</td>\n",
       "      <td>Octa Core</td>\n",
       "      <td>Samsung</td>\n",
       "    </tr>\n",
       "    <tr>\n",
       "      <th>...</th>\n",
       "      <td>...</td>\n",
       "      <td>...</td>\n",
       "      <td>...</td>\n",
       "      <td>...</td>\n",
       "      <td>...</td>\n",
       "    </tr>\n",
       "    <tr>\n",
       "      <th>1365</th>\n",
       "      <td>4.05</td>\n",
       "      <td>75</td>\n",
       "      <td>64 GB inbuilt</td>\n",
       "      <td>Octa Core</td>\n",
       "      <td>TCL</td>\n",
       "    </tr>\n",
       "    <tr>\n",
       "      <th>1366</th>\n",
       "      <td>4.10</td>\n",
       "      <td>80</td>\n",
       "      <td>128 GB inbuilt</td>\n",
       "      <td>Octa Core</td>\n",
       "      <td>TCL</td>\n",
       "    </tr>\n",
       "    <tr>\n",
       "      <th>1367</th>\n",
       "      <td>4.00</td>\n",
       "      <td>80</td>\n",
       "      <td>256 GB inbuilt</td>\n",
       "      <td>Octa Core</td>\n",
       "      <td>TCL</td>\n",
       "    </tr>\n",
       "    <tr>\n",
       "      <th>1368</th>\n",
       "      <td>4.50</td>\n",
       "      <td>79</td>\n",
       "      <td>256 GB inbuilt</td>\n",
       "      <td>Octa Core</td>\n",
       "      <td>TCL</td>\n",
       "    </tr>\n",
       "    <tr>\n",
       "      <th>1369</th>\n",
       "      <td>4.65</td>\n",
       "      <td>93</td>\n",
       "      <td>256 GB inbuilt</td>\n",
       "      <td>Octa Core</td>\n",
       "      <td>TCL</td>\n",
       "    </tr>\n",
       "  </tbody>\n",
       "</table>\n",
       "<p>817 rows × 5 columns</p>\n",
       "</div>"
      ],
      "text/plain": [
       "      Rating  Spec_score   Inbuilt_memory             Processor  company\n",
       "0       4.65          68   128 GB inbuilt   Octa Core Processor  Samsung\n",
       "1       4.20          63    32 GB inbuilt     1.8 GHz Processor  Samsung\n",
       "2       4.30          75    64 GB inbuilt       2 GHz Processor  Samsung\n",
       "4       4.10          69    64 GB inbuilt             Octa Core  Samsung\n",
       "5       4.40          75   128 GB inbuilt             Octa Core  Samsung\n",
       "...      ...         ...              ...                   ...      ...\n",
       "1365    4.05          75    64 GB inbuilt             Octa Core      TCL\n",
       "1366    4.10          80   128 GB inbuilt             Octa Core      TCL\n",
       "1367    4.00          80   256 GB inbuilt             Octa Core      TCL\n",
       "1368    4.50          79   256 GB inbuilt             Octa Core      TCL\n",
       "1369    4.65          93   256 GB inbuilt             Octa Core      TCL\n",
       "\n",
       "[817 rows x 5 columns]"
      ]
     },
     "execution_count": 1942,
     "metadata": {},
     "output_type": "execute_result"
    }
   ],
   "source": [
    "df_features = df.filter(['Rating','Spec_score','Inbuilt_memory','Processor','company'], axis=1)\n",
    "df_features"
   ]
  },
  {
   "cell_type": "code",
   "execution_count": 1943,
   "id": "290b3d99-41cb-4acd-9bb4-2930c5e5d590",
   "metadata": {},
   "outputs": [
    {
     "name": "stdout",
     "output_type": "stream",
     "text": [
      "0     128 GB inbuilt\n",
      "1      32 GB inbuilt\n",
      "2      64 GB inbuilt\n",
      "Name: Inbuilt_memory, dtype: object\n",
      "0    128.0\n",
      "1     32.0\n",
      "2     64.0\n",
      "Name: Inbuilt_memory, dtype: float64\n",
      "<class 'pandas.core.series.Series'>\n",
      "<class 'numpy.float64'>\n"
     ]
    }
   ],
   "source": [
    "print (df.Inbuilt_memory[0:3])\n",
    "\n",
    "df_features.Inbuilt_memory = df_features.Inbuilt_memory.apply(cleanup_feature)\n",
    "df_features.Inbuilt_memory = np.array (df_features.Inbuilt_memory)\n",
    "\n",
    "print (df_features.Inbuilt_memory[0:3])\n",
    "print(type (df_features.Inbuilt_memory))\n",
    "print(type (df_features.Inbuilt_memory[0]))"
   ]
  },
  {
   "cell_type": "code",
   "execution_count": 1944,
   "id": "e1593953-6e03-49d7-b316-aea0af9ca7f1",
   "metadata": {
    "scrolled": true
   },
   "outputs": [
    {
     "name": "stdout",
     "output_type": "stream",
     "text": [
      "company\n",
      "Samsung     149\n",
      "Realme      126\n",
      "Vivo        124\n",
      "Motorola     72\n",
      "Xiaomi       69\n",
      "Poco         54\n",
      "OnePlus      37\n",
      "iQOO         23\n",
      "Honor        21\n",
      "OPPO         20\n",
      "TCL          20\n",
      "Huawei       18\n",
      "POCO         18\n",
      "Lava         13\n",
      "Oppo         11\n",
      "Google        9\n",
      "itel          9\n",
      "Asus          6\n",
      "Lenovo        5\n",
      "Tecno         4\n",
      "LG            3\n",
      "Itel          2\n",
      "IQOO          1\n",
      "Nothing       1\n",
      "Gionee        1\n",
      "Coolpad       1\n",
      "Name: count, dtype: int64\n",
      "company\n",
      "Others     418\n",
      "Samsung    149\n",
      "Realme     126\n",
      "Vivo       124\n",
      "Name: count, dtype: int64\n"
     ]
    }
   ],
   "source": [
    "print (df_features.company.value_counts())\n",
    "\n",
    "df_features.company = df_features.company.apply(cleanup_company)\n",
    "\n",
    "print (df_features.company.value_counts())"
   ]
  },
  {
   "cell_type": "code",
   "execution_count": 1945,
   "id": "d44edf19-ecf3-4f05-bb2f-0012dff4f951",
   "metadata": {},
   "outputs": [
    {
     "name": "stdout",
     "output_type": "stream",
     "text": [
      "Processor\n",
      " Octa Core              770\n",
      " Octa Core Processor     39\n",
      " 2 GHz Processor          2\n",
      " Nine-Cores               2\n",
      " 1.8 GHz Processor        1\n",
      " Quad Core                1\n",
      " Deca Core Processor      1\n",
      " 2.3 GHz Processor        1\n",
      "Name: count, dtype: int64\n",
      "Processor\n",
      "5    770\n",
      "6     39\n",
      "1      2\n",
      "4      2\n",
      "0      1\n",
      "7      1\n",
      "3      1\n",
      "2      1\n",
      "Name: count, dtype: int64\n"
     ]
    }
   ],
   "source": [
    "from sklearn.preprocessing import LabelEncoder\n",
    "print(df_features.Processor.value_counts())\n",
    "le = LabelEncoder()\n",
    "df_features.Processor=le.fit_transform(df_features.Processor)\n",
    "print(df_features.Processor.value_counts())"
   ]
  },
  {
   "cell_type": "code",
   "execution_count": null,
   "id": "f5ee7ce0-3178-424b-b8f4-36b6414d975f",
   "metadata": {},
   "outputs": [],
   "source": []
  },
  {
   "cell_type": "code",
   "execution_count": 1946,
   "id": "81f28149-99e3-45b2-b0e3-0b1bf057d699",
   "metadata": {},
   "outputs": [
    {
     "data": {
      "text/html": [
       "<div>\n",
       "<style scoped>\n",
       "    .dataframe tbody tr th:only-of-type {\n",
       "        vertical-align: middle;\n",
       "    }\n",
       "\n",
       "    .dataframe tbody tr th {\n",
       "        vertical-align: top;\n",
       "    }\n",
       "\n",
       "    .dataframe thead th {\n",
       "        text-align: right;\n",
       "    }\n",
       "</style>\n",
       "<table border=\"1\" class=\"dataframe\">\n",
       "  <thead>\n",
       "    <tr style=\"text-align: right;\">\n",
       "      <th></th>\n",
       "      <th>Realme</th>\n",
       "      <th>Samsung</th>\n",
       "      <th>Vivo</th>\n",
       "    </tr>\n",
       "  </thead>\n",
       "  <tbody>\n",
       "    <tr>\n",
       "      <th>0</th>\n",
       "      <td>0</td>\n",
       "      <td>1</td>\n",
       "      <td>0</td>\n",
       "    </tr>\n",
       "    <tr>\n",
       "      <th>1</th>\n",
       "      <td>0</td>\n",
       "      <td>1</td>\n",
       "      <td>0</td>\n",
       "    </tr>\n",
       "    <tr>\n",
       "      <th>2</th>\n",
       "      <td>0</td>\n",
       "      <td>1</td>\n",
       "      <td>0</td>\n",
       "    </tr>\n",
       "    <tr>\n",
       "      <th>4</th>\n",
       "      <td>0</td>\n",
       "      <td>1</td>\n",
       "      <td>0</td>\n",
       "    </tr>\n",
       "    <tr>\n",
       "      <th>5</th>\n",
       "      <td>0</td>\n",
       "      <td>1</td>\n",
       "      <td>0</td>\n",
       "    </tr>\n",
       "    <tr>\n",
       "      <th>...</th>\n",
       "      <td>...</td>\n",
       "      <td>...</td>\n",
       "      <td>...</td>\n",
       "    </tr>\n",
       "    <tr>\n",
       "      <th>1365</th>\n",
       "      <td>0</td>\n",
       "      <td>0</td>\n",
       "      <td>0</td>\n",
       "    </tr>\n",
       "    <tr>\n",
       "      <th>1366</th>\n",
       "      <td>0</td>\n",
       "      <td>0</td>\n",
       "      <td>0</td>\n",
       "    </tr>\n",
       "    <tr>\n",
       "      <th>1367</th>\n",
       "      <td>0</td>\n",
       "      <td>0</td>\n",
       "      <td>0</td>\n",
       "    </tr>\n",
       "    <tr>\n",
       "      <th>1368</th>\n",
       "      <td>0</td>\n",
       "      <td>0</td>\n",
       "      <td>0</td>\n",
       "    </tr>\n",
       "    <tr>\n",
       "      <th>1369</th>\n",
       "      <td>0</td>\n",
       "      <td>0</td>\n",
       "      <td>0</td>\n",
       "    </tr>\n",
       "  </tbody>\n",
       "</table>\n",
       "<p>817 rows × 3 columns</p>\n",
       "</div>"
      ],
      "text/plain": [
       "      Realme  Samsung  Vivo\n",
       "0          0        1     0\n",
       "1          0        1     0\n",
       "2          0        1     0\n",
       "4          0        1     0\n",
       "5          0        1     0\n",
       "...      ...      ...   ...\n",
       "1365       0        0     0\n",
       "1366       0        0     0\n",
       "1367       0        0     0\n",
       "1368       0        0     0\n",
       "1369       0        0     0\n",
       "\n",
       "[817 rows x 3 columns]"
      ]
     },
     "execution_count": 1946,
     "metadata": {},
     "output_type": "execute_result"
    }
   ],
   "source": [
    "import pandas as pd\n",
    "df_features_company_num = pd.get_dummies (df_features.company, dtype=int,drop_first=True)\n",
    "df_features_company_num"
   ]
  },
  {
   "cell_type": "code",
   "execution_count": 1947,
   "id": "59e9dbd7-46e5-42ae-a0a3-565cd66f7e59",
   "metadata": {},
   "outputs": [
    {
     "name": "stdout",
     "output_type": "stream",
     "text": [
      "      Rating  Spec_score  Inbuilt_memory  Processor  company\n",
      "0       4.65          68           128.0          6  Samsung\n",
      "1       4.20          63            32.0          0  Samsung\n",
      "2       4.30          75            64.0          1  Samsung\n",
      "4       4.10          69            64.0          5  Samsung\n",
      "5       4.40          75           128.0          5  Samsung\n",
      "...      ...         ...             ...        ...      ...\n",
      "1365    4.05          75            64.0          5   Others\n",
      "1366    4.10          80           128.0          5   Others\n",
      "1367    4.00          80           256.0          5   Others\n",
      "1368    4.50          79           256.0          5   Others\n",
      "1369    4.65          93           256.0          5   Others\n",
      "\n",
      "[817 rows x 5 columns]\n",
      "      Rating  Spec_score  Inbuilt_memory  Processor\n",
      "0       4.65          68           128.0          6\n",
      "1       4.20          63            32.0          0\n",
      "2       4.30          75            64.0          1\n",
      "4       4.10          69            64.0          5\n",
      "5       4.40          75           128.0          5\n",
      "...      ...         ...             ...        ...\n",
      "1365    4.05          75            64.0          5\n",
      "1366    4.10          80           128.0          5\n",
      "1367    4.00          80           256.0          5\n",
      "1368    4.50          79           256.0          5\n",
      "1369    4.65          93           256.0          5\n",
      "\n",
      "[817 rows x 4 columns]\n"
     ]
    }
   ],
   "source": [
    "import pandas as pd\n",
    "print (df_features)\n",
    "df_features=df_features.drop('company',axis=1)\n",
    "print (df_features)\n"
   ]
  },
  {
   "cell_type": "code",
   "execution_count": 1948,
   "id": "c16d2af6-41d7-4777-81c8-d7b705860371",
   "metadata": {},
   "outputs": [
    {
     "name": "stdout",
     "output_type": "stream",
     "text": [
      "      Rating  Spec_score  Inbuilt_memory  Processor  Realme  Samsung  Vivo\n",
      "0       4.65          68           128.0          6       0        1     0\n",
      "1       4.20          63            32.0          0       0        1     0\n",
      "2       4.30          75            64.0          1       0        1     0\n",
      "4       4.10          69            64.0          5       0        1     0\n",
      "5       4.40          75           128.0          5       0        1     0\n",
      "...      ...         ...             ...        ...     ...      ...   ...\n",
      "1365    4.05          75            64.0          5       0        0     0\n",
      "1366    4.10          80           128.0          5       0        0     0\n",
      "1367    4.00          80           256.0          5       0        0     0\n",
      "1368    4.50          79           256.0          5       0        0     0\n",
      "1369    4.65          93           256.0          5       0        0     0\n",
      "\n",
      "[817 rows x 7 columns]\n"
     ]
    }
   ],
   "source": [
    "df_features=pd.concat([df_features,df_features_company_num],axis=1)\n",
    "print (df_features)"
   ]
  },
  {
   "cell_type": "code",
   "execution_count": 1949,
   "id": "5e5e1d64-a39f-4208-862f-35db1a16738d",
   "metadata": {},
   "outputs": [
    {
     "name": "stdout",
     "output_type": "stream",
     "text": [
      "   Rating  Spec_score  Inbuilt_memory  Processor  Realme  Samsung  Vivo\n",
      "0    4.65          68           128.0          6       0        1     0\n",
      "1    4.20          63            32.0          0       0        1     0\n",
      "2    4.30          75            64.0          1       0        1     0\n",
      "[ 9999.  9990. 11999.]\n"
     ]
    }
   ],
   "source": [
    "X = df_features\n",
    "y = target\n",
    "print (X[0:3])\n",
    "print (y[0:3])"
   ]
  },
  {
   "cell_type": "code",
   "execution_count": 1950,
   "id": "b0b57394-eb83-45d1-ab79-f234155624c1",
   "metadata": {},
   "outputs": [],
   "source": [
    "from sklearn.model_selection import train_test_split\n",
    "X_train, X_test, y_train, y_test = train_test_split (X, y, test_size=0.2, random_state=0)"
   ]
  },
  {
   "cell_type": "code",
   "execution_count": 1951,
   "id": "11820d02-1bcf-4a02-a5c0-4bef3b96533c",
   "metadata": {},
   "outputs": [
    {
     "name": "stdout",
     "output_type": "stream",
     "text": [
      "[[ 0.97353535 -0.18314954 -0.85278535 ...  2.18603775 -0.44268578\n",
      "  -0.43025338]\n",
      " [-1.44866916  0.50816059 -0.2552866  ... -0.45744864  2.25893863\n",
      "  -0.43025338]\n",
      " [ 0.09273371 -0.04488752 -0.2552866  ... -0.45744864 -0.44268578\n",
      "  -0.43025338]\n",
      " ...\n",
      " [ 0.53313453  0.64642261 -0.2552866  ... -0.45744864 -0.44268578\n",
      "  -0.43025338]\n",
      " [-1.22846875  0.50816059 -0.2552866  ...  2.18603775 -0.44268578\n",
      "  -0.43025338]\n",
      " [ 0.09273371 -2.11881791 -0.85278535 ... -0.45744864 -0.44268578\n",
      "  -0.43025338]]\n",
      "[[ 0.31293412 -1.42750778 -0.85278535 ... -0.45744864 -0.44268578\n",
      "  -0.43025338]\n",
      " [ 1.41393617  0.36989856 -0.2552866  ...  2.18603775 -0.44268578\n",
      "  -0.43025338]\n",
      " [-0.1274667   1.19947072  0.9397109  ... -0.45744864  2.25893863\n",
      "  -0.43025338]\n",
      " ...\n",
      " [-0.78806793 -0.18314954 -0.2552866  ... -0.45744864 -0.44268578\n",
      "  -0.43025338]\n",
      " [-1.22846875 -0.87445967 -0.2552866  ... -0.45744864 -0.44268578\n",
      "   2.32421186]\n",
      " [ 0.31293412 -0.18314954 -0.2552866  ... -0.45744864  2.25893863\n",
      "  -0.43025338]]\n"
     ]
    }
   ],
   "source": [
    "from sklearn.preprocessing import StandardScaler\n",
    "sc=StandardScaler()\n",
    "X_train_scaled = sc.fit_transform (X_train)\n",
    "X_test_scaled = sc.transform (X_test)\n",
    "print (X_train_scaled)\n",
    "print (X_test_scaled)\n"
   ]
  },
  {
   "cell_type": "code",
   "execution_count": 1952,
   "id": "6a1266d1-6c97-4d13-bfc0-b6dfff86947d",
   "metadata": {},
   "outputs": [
    {
     "data": {
      "text/html": [
       "<style>#sk-container-id-31 {color: black;}#sk-container-id-31 pre{padding: 0;}#sk-container-id-31 div.sk-toggleable {background-color: white;}#sk-container-id-31 label.sk-toggleable__label {cursor: pointer;display: block;width: 100%;margin-bottom: 0;padding: 0.3em;box-sizing: border-box;text-align: center;}#sk-container-id-31 label.sk-toggleable__label-arrow:before {content: \"▸\";float: left;margin-right: 0.25em;color: #696969;}#sk-container-id-31 label.sk-toggleable__label-arrow:hover:before {color: black;}#sk-container-id-31 div.sk-estimator:hover label.sk-toggleable__label-arrow:before {color: black;}#sk-container-id-31 div.sk-toggleable__content {max-height: 0;max-width: 0;overflow: hidden;text-align: left;background-color: #f0f8ff;}#sk-container-id-31 div.sk-toggleable__content pre {margin: 0.2em;color: black;border-radius: 0.25em;background-color: #f0f8ff;}#sk-container-id-31 input.sk-toggleable__control:checked~div.sk-toggleable__content {max-height: 200px;max-width: 100%;overflow: auto;}#sk-container-id-31 input.sk-toggleable__control:checked~label.sk-toggleable__label-arrow:before {content: \"▾\";}#sk-container-id-31 div.sk-estimator input.sk-toggleable__control:checked~label.sk-toggleable__label {background-color: #d4ebff;}#sk-container-id-31 div.sk-label input.sk-toggleable__control:checked~label.sk-toggleable__label {background-color: #d4ebff;}#sk-container-id-31 input.sk-hidden--visually {border: 0;clip: rect(1px 1px 1px 1px);clip: rect(1px, 1px, 1px, 1px);height: 1px;margin: -1px;overflow: hidden;padding: 0;position: absolute;width: 1px;}#sk-container-id-31 div.sk-estimator {font-family: monospace;background-color: #f0f8ff;border: 1px dotted black;border-radius: 0.25em;box-sizing: border-box;margin-bottom: 0.5em;}#sk-container-id-31 div.sk-estimator:hover {background-color: #d4ebff;}#sk-container-id-31 div.sk-parallel-item::after {content: \"\";width: 100%;border-bottom: 1px solid gray;flex-grow: 1;}#sk-container-id-31 div.sk-label:hover label.sk-toggleable__label {background-color: #d4ebff;}#sk-container-id-31 div.sk-serial::before {content: \"\";position: absolute;border-left: 1px solid gray;box-sizing: border-box;top: 0;bottom: 0;left: 50%;z-index: 0;}#sk-container-id-31 div.sk-serial {display: flex;flex-direction: column;align-items: center;background-color: white;padding-right: 0.2em;padding-left: 0.2em;position: relative;}#sk-container-id-31 div.sk-item {position: relative;z-index: 1;}#sk-container-id-31 div.sk-parallel {display: flex;align-items: stretch;justify-content: center;background-color: white;position: relative;}#sk-container-id-31 div.sk-item::before, #sk-container-id-31 div.sk-parallel-item::before {content: \"\";position: absolute;border-left: 1px solid gray;box-sizing: border-box;top: 0;bottom: 0;left: 50%;z-index: -1;}#sk-container-id-31 div.sk-parallel-item {display: flex;flex-direction: column;z-index: 1;position: relative;background-color: white;}#sk-container-id-31 div.sk-parallel-item:first-child::after {align-self: flex-end;width: 50%;}#sk-container-id-31 div.sk-parallel-item:last-child::after {align-self: flex-start;width: 50%;}#sk-container-id-31 div.sk-parallel-item:only-child::after {width: 0;}#sk-container-id-31 div.sk-dashed-wrapped {border: 1px dashed gray;margin: 0 0.4em 0.5em 0.4em;box-sizing: border-box;padding-bottom: 0.4em;background-color: white;}#sk-container-id-31 div.sk-label label {font-family: monospace;font-weight: bold;display: inline-block;line-height: 1.2em;}#sk-container-id-31 div.sk-label-container {text-align: center;}#sk-container-id-31 div.sk-container {/* jupyter's `normalize.less` sets `[hidden] { display: none; }` but bootstrap.min.css set `[hidden] { display: none !important; }` so we also need the `!important` here to be able to override the default hidden behavior on the sphinx rendered scikit-learn.org. See: https://github.com/scikit-learn/scikit-learn/issues/21755 */display: inline-block !important;position: relative;}#sk-container-id-31 div.sk-text-repr-fallback {display: none;}</style><div id=\"sk-container-id-31\" class=\"sk-top-container\"><div class=\"sk-text-repr-fallback\"><pre>LinearRegression()</pre><b>In a Jupyter environment, please rerun this cell to show the HTML representation or trust the notebook. <br />On GitHub, the HTML representation is unable to render, please try loading this page with nbviewer.org.</b></div><div class=\"sk-container\" hidden><div class=\"sk-item\"><div class=\"sk-estimator sk-toggleable\"><input class=\"sk-toggleable__control sk-hidden--visually\" id=\"sk-estimator-id-31\" type=\"checkbox\" checked><label for=\"sk-estimator-id-31\" class=\"sk-toggleable__label sk-toggleable__label-arrow\">LinearRegression</label><div class=\"sk-toggleable__content\"><pre>LinearRegression()</pre></div></div></div></div></div>"
      ],
      "text/plain": [
       "LinearRegression()"
      ]
     },
     "execution_count": 1952,
     "metadata": {},
     "output_type": "execute_result"
    }
   ],
   "source": [
    "from sklearn.linear_model import LinearRegression\n",
    "clf = LinearRegression()\n",
    "clf.fit (X_train_scaled,y_train)"
   ]
  },
  {
   "cell_type": "code",
   "execution_count": 1953,
   "id": "de2fff48-b924-441e-8c03-7d81e3b19408",
   "metadata": {},
   "outputs": [
    {
     "name": "stdout",
     "output_type": "stream",
     "text": [
      "[-1287.70825995 19706.13054316 60463.29142808 15375.82336102\n",
      " 39909.21727923 23155.47888089 40364.6427592  25594.01260816\n",
      " 31058.93274484 -6624.51562351]\n",
      "[13990. 19990. 64999.  8999. 29999. 14990. 24999. 12990. 29990.  6999.]\n"
     ]
    }
   ],
   "source": [
    "y_pred = clf.predict(X_test_scaled)\n",
    "print (y_pred[0:10])\n",
    "print (y_test[0:10])"
   ]
  },
  {
   "cell_type": "code",
   "execution_count": 1954,
   "id": "599f73de-7ded-4ea7-9d8e-cd30006bef68",
   "metadata": {},
   "outputs": [
    {
     "data": {
      "text/plain": [
       "0.6465496482642918"
      ]
     },
     "execution_count": 1954,
     "metadata": {},
     "output_type": "execute_result"
    }
   ],
   "source": [
    "from sklearn.metrics import mean_absolute_percentage_error\n",
    "mean_absolute_percentage_error(y_test, y_pred)"
   ]
  },
  {
   "cell_type": "code",
   "execution_count": 1955,
   "id": "4b378cab-8da7-4604-a39b-cab2975a708f",
   "metadata": {},
   "outputs": [
    {
     "data": {
      "text/plain": [
       "27111.808575803992"
      ]
     },
     "execution_count": 1955,
     "metadata": {},
     "output_type": "execute_result"
    }
   ],
   "source": [
    "clf.intercept_"
   ]
  },
  {
   "cell_type": "code",
   "execution_count": 1956,
   "id": "c23f1e68-e694-478e-a6e7-cf4db109b54b",
   "metadata": {},
   "outputs": [
    {
     "data": {
      "text/plain": [
       "7"
      ]
     },
     "execution_count": 1956,
     "metadata": {},
     "output_type": "execute_result"
    }
   ],
   "source": [
    "clf.n_features_in_"
   ]
  },
  {
   "cell_type": "code",
   "execution_count": 1957,
   "id": "f4fc4bc9-66ab-4787-9b32-485e000cfe8c",
   "metadata": {},
   "outputs": [
    {
     "data": {
      "text/plain": [
       "array([ -939.01236785, 10771.43207988, 13634.34235879,  1683.46211377,\n",
       "       -2072.81166606,  3183.87335482,  1019.64024404])"
      ]
     },
     "execution_count": 1957,
     "metadata": {},
     "output_type": "execute_result"
    }
   ],
   "source": [
    "clf.coef_"
   ]
  },
  {
   "cell_type": "code",
   "execution_count": 1958,
   "id": "f6e8c84a-a243-4cac-8ccd-e71e10b264d8",
   "metadata": {},
   "outputs": [
    {
     "data": {
      "text/plain": [
       "array([9205.45151962])"
      ]
     },
     "execution_count": 1958,
     "metadata": {},
     "output_type": "execute_result"
    }
   ],
   "source": [
    "sc_q=sc.transform ([[4.0,60,256,3,0,1,0]])\n",
    "clf.predict (sc_q)\n",
    "\n"
   ]
  },
  {
   "cell_type": "code",
   "execution_count": null,
   "id": "9a95ce2a-9e7f-4638-b08f-9c84a320fe9f",
   "metadata": {},
   "outputs": [],
   "source": []
  },
  {
   "cell_type": "code",
   "execution_count": null,
   "id": "429e3ba8-bcd2-4878-b7c8-ed95b30db2c1",
   "metadata": {},
   "outputs": [],
   "source": []
  }
 ],
 "metadata": {
  "kernelspec": {
   "display_name": "anaconda-ai-2024.04-py310",
   "language": "python",
   "name": "conda-env-anaconda-ai-2024.04-py310-py"
  },
  "language_info": {
   "codemirror_mode": {
    "name": "ipython",
    "version": 3
   },
   "file_extension": ".py",
   "mimetype": "text/x-python",
   "name": "python",
   "nbconvert_exporter": "python",
   "pygments_lexer": "ipython3",
   "version": "3.10.13"
  }
 },
 "nbformat": 4,
 "nbformat_minor": 5
}
