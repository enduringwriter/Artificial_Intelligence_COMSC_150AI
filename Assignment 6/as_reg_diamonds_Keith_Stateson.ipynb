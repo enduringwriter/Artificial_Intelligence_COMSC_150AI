{
 "cells": [
  {
   "cell_type": "markdown",
   "id": "c9cea78f-90f6-4d59-ac09-5eb15907bb1c",
   "metadata": {},
   "source": [
    "## Supervised learning using Regression\n",
    "\n",
    "## Predicting Price\n",
    "\n",
    "## Objectives\n",
    "\n",
    "On completing this assignment, you will learn how to write a simple AI application involving supervised learning using regression.\n",
    "\n",
    "## Description\n",
    "\n",
    "Write an AI application which, when provided with a diamond's attributes, will predict its price. For training and testing the application, please use the labeled data set provided in the file, sb_diamonds.csv. The data set contains data regarding 53940 diamonds with 10 attributes each including the price. Use 80% of the data items for training, and the remaining 20% for testing. Use the sklearn's Linear Regression (LinearRegression) model for training. After the model is trained, test it using the test data and produce the Mean Absolute Percentage Error (MeanAbsolutePercentageError) (MAPE) reflecting its performance. Also produce trained model's coefficient (coeff_) and intercept (intercpt_) values. \n",
    "\n",
    "#### Regressor models to be used\n",
    "\n",
    "Altogether, try out the following regression models of sklearn's library and compare their performance using Mean Absolute Percentage Error (MAPE) values.\n",
    "\n",
    "- Linear Regressor (LinearRegression) from sklearn,linear_model\n",
    "\n",
    "- KNeighbor Regressor (KNeighborRegressor) from sklearn.neighbors (using n_neighbors=5)\n",
    "  \n",
    "- Support Vector Regressor (SVR) from sklearn.svm\n",
    "  \n",
    "- Random Forest Regressor (RandomForestRegressor) from sklearn.ensemble \n",
    "\n",
    "#### Individual Values\n",
    "\n",
    "Also, try out made-up attribute values of a few diamonds with the best performing model from the above list and report the attribute values used and predicted prices received from the model.\n",
    "\n",
    "## Implementation \n",
    "\n",
    "#### Preprocessing\n",
    "\n",
    "- Remove rows containing missing or null values\n",
    "- Remove duplicate rows\n",
    "\n",
    "#### Columns Used\n",
    "\n",
    "Use all columns provided.\n",
    "\n",
    "#### Column Cleaning\n",
    "\n",
    "- carat, depth, table, price, x, y, z, and price column values are already numerical. So, leave them as they are.\n",
    "  \n",
    "- cut and clarity column values seem to be ordinal type. So, we need to convert them into numerical values using sklearn.preprocessing's label encoder (LabelEncoder).\n",
    "  \n",
    "- color column values seem to be nominal type. So, we need to convert them into numerical values using panda's getdummies function (using one hot decoding).\n",
    "\n",
    "## Discussion\n",
    "\n",
    "#### Column Data Types\n",
    "\n",
    "Data values are of either quantitative or qualitative type.\n",
    "\n",
    "#### Quantitative (Numerical) Values\n",
    "\n",
    "We can recognize quantitative (numrical) type values from the fact that they can be shown along a number line and we can perform mathematical operations (+, -, *, /) on them. The quantitative (numerical) type values can be either of discrete or continuous type.\n",
    "\n",
    "##### Continuous Values\n",
    "\n",
    "When quantitative (numerical) type values are along a number line within a range and all possible values within the range are permitted, then they are considered to be of continuous type. For example, height and weight size values are considered continuous because all weight and height values with a range are permitted.\n",
    "\n",
    "##### Discrete Values\n",
    " \n",
    "When quantitative (numerical) type values are along a number line within a range but some values  within the range are not included, then they are considered to be of discrete type. For example clothes and shoe size values are considered discrete because only certain clothes and shoe sizes exist within a range. \n",
    "\n",
    "For differentiating between discrete and continuous type values, consider shoe size and foot size values. Shoe size values are considered discrete because only certain shoe size values are permitted (the shoe size values of 8.11, 8.12 etc. do not exist). On the other hand, foot size values are considered continuous because we can specify a foot size of any value within a range\n",
    "\n",
    "Regressors versus Classifiers \n",
    "\n",
    "In our supervised learning problems, if the target (label) values are continuous such as prices (a price can have any value within the range)then we use regressors to solve them. However, when the target can have only certain values or can belong to certain categories, we use classifiers to solve them.\n",
    "\n",
    "\n",
    "#### Qualitative (Categorical) (Non-numerical) Values\n",
    "\n",
    "We can recognize Qualitative (Categorical) (non-numerical) type values from the fact that they can be shown along a number line and we cannot perform mathematical operations (+, -, *, /) on them. The quantitative (numerical) type values can be either of nominal or ordinal type.\n",
    "\n",
    "##### Nominal Values\n",
    " \n",
    "When data values are just names without any ranking or order to them, they are considered nominal values. For example, if a hair-color column contains values such as black, brown, red etc., then these value are considered nominal values because there is no ranking attached to these values. \n",
    "\n",
    "##### Ordinal Values\n",
    "\n",
    "When data values are names but there is an implied ranking or order attached to them, they are considered ordinal values. For example, if a job satisfaction column contains values such as unsatisfied, satisfied, very satisfied etc. then these values are considered ordinal values because there is an implied ranking or order attached to them.\n",
    "\n",
    "Implementing nominal and ordinal values\n",
    "\n",
    "In our problem, both nominal and ordinal column values are converted to numerical values. For converting nominal values, we use Pandas' getdummies method. It creates a separate column for each different name value. So, in our hair color example above, it will create a column for \"black', a column for \"brown\", and a column for \"red\" etc. and assign 0 or 1 in each column indicating the presence or absent of that color in the individual. \n",
    "\n",
    "On the other hand, for an ordinal column value, we use sklearn.preprocessing module's label encoder (LabelEncoder). The encoder does not create any new columns. Instead, it substitutes value 0, 1, 2, 3, etc for different ordered name values. \n",
    "\n",
    "\n",
    "## Implementation Notes\n",
    "\n",
    "\n",
    "#### Dataset source\n",
    "\n",
    "The data set was downloaded fity-data-determining-factors\n",
    "\n",
    "\n",
    "## Submittal\n",
    "\n",
    "The uploaded submittal should contain the following:\n",
    "\n",
    "- jpynb file after running the application from start to finish containing the marked source code, output, and your interaction.\n",
    "  \n",
    "- the corresponding html file."
   ]
  },
  {
   "cell_type": "markdown",
   "id": "ee1d3437",
   "metadata": {},
   "source": [
    "## Keith Yrisarri Stateson\n",
    "June 23, 2024. Python 3.11.0\n",
    "\n",
    "## Title: Diamond Price Prediction Using Supervised Learning\n",
    "\n",
    "## Summary\n",
    "This program is an AI application to predict the prices of Diamonds based on their attributes. Supervised learning and regression techniques are used to train and evaluate multiple models on a provided dataset. The goal is to determine which model performs best in predicting diamond prices and to understand the influence of various features on the price.\n",
    "\n",
    "For each model:\n",
    "- Model Training and Evaluation\n",
    "    - Train various regression models and evaluate their performance using MAPE\n",
    "- Model Prediction\n",
    "    - Predict diamon price for new, made-up attributes\n",
    "    \n",
    "Part 1: DataFrame Cleaning\n",
    "\n",
    "Part 2: Evaluate the Features and Target variable\n",
    "\n",
    "Part 3: Data Cleaning\n",
    "\n",
    "Part 4: Feature Engineering\n",
    "\n",
    "Part 5: Train-Test Split and Feature Scaling\n",
    "\n",
    "Part 6: Modeling\n",
    "- Linear Regression Model\n",
    "- Random Forest Regressor Model\n",
    "- KNN Model\n",
    "- SVR Model\n",
    "\n",
    "Part 7: Identify the best performing model to predict diamond prices"
   ]
  },
  {
   "cell_type": "markdown",
   "id": "245059a0",
   "metadata": {},
   "source": [
    "## Part 1: DataFrame Cleaning\n",
    "\n",
    "Evaluate the dataframe for missing values, empty rows and columns, and duplicate entries"
   ]
  },
  {
   "cell_type": "code",
   "execution_count": null,
   "id": "44762fcf",
   "metadata": {
    "vscode": {
     "languageId": "plaintext"
    }
   },
   "outputs": [],
   "source": []
  },
  {
   "cell_type": "code",
   "execution_count": null,
   "id": "9d56da64",
   "metadata": {
    "vscode": {
     "languageId": "plaintext"
    }
   },
   "outputs": [],
   "source": []
  },
  {
   "cell_type": "code",
   "execution_count": null,
   "id": "75ead0ce",
   "metadata": {
    "vscode": {
     "languageId": "plaintext"
    }
   },
   "outputs": [],
   "source": []
  },
  {
   "cell_type": "markdown",
   "id": "55961c37",
   "metadata": {},
   "source": [
    "## Part 2: Evaluate the Features and Target variable"
   ]
  },
  {
   "cell_type": "code",
   "execution_count": null,
   "id": "50212934-9891-42cc-b2d1-203e93a15ea0",
   "metadata": {
    "vscode": {
     "languageId": "plaintext"
    }
   },
   "outputs": [],
   "source": []
  },
  {
   "cell_type": "markdown",
   "id": "9c0cc1ff",
   "metadata": {},
   "source": [
    "## Part 3: Data Cleaning - Features and Target variable\n",
    "\n",
    "*Conversion of Panda Series into a NumPy Array.*  \n",
    "Many machine learning libraries, such as scikit-learn, expect input data to be in the form of NumPy arrays rather than pandas Series.  \n",
    "Converting the target to a NumPy array ensures compatibility with these libraries."
   ]
  },
  {
   "cell_type": "markdown",
   "id": "510a84c0",
   "metadata": {},
   "source": []
  },
  {
   "cell_type": "markdown",
   "id": "3c131584",
   "metadata": {},
   "source": [
    "## Part 4: Feature Engineering\n",
    "\n",
    "Transform nominal categorical data to numerical using pandas.get_dummies, and drop the catgorical column and add the newly created numerical version to the features dataframe.\n",
    "\n",
    "Transforms ordinal categorical data to numerical using the LabelEncoder."
   ]
  },
  {
   "cell_type": "markdown",
   "id": "4165bfc0",
   "metadata": {},
   "source": []
  },
  {
   "cell_type": "markdown",
   "id": "7c60a3c1",
   "metadata": {},
   "source": [
    "## Part 5: Train-Test Split and Feature Scaling\n",
    "\n",
    "Assign features and target.  \n",
    "Split the dataset into 80% training, 20% testing.  \n",
    "Standardize the training and test feature data.  \n",
    "Apply the transformation to both the training and test datasets."
   ]
  },
  {
   "cell_type": "markdown",
   "id": "64351c20",
   "metadata": {},
   "source": []
  },
  {
   "cell_type": "markdown",
   "id": "164a64e4",
   "metadata": {},
   "source": [
    "## Part 6: Modeling\n",
    "\n",
    "Linear Regression  \n",
    "Random Forest Regressor  \n",
    "KNN Model  \n",
    "SVR"
   ]
  },
  {
   "cell_type": "markdown",
   "id": "4206db5e",
   "metadata": {},
   "source": [
    "## Part 7: Identify the best performing model to predict mobile phone prices"
   ]
  },
  {
   "cell_type": "markdown",
   "id": "8480f293",
   "metadata": {},
   "source": []
  }
 ],
 "metadata": {
  "kernelspec": {
   "display_name": "anaconda-ai-2024.04-py310",
   "language": "python",
   "name": "conda-env-anaconda-ai-2024.04-py310-py"
  },
  "language_info": {
   "codemirror_mode": {
    "name": "ipython",
    "version": 3
   },
   "file_extension": ".py",
   "mimetype": "text/x-python",
   "name": "python",
   "nbconvert_exporter": "python",
   "pygments_lexer": "ipython3",
   "version": "3.10.13"
  }
 },
 "nbformat": 4,
 "nbformat_minor": 5
}
