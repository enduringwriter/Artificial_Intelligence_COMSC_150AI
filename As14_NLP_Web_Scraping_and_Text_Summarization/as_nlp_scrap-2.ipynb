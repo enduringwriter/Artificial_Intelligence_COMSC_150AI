{
 "cells": [
  {
   "cell_type": "markdown",
   "id": "931793e0-95db-4202-aaec-8222707f084c",
   "metadata": {},
   "source": [
    "# Natural Language Processing (NLP)\n",
    "\n",
    "## Text Summarization \n",
    "\n",
    "## Objectives\n",
    "\n",
    "On completing this assignment, students will be able to write a simple ai application that summarizes a given text by selecting a few most relevant sentences from the text.  \n",
    "\n",
    "## Description\n",
    " \n",
    "Write an AI application that will scrape a Wikipedia article from the Internet on a topic of your choice relating to AI. Then summarize the article by selecting a few most relevant sentences from the article.\n",
    "\n",
    "### Additionally, do the following:\n",
    "\n",
    "First, try out including sentences of different maximum lengths in doing the calculation. Then, select a maximum length that is suitable for your topic. \n",
    "\n",
    "Also, try including different number of sentences in the final summary. Then, decide on a number that is suitable for your topic.\n",
    "\n",
    "Write a paragraph that briefly describes your experience and summarizes the results of carrying out the above experiment.\n",
    " \n",
    "## Discussion\n",
    "\n",
    "There are two ways to summarize an article. One way is to fully comprehend the article and then summarize it in your own words. This way we produce an abstract of the article. The second way is to extract from the article a few most relevant sentences and use them to constitute the summary. This type of summary is called an executive summary.\n",
    "\n",
    "In this assignment, we have chosen the second approach of producing an executive summary of the article. \n"
   ]
  },
  {
   "cell_type": "code",
   "execution_count": null,
   "id": "5c2b268a-e114-4ef2-b86f-936034eb5428",
   "metadata": {},
   "outputs": [],
   "source": []
  }
 ],
 "metadata": {
  "kernelspec": {
   "display_name": "anaconda-ai-2024.04-py310",
   "language": "python",
   "name": "conda-env-anaconda-ai-2024.04-py310-py"
  },
  "language_info": {
   "codemirror_mode": {
    "name": "ipython",
    "version": 3
   },
   "file_extension": ".py",
   "mimetype": "text/x-python",
   "name": "python",
   "nbconvert_exporter": "python",
   "pygments_lexer": "ipython3",
   "version": "3.10.13"
  }
 },
 "nbformat": 4,
 "nbformat_minor": 5
}
