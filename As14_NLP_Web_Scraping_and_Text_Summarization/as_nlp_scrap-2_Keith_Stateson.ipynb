{
 "cells": [
  {
   "cell_type": "markdown",
   "id": "931793e0-95db-4202-aaec-8222707f084c",
   "metadata": {},
   "source": [
    "# Natural Language Processing (NLP)\n",
    "\n",
    "## Text Summarization \n",
    "\n",
    "## Objectives\n",
    "\n",
    "On completing this assignment, students will be able to write a simple ai application that summarizes a given text by selecting a few most relevant sentences from the text.  \n",
    "\n",
    "## Description\n",
    " \n",
    "Write an AI application that will scrape a Wikipedia article from the Internet on a topic of your choice relating to AI. Then summarize the article by selecting a few most relevant sentences from the article.\n",
    "\n",
    "### Additionally, do the following:\n",
    "\n",
    "First, try out including sentences of different maximum lengths in doing the calculation. Then, select a maximum length that is suitable for your topic. \n",
    "\n",
    "Also, try including different number of sentences in the final summary. Then, decide on a number that is suitable for your topic.\n",
    "\n",
    "Write a paragraph that briefly describes your experience and summarizes the results of carrying out the above experiment.\n",
    " \n",
    "## Discussion\n",
    "\n",
    "There are two ways to summarize an article. One way is to fully comprehend the article and then summarize it in your own words. This way we produce an abstract of the article. The second way is to extract from the article a few most relevant sentences and use them to constitute the summary. This type of summary is called an executive summary.\n",
    "\n",
    "In this assignment, we have chosen the second approach of producing an executive summary of the article. \n"
   ]
  },
  {
   "cell_type": "markdown",
   "id": "2b3250e1",
   "metadata": {},
   "source": [
    "## Title: NLP Web Scraping and Text Summarization\n",
    "\n",
    "### Keith Yrisarri Stateson\n",
    "July 18, 2024. Python 3.11.0\n",
    "\n",
    "##### Summary\n",
    "This program is an AI application designed to summarize a Wikipedia article - of my choice - by web scraping the content. The program uses Beautiful Soup to scrape and parse the article from the Internet, extracting the three most relevant sentences. \n",
    "\n",
    "Additionally, the program explores the impact of different maximum sentence lengths and varying the number of sentences in the summary to identify the best configuration for summarizing the text.\n",
    "\n",
    "Assumptions\n",
    "The program assumes that the most relevant sentences are those with the highest word frequency scores, and that the paragraphs are in the 'p' tag.\n",
    "\n",
    "##### Overview\n",
    "Import Libaries and Raw Data Collection\n",
    "- Importing Libraries\n",
    "- Scraping the Wikipedia Article\n",
    "\n",
    "Data Cleaning\n",
    "- Parsing HTML Content\n",
    "- Cleaning and Formatting Text\n",
    "- Removing Reference Numbers\n",
    "\n",
    "Text Analysis\n",
    "\n",
    "Text Tokenization and Word Frequency Analysis\n",
    "\n",
    "Text Analysis\n",
    "\n",
    "Word Frequency Calculation\n",
    "- Creating a Word Frequency Dictionary\n",
    "- Normalizing Word Frequencies\n",
    "\n",
    "Sentence Scoring and Selection\n",
    "- Calculating Sentence Scores\n",
    "- Filtering Sentences by Length\n",
    "- Selecting Top Sentences\n",
    "\n",
    "Conclusion"
   ]
  },
  {
   "cell_type": "markdown",
   "id": "1b74377f",
   "metadata": {},
   "source": [
    "## Import Libraries and Raw Data Collection"
   ]
  },
  {
   "cell_type": "code",
   "execution_count": 164,
   "id": "917d3ff2",
   "metadata": {},
   "outputs": [
    {
     "name": "stderr",
     "output_type": "stream",
     "text": [
      "[nltk_data] Downloading package punkt to\n",
      "[nltk_data]     /Users/keithstateson/nltk_data...\n",
      "[nltk_data]   Package punkt is already up-to-date!\n"
     ]
    },
    {
     "data": {
      "text/plain": [
       "True"
      ]
     },
     "execution_count": 164,
     "metadata": {},
     "output_type": "execute_result"
    }
   ],
   "source": [
    "import nltk\n",
    "nltk.download('punkt')"
   ]
  },
  {
   "cell_type": "code",
   "execution_count": 1,
   "id": "2744906f",
   "metadata": {},
   "outputs": [
    {
     "name": "stdout",
     "output_type": "stream",
     "text": [
      "First few characters of the raw data: b'<!DOCTYPE html>\\n<html class=\"client-nojs vector-feature-language-in-header-enabled vector-feature-language-in-main-page-header-disabled vector-feature-sticky-header-disabled vector-feature-page-tools-pinned-disabled vector-feature-toc-pinned-clientpr'\n",
      "\n",
      "First few characters of the document: b'ef-1 vector-feature-main-menu-pinned-disabled vector-feature-limited-width-clientpref-1 vector-feature-limited-width-content-enabled vector-feature-custom-font-size-clientpref-1 vector-feature-appearance-enabled vector-feature-appearance-pinned-clien'\n"
     ]
    }
   ],
   "source": [
    "import bs4 as bs\n",
    "import urllib.request\n",
    "raw_data = urllib.request.urlopen ('https://en.wikipedia.org/wiki/Association_football')\n",
    "print(f'First few characters of the raw data: {raw_data.read(250)}')\n",
    "\n",
    "document=raw_data.read()\n",
    "print(f'\\nFirst few characters of the document: {document[:250]}')"
   ]
  },
  {
   "cell_type": "markdown",
   "id": "6d500872",
   "metadata": {},
   "source": [
    "## Data Cleaning"
   ]
  },
  {
   "cell_type": "code",
   "execution_count": 166,
   "id": "01cd5083",
   "metadata": {},
   "outputs": [
    {
     "name": "stdout",
     "output_type": "stream",
     "text": [
      "First few characters of the parsed document:\n",
      " er\":true,\"wgULSisLanguageSelectorEmpty\":false,\"wgWikibaseItemId\":\"Q2736\",\"wgCheckUserClientHintsHeadersJsApi\":[\"architecture\",\"bitness\",\"brands\",\"fullVersionList\",\"mobile\",\"model\",\"platform\",\"platformVersion\"],\"GEHomepageSuggestedEditsEnableTopics\":true,\"wgGETopicsMatchModeEnabled\":false,\"wgGEStructuredTaskRejectionReasonTextInputEnabled\":false,\"wgGELevelingUpEnabledForUser\":false};RLSTATE={\"ext.globalCssJs.user.styles\":\"ready\",\"site.styles\":\"ready\",\"user.styles\":\"ready\",\"ext.globalCssJs.user\":\"\n",
      "\n",
      "First two paragraphs:\n",
      " [<p>er\":true,\"wgULSisLanguageSelectorEmpty\":false,\"wgWikibaseItemId\":\"Q2736\",\"wgCheckUserClientHintsHeadersJsApi\":[\"architecture\",\"bitness\",\"brands\",\"fullVersionList\",\"mobile\",\"model\",\"platform\",\"platformVersion\"],\"GEHomepageSuggestedEditsEnableTopics\":true,\"wgGETopicsMatchModeEnabled\":false,\"wgGEStructuredTaskRejectionReasonTextInputEnabled\":false,\"wgGELevelingUpEnabledForUser\":false};RLSTATE={\"ext.globalCssJs.user.styles\":\"ready\",\"site.styles\":\"ready\",\"user.styles\":\"ready\",\"ext.globalCssJs.user\":\"ready\",\"user\":\"ready\",\"user.options\":\"loading\",\"ext.cite.styles\":\"ready\",\"ext.tmh.player.styles\":\"ready\",\n",
      "\"skins.vector.search.codex.styles\":\"ready\",\"skins.vector.styles\":\"ready\",\"skins.vector.icons\":\"ready\",\"jquery.makeCollapsible.styles\":\"ready\",\"ext.wikimediamessages.styles\":\"ready\",\"ext.visualEditor.desktopArticleTarget.noscript\":\"ready\",\"ext.uls.interlanguage\":\"ready\",\"wikibase.client.init\":\"ready\",\"ext.wikimediaBadges\":\"ready\"};RLPAGEMODULES=[\"ext.cite.ux-enhancements\",\"mediawiki.page.media\",\"ext.tmh.player\",\"site\",\"mediawiki.page.ready\",\"jquery.makeCollapsible\",\"mediawiki.toc\",\"skins.vector.js\",\"ext.centralNotice.geoIP\",\"ext.centralNotice.startUp\",\"ext.gadget.ReferenceTooltips\",\"ext.gadget.switcher\",\"ext.urlShortener.toolbar\",\"ext.centralauth.centralautologin\",\"mmv.head\",\"mmv.bootstrap.autostart\",\"ext.popups\",\"ext.visualEditor.desktopArticleTarget.init\",\"ext.visualEditor.targetLoader\",\"ext.echo.centralauth\",\"ext.eventLogging\",\"ext.wikimediaEvents\",\"ext.navigationTiming\",\"ext.uls.interface\",\"ext.cx.eventlogging.campaigns\",\"ext.cx.uls.quick.actions\",\"wikibase.client.vector-2022\",\n",
      "\"ext.checkUser.clientHints\",\"ext.growthExperiments.SuggestedEditSession\"];\n",
      "<script>(RLQ=window.RLQ||[]).push(function(){mw.loader.impl(function(){return[\"user.options@12s5i\",function($,jQuery,require,module){mw.user.tokens.set({\"patrolToken\":\"+\\\\\",\"watchToken\":\"+\\\\\",\"csrfToken\":\"+\\\\\"});\n",
      "}];});});</script>\n",
      "<link href=\"/w/load.php?lang=en&amp;modules=ext.cite.styles%7Cext.tmh.player.styles%7Cext.uls.interlanguage%7Cext.visualEditor.desktopArticleTarget.noscript%7Cext.wikimediaBadges%7Cext.wikimediamessages.styles%7Cjquery.makeCollapsible.styles%7Cskins.vector.icons%2Cstyles%7Cskins.vector.search.codex.styles%7Cwikibase.client.init&amp;only=styles&amp;skin=vector-2022\" rel=\"stylesheet\"/>\n",
      "<script async=\"\" src=\"/w/load.php?lang=en&amp;modules=startup&amp;only=scripts&amp;raw=1&amp;skin=vector-2022\"></script>\n",
      "<meta content=\"\" name=\"ResourceLoaderDynamicStyles\"/>\n",
      "<link href=\"/w/load.php?lang=en&amp;modules=site.styles&amp;only=styles&amp;skin=vector-2022\" rel=\"stylesheet\"/>\n",
      "<meta content=\"MediaWiki 1.43.0-wmf.13\" name=\"generator\"/>\n",
      "<meta content=\"origin\" name=\"referrer\"/>\n",
      "<meta content=\"origin-when-cross-origin\" name=\"referrer\"/>\n",
      "<meta content=\"max-image-preview:standard\" name=\"robots\"/>\n",
      "<meta content=\"telephone=no\" name=\"format-detection\"/>\n",
      "<meta content=\"https://upload.wikimedia.org/wikipedia/commons/thumb/4/42/Football_in_Bloomington%2C_Indiana%2C_1995.jpg/1200px-Football_in_Bloomington%2C_Indiana%2C_1995.jpg\" property=\"og:image\"/>\n",
      "<meta content=\"1200\" property=\"og:image:width\"/>\n",
      "<meta content=\"817\" property=\"og:image:height\"/>\n",
      "<meta content=\"https://upload.wikimedia.org/wikipedia/commons/thumb/4/42/Football_in_Bloomington%2C_Indiana%2C_1995.jpg/800px-Football_in_Bloomington%2C_Indiana%2C_1995.jpg\" property=\"og:image\"/>\n",
      "<meta content=\"800\" property=\"og:image:width\"/>\n",
      "<meta content=\"545\" property=\"og:image:height\"/>\n",
      "<meta content=\"https://upload.wikimedia.org/wikipedia/commons/thumb/4/42/Football_in_Bloomington%2C_Indiana%2C_1995.jpg/640px-Football_in_Bloomington%2C_Indiana%2C_1995.jpg\" property=\"og:image\"/>\n",
      "<meta content=\"640\" property=\"og:image:width\"/>\n",
      "<meta content=\"436\" property=\"og:image:height\"/>\n",
      "<meta content=\"width=1120\" name=\"viewport\"/>\n",
      "<meta content=\"Association football - Wikipedia\" property=\"og:title\"/>\n",
      "<meta content=\"website\" property=\"og:type\"/>\n",
      "<link href=\"//upload.wikimedia.org\" rel=\"preconnect\"/>\n",
      "<link href=\"//en.m.wikipedia.org/wiki/Association_football\" media=\"only screen and (max-width: 640px)\" rel=\"alternate\"/>\n",
      "<link href=\"/static/apple-touch/wikipedia.png\" rel=\"apple-touch-icon\"/>\n",
      "<link href=\"/static/favicon/wikipedia.ico\" rel=\"icon\"/>\n",
      "<link href=\"/w/rest.php/v1/search\" rel=\"search\" title=\"Wikipedia (en)\" type=\"application/opensearchdescription+xml\"/>\n",
      "<link href=\"//en.wikipedia.org/w/api.php?action=rsd\" rel=\"EditURI\" type=\"application/rsd+xml\"/>\n",
      "<link href=\"https://en.wikipedia.org/wiki/Association_football\" rel=\"canonical\"/>\n",
      "<link href=\"https://creativecommons.org/licenses/by-sa/4.0/deed.en\" rel=\"license\"/>\n",
      "<link href=\"/w/index.php?title=Special:RecentChanges&amp;feed=atom\" rel=\"alternate\" title=\"Wikipedia Atom feed\" type=\"application/atom+xml\"/>\n",
      "<link href=\"//meta.wikimedia.org\" rel=\"dns-prefetch\"/>\n",
      "<link href=\"//login.wikimedia.org\" rel=\"dns-prefetch\"/>\n",
      "</p>, <p class=\"mw-empty-elt\">\n",
      "</p>]\n"
     ]
    }
   ],
   "source": [
    "parsed_document = bs.BeautifulSoup(document, 'lxml')\n",
    "print(f'First few characters of the parsed document:\\n {parsed_document.text[:500]}')\n",
    "\n",
    "article_paras=parsed_document.find_all ('p')  # article_paras is a list of all the paragraphs in the article\n",
    "print (f'\\nFirst two paragraphs:\\n {article_paras[:2]}')"
   ]
  },
  {
   "cell_type": "code",
   "execution_count": 167,
   "id": "726fc49d",
   "metadata": {},
   "outputs": [
    {
     "name": "stdout",
     "output_type": "stream",
     "text": [
      "Show the first few characters of the scrapped data:\n",
      " er\":true,\"wgULSisLanguageSelectorEmpty\":false,\"wgWikibaseItemId\":\"Q2736\",\"wgCheckUserClientHintsHeadersJsApi\":[\"architecture\",\"bitness\",\"brands\",\"fullVersionList\",\"mobile\",\"model\",\"platform\",\"platformVersion\"],\"GEHomepageSuggestedEditsEnableTopics\":true,\"wgGETopicsMatchModeEnabled\":false,\"wgGEStructuredTaskRejectionReasonTextInputEnabled\":false,\"wgGELevelingUpEnabledForUser\":false};RLSTATE={\"ext.globalCssJs.user.styles\":\"ready\",\"site.styles\":\"ready\",\"user.styles\":\"ready\",\"ext.globalCssJs.user\":\"\n"
     ]
    }
   ],
   "source": [
    "scrapped_data=\"\"\n",
    "for para in article_paras:\n",
    "    scrapped_data += para.text\n",
    "print(f'Show the first few characters of the scrapped data:\\n {scrapped_data[:500]}')"
   ]
  },
  {
   "cell_type": "code",
   "execution_count": 168,
   "id": "a96e4d5d",
   "metadata": {},
   "outputs": [
    {
     "name": "stdout",
     "output_type": "stream",
     "text": [
      "er\":true,\"wgULSisLanguageSelectorEmpty\":false,\"wgWikibaseItemId\":\"Q2736\",\"wgCheckUserClientHintsHeadersJsApi\": ,\"GEHomepageSuggestedEditsEnableTopics\":true,\"wgGETopicsMatchModeEnabled\":false,\"wgGEStructuredTaskRejectionReasonTextInputEnabled\":false,\"wgGELevelingUpEnabledForUser\":false};RLSTATE={\"ext.globalCssJs.user.styles\":\"ready\",\"site.styles\":\"ready\",\"user.styles\":\"ready\",\"ext.globalCssJs.user\":\"ready\",\"user\":\"ready\",\"user.options\":\"loading\",\"ext.cite.styles\":\"ready\",\"ext.tmh.player.styles\":\"\n"
     ]
    }
   ],
   "source": [
    "import re\n",
    "scrapped_data = re.sub (r'\\[[0-9]*\\]', ' ', scrapped_data)  # remove the reference numbers, *\\ means any number of digits\n",
    "scrapped_data = re.sub (r'\\s+', ' ', scrapped_data)\n",
    "# remove brackets e.g., [b]\n",
    "scrapped_data = re.sub(r'\\[.*?\\]', ' ', scrapped_data)  # .*? means any character, any number of times, but as few as possible\n",
    "\n",
    "print(scrapped_data[:500])"
   ]
  },
  {
   "cell_type": "markdown",
   "id": "c027b92e",
   "metadata": {},
   "source": [
    "## Text Tokenization"
   ]
  },
  {
   "cell_type": "code",
   "execution_count": 169,
   "id": "89c8ddfd",
   "metadata": {},
   "outputs": [
    {
     "name": "stdout",
     "output_type": "stream",
     "text": [
      "['er\":true,\"wgULSisLanguageSelectorEmpty\":false,\"wgWikibaseItemId\":\"Q2736\",\"wgCheckUserClientHintsHeadersJsApi\": ,\"GEHomepageSuggestedEditsEnableTopics\":true,\"wgGETopicsMatchModeEnabled\":false,\"wgGEStructuredTaskRejectionReasonTextInputEnabled\":false,\"wgGELevelingUpEnabledForUser\":false};RLSTATE={\"ext.globalCssJs.user.styles\":\"ready\",\"site.styles\":\"ready\",\"user.styles\":\"ready\",\"ext.globalCssJs.user\":\"ready\",\"user\":\"ready\",\"user.options\":\"loading\",\"ext.cite.styles\":\"ready\",\"ext.tmh.player.styles\":\"ready\", \"skins.vector.search.codex.styles\":\"ready\",\"skins.vector.styles\":\"ready\",\"skins.vector.icons\":\"ready\",\"jquery.makeCollapsible.styles\":\"ready\",\"ext.wikimediamessages.styles\":\"ready\",\"ext.visualEditor.desktopArticleTarget.noscript\":\"ready\",\"ext.uls.interlanguage\":\"ready\",\"wikibase.client.init\":\"ready\",\"ext.wikimediaBadges\":\"ready\"};RLPAGEMODULES= ; Association football, more commonly known as football or soccer,  is a team sport played between two teams of 11 players each, who primarily use their feet to propel a ball around a rectangular field called a pitch.', 'The objective of the game is to score more goals than the opposing team by moving the ball beyond the goal line into a rectangular-framed goal defended by the opposing team.', 'Traditionally, the game has been played over two 45-minute halves, for a total match time of 90 minutes.', \"With an estimated 250 million players active in over 200 countries and territories, it is the world's most popular sport.\", 'The game of association football is played in accordance with the Laws of the Game, a set of rules that has been in effect since 1863 and maintained by the IFAB since 1886.', 'The game is played with a football that is 68–70 cm (27–28 in) in circumference.', \"The two teams compete to get the ball into the other team's goal (between the posts, under the bar, and across the goal line), thereby scoring a goal.\", 'When the ball is in play, the players mainly use their feet, but may use any other part of their body, except for their hands or arms, to control, strike, or pass the ball.', 'Only the goalkeepers may use their hands and arms, and only then within the penalty area.', 'The team that has scored more goals at the end of the game is the winner.', 'There are situations where a goal can be disallowed, such as an offside call or a foul in the build-up to the goal.', 'Depending on the format of the competition, an equal number of goals scored may result in a draw being declared, or the game goes into extra time or a penalty shoot-out.', 'Internationally, association football is governed by FIFA.', 'Under FIFA, there are six continental confederations: AFC, CAF, CONCACAF, CONMEBOL, OFC, and UEFA.', 'Of these confederations, CONMEBOL is the oldest one, being founded in 1916.', 'National associations (e.g.', 'The FA or JFA) are responsible for managing the game in their own countries both professionally and at an amateur level, and coordinating competitions in accordance with the Laws of the Game.', \"The most senior and prestigious international competitions are the FIFA World Cup and the FIFA Women's World Cup.\", \"The men's World Cup is the most-viewed sporting event in the world, surpassing the Olympic Games.\", \"The two most prestigious competitions in European club football are the UEFA Champions League and the UEFA Women's Champions League, which attract an extensive television audience throughout the world.\", \"Since 2009, the final of the men's tournament has been the most-watched annual sporting event in the world.\", 'Association football is one of a family of football codes that emerged from various ball games played worldwide since antiquity.', 'Within the English-speaking world, the sport is now usually called \"football\" in Great Britain and most of Ulster in the north of Ireland, whereas people usually call it \"soccer\" in regions and countries where other codes of football are prevalent, such as Australia, Canada, South Africa, most of Ireland (excluding Ulster), and the United States.', 'A notable exception is New Zealand, where in the first two decades of the 21st century, under the influence of international television, \"football\" has been gaining prevalence, despite the dominance of other codes of football, namely rugby union and rugby league.', 'The term soccer comes from Oxford \"-er\" slang, which was prevalent at the University of Oxford in England from about 1875, and is thought to have been borrowed from the slang of Rugby School.', 'Initially spelt assoccer (a shortening of \"association\"), it was later reduced to the modern spelling.', 'This form of slang also gave rise to rugger for rugby football, fiver and tenner for five pound and ten pound notes, and the now-archaic footer that was also a name for association football.', 'The word soccer arrived at its current form in 1895 and was first recorded in 1889 in the earlier form of socca.', 'Kicking ball games arose independently multiple times across multiple cultures.', 'The Chinese competitive game cuju (蹴鞠, literally \"kick ball\"; also known as tsu chu) resembles modern association football.', 'This is the earliest form of a kicking game for which there is scientific evidence, a military manual from the Han dynasty.', 'Cuju players would pass the ball around, again having to avoid it touching the ground at any point.', 'It was then passed to a designated player, who attempted to kick it through the fengliu yan, a circular goal atop 10-11 meter poles.', 'During the Han dynasty (206 BCE – 220 CE), cuju games were standardised and rules were established.', 'FIFA cites Cuju as the earliest form of football.', 'Cuju and other ancient games demonstrate humanity’s innate predisposition to play with a ball.', 'The Silk Road facilitated the transmission of cuju, especially the game popular in the Tang dynasty, the period when the inflatable ball was invented and replaced the stuffed ball.', 'Other East Asian games included kemari in Japan and chuk-guk in Korea, both influenced by cuju.', 'Kemari originated after the year 600 during the Asuka period.', 'It was a ceremonial rather than a competitive game, and involved the kicking of a mari, a ball made of animal skin.', 'In North America, pasuckuakohowog was a ball game played by the Algonquians; it was described as \"almost identical to the kind of folk football being played in Europe at the same time, in which the ball was kicked through goals\".', 'Phaininda and episkyros were Greek ball games.', 'An image of an episkyros player depicted in low relief on a stele of c. 375–400 BCE in the National Archaeological Museum of Athens appears on the UEFA European Championship trophy.', 'Athenaeus, writing in 228 CE, mentions the Roman ball game harpastum.', 'Phaininda, episkyros and harpastum were played involving hands and violence.', 'They all appear to have resembled rugby football, wrestling, and volleyball more than what is recognisable as modern football.', 'As with pre-codified mob football, the antecedent of all modern football codes, these three games involved more handling the ball than kicking it.', 'Association football in itself does not have a classical history.', 'Notwithstanding any similarities to other ball games played around the world, FIFA has described that no historical connection exists with any game played in antiquity outside Europe.', 'The history of football in England dates back to at least the eighth century.']\n"
     ]
    }
   ],
   "source": [
    "from nltk import sent_tokenize\n",
    "all_sentences = sent_tokenize (scrapped_data)\n",
    "print (all_sentences[:50])"
   ]
  },
  {
   "cell_type": "markdown",
   "id": "58214886",
   "metadata": {},
   "source": [
    "## Text Analysis"
   ]
  },
  {
   "cell_type": "code",
   "execution_count": 170,
   "id": "ea412700",
   "metadata": {},
   "outputs": [
    {
     "name": "stdout",
     "output_type": "stream",
     "text": [
      "Total number of words: 6948\n",
      "Total number of sentences: 296\n",
      "Average length of words: 5.2 characters\n",
      "Average sentence length: 145.3 characters\n",
      "Average words per sentence: 23.6 words\n"
     ]
    }
   ],
   "source": [
    "# Analyze word count, sentence count, average word length, and average sentence length\n",
    "# all_sentences is tokenized into words but scrapped_data is not yet formatted\n",
    "\n",
    "print(f'Total number of words: {len(scrapped_data.split())}')\n",
    "print(f'Total number of sentences: {len(all_sentences)}')\n",
    "print(f'Average length of words: {sum(len(word) for word in scrapped_data.split()) / len(scrapped_data.split()):.1f} characters')\n",
    "print(f'Average sentence length: {len(scrapped_data) / len(all_sentences):.1f} characters')\n",
    "\n",
    "print(f'Average words per sentence: {len(formatted_text.split()) / len(all_sentences):.1f} words')"
   ]
  },
  {
   "cell_type": "code",
   "execution_count": 171,
   "id": "224cd60e",
   "metadata": {},
   "outputs": [
    {
     "name": "stdout",
     "output_type": "stream",
     "text": [
      "\n",
      "Sentence Length Distribution:\n",
      "Length 3: 2 sentences\n",
      "Length 5: 1 sentences\n",
      "Length 7: 4 sentences\n",
      "Length 8: 3 sentences\n",
      "Length 9: 12 sentences\n",
      "Length 10: 8 sentences\n",
      "Length 11: 10 sentences\n",
      "Length 12: 5 sentences\n",
      "Length 13: 9 sentences\n",
      "Length 14: 12 sentences\n",
      "Length 15: 11 sentences\n",
      "Length 16: 8 sentences\n",
      "Length 17: 8 sentences\n",
      "Length 18: 18 sentences\n",
      "Length 19: 12 sentences\n",
      "Length 20: 9 sentences\n",
      "Length 21: 6 sentences\n",
      "Length 22: 15 sentences\n",
      "Length 23: 12 sentences\n",
      "Length 24: 10 sentences\n",
      "Length 25: 7 sentences\n",
      "Length 26: 8 sentences\n",
      "Length 27: 12 sentences\n",
      "Length 28: 3 sentences\n",
      "Length 29: 8 sentences\n",
      "Length 30: 6 sentences\n",
      "Length 31: 8 sentences\n",
      "Length 32: 10 sentences\n",
      "Length 33: 11 sentences\n",
      "Length 34: 9 sentences\n",
      "Length 35: 1 sentences\n",
      "Length 36: 3 sentences\n",
      "Length 37: 3 sentences\n",
      "Length 38: 6 sentences\n",
      "Length 39: 2 sentences\n",
      "Length 40: 3 sentences\n",
      "Length 41: 6 sentences\n",
      "Length 42: 2 sentences\n",
      "Length 45: 2 sentences\n",
      "Length 46: 2 sentences\n",
      "Length 48: 2 sentences\n",
      "Length 50: 2 sentences\n",
      "Length 51: 1 sentences\n",
      "Length 52: 1 sentences\n",
      "Length 55: 1 sentences\n",
      "Length 58: 1 sentences\n",
      "Length 65: 1 sentences\n"
     ]
    }
   ],
   "source": [
    "sentence_length = [len(sent.split()) for sent in all_sentences]\n",
    "length_distribution = nltk.FreqDist(sentence_length)\n",
    "\n",
    "print(\"\\nSentence Length Distribution:\")\n",
    "for length, count in sorted(length_distribution.items()):\n",
    "    print(f\"Length {length}: {count} sentences\")"
   ]
  },
  {
   "cell_type": "code",
   "execution_count": 172,
   "id": "e4c849c6",
   "metadata": {},
   "outputs": [
    {
     "name": "stdout",
     "output_type": "stream",
     "text": [
      "\n",
      "Sentences shorter than 15 words:\n",
      "Internationally, association football is governed by FIFA.\n",
      "Under FIFA, there are six continental confederations: AFC, CAF, CONCACAF, CONMEBOL, OFC, and UEFA.\n",
      "Of these confederations, CONMEBOL is the oldest one, being founded in 1916.\n",
      "National associations (e.g.\n",
      "Kicking ball games arose independently multiple times across multiple cultures.\n",
      "FIFA cites Cuju as the earliest form of football.\n",
      "Cuju and other ancient games demonstrate humanity’s innate predisposition to play with a ball.\n",
      "Kemari originated after the year 600 during the Asuka period.\n",
      "Phaininda and episkyros were Greek ball games.\n",
      "Athenaeus, writing in 228 CE, mentions the Roman ball game harpastum.\n"
     ]
    }
   ],
   "source": [
    "print(\"\\nSentences shorter than 15 words:\")\n",
    "count = 0\n",
    "for sent in all_sentences:\n",
    "    if len(sent.split()) < 15:\n",
    "        print(sent)\n",
    "        count += 1\n",
    "        if count == 10:\n",
    "            break"
   ]
  },
  {
   "cell_type": "code",
   "execution_count": 186,
   "id": "26477ed1",
   "metadata": {},
   "outputs": [
    {
     "name": "stdout",
     "output_type": "stream",
     "text": [
      "\n",
      "Sentences between 15 and 30 words:\n",
      "Traditionally, the game has been played over two 45-minute halves, for a total match time of 90 minutes.\n",
      "With an estimated 250 million players active in over 200 countries and territories, it is the world's most popular sport.\n",
      "The game is played with a football that is 68–70 cm (27–28 in) in circumference.\n",
      "The two teams compete to get the ball into the other team's goal (between the posts, under the bar, and across the goal line), thereby scoring a goal.\n",
      "Only the goalkeepers may use their hands and arms, and only then within the penalty area.\n",
      "The team that has scored more goals at the end of the game is the winner.\n",
      "There are situations where a goal can be disallowed, such as an offside call or a foul in the build-up to the goal.\n",
      "The most senior and prestigious international competitions are the FIFA World Cup and the FIFA Women's World Cup.\n",
      "The men's World Cup is the most-viewed sporting event in the world, surpassing the Olympic Games.\n",
      "The two most prestigious competitions in European club football are the UEFA Champions League and the UEFA Women's Champions League, which attract an extensive television audience throughout the world.\n"
     ]
    }
   ],
   "source": [
    "print(\"\\nSentences between 15 and 30 words:\")\n",
    "count = 0\n",
    "for sent in all_sentences:\n",
    "    if 15 <= len(sent.split(' ')) < 30:\n",
    "        print(sent)\n",
    "        count += 1\n",
    "        if count == 10:\n",
    "            break"
   ]
  },
  {
   "cell_type": "markdown",
   "id": "f8467918",
   "metadata": {},
   "source": [
    "## Text Tokenization and Word Frequency Analysis"
   ]
  },
  {
   "cell_type": "code",
   "execution_count": 174,
   "id": "558ba5bb",
   "metadata": {},
   "outputs": [
    {
     "name": "stdout",
     "output_type": "stream",
     "text": [
      "formatted_text:\n",
      "er true wgULSisLanguageSelectorEmpty false wgWikibaseItemId Q wgCheckUserClientHintsHeadersJsApi GEHomepageSuggestedEditsEnableTopics true wgGETopicsMatchModeEnabled false wgGEStructuredTaskRejectionReasonTextInputEnabled false wgGELevelingUpEnabledForUser false RLSTATE ext globalCssJs user styles ready site styles ready user styles ready ext globalCssJs user ready user ready user options loading ext cite styles ready ext tmh player styles ready skins vector search codex styles ready skins vecto\n",
      "\n",
      "First 10 key-value pairs in the word_freq dictionary:\n",
      "er: 2\n",
      "true: 3\n",
      "wgULSisLanguageSelectorEmpty: 1\n",
      "false: 4\n",
      "wgWikibaseItemId: 1\n",
      "Q: 1\n",
      "wgCheckUserClientHintsHeadersJsApi: 1\n",
      "GEHomepageSuggestedEditsEnableTopics: 1\n",
      "wgGETopicsMatchModeEnabled: 1\n",
      "wgGEStructuredTaskRejectionReasonTextInputEnabled: 1\n"
     ]
    }
   ],
   "source": [
    "import re\n",
    "from nltk import word_tokenize\n",
    "from nltk.corpus import stopwords\n",
    "\n",
    "scrapped_data = re.sub ('[^a-zA-Z]', ' ', scrapped_data)  # remove all characters except alphabets\n",
    "formatted_text = re.sub (r'\\s+', ' ', scrapped_data)\n",
    "print(f'formatted_text:\\n{formatted_text[:500]}\\n')\n",
    "\n",
    "word_freq = {}\n",
    "for word in word_tokenize (formatted_text):  # word_tokenize will split text e.g., formatted_text into words and return a list of words\n",
    "    if word not in stopwords.words('english'):\n",
    "        if word not in word_freq.keys():\n",
    "            word_freq [word] = 1\n",
    "        else:\n",
    "            word_freq [word] += 1\n",
    "\n",
    "# print (word_freq)\n",
    "\n",
    "# Print the first 10 key-value pairs in the word_freq dictionary. Can use itertools, which provides better performance for large dictionaries\n",
    "print('First 10 key-value pairs in the word_freq dictionary:')\n",
    "for i, (word, freq) in enumerate(word_freq.items()):\n",
    "    if i < 10:\n",
    "        print(f\"{word}: {freq}\")\n",
    "    else:\n",
    "        break"
   ]
  },
  {
   "cell_type": "markdown",
   "id": "4217ff90",
   "metadata": {},
   "source": [
    "## Text Analysis"
   ]
  },
  {
   "cell_type": "code",
   "execution_count": 175,
   "id": "f58e4312",
   "metadata": {},
   "outputs": [
    {
     "name": "stdout",
     "output_type": "stream",
     "text": [
      "Total number of words: 6984\n",
      "Total number of sentences: 296\n",
      "Average length of words: 4.9 characters\n",
      "Average sentence length: 139.1 characters\n",
      "Average words per sentence: 23.6 words\n"
     ]
    }
   ],
   "source": [
    "# Text Analysis again after removing stopwords\n",
    "# Analyze word count, sentence count, average word length, and average sentence length\n",
    "\n",
    "print(f'Total number of words: {len(formatted_text.split())}')\n",
    "print(f'Total number of sentences: {len(all_sentences)}')\n",
    "print(f'Average length of words: {sum(len(word) for word in formatted_text.split()) / len(formatted_text.split()):.1f} characters')\n",
    "print(f'Average sentence length: {len(formatted_text) / len(all_sentences):.1f} characters')\n",
    "\n",
    "print(f'Average words per sentence: {len(formatted_text.split()) / len(all_sentences):.1f} words')"
   ]
  },
  {
   "cell_type": "code",
   "execution_count": 176,
   "id": "db54b786",
   "metadata": {},
   "outputs": [
    {
     "name": "stdout",
     "output_type": "stream",
     "text": [
      "\n",
      "Sentence Length Distribution:\n",
      "Length 3: 2 sentences\n",
      "Length 5: 1 sentences\n",
      "Length 7: 4 sentences\n",
      "Length 8: 3 sentences\n",
      "Length 9: 12 sentences\n",
      "Length 10: 8 sentences\n",
      "Length 11: 10 sentences\n",
      "Length 12: 5 sentences\n",
      "Length 13: 9 sentences\n",
      "Length 14: 12 sentences\n",
      "Length 15: 11 sentences\n",
      "Length 16: 8 sentences\n",
      "Length 17: 8 sentences\n",
      "Length 18: 18 sentences\n",
      "Length 19: 12 sentences\n",
      "Length 20: 9 sentences\n",
      "Length 21: 6 sentences\n",
      "Length 22: 15 sentences\n",
      "Length 23: 12 sentences\n",
      "Length 24: 10 sentences\n",
      "Length 25: 7 sentences\n",
      "Length 26: 8 sentences\n",
      "Length 27: 12 sentences\n",
      "Length 28: 3 sentences\n",
      "Length 29: 8 sentences\n",
      "Length 30: 6 sentences\n",
      "Length 31: 8 sentences\n",
      "Length 32: 10 sentences\n",
      "Length 33: 11 sentences\n",
      "Length 34: 9 sentences\n",
      "Length 35: 1 sentences\n",
      "Length 36: 3 sentences\n",
      "Length 37: 3 sentences\n",
      "Length 38: 6 sentences\n",
      "Length 39: 2 sentences\n",
      "Length 40: 3 sentences\n",
      "Length 41: 6 sentences\n",
      "Length 42: 2 sentences\n",
      "Length 45: 2 sentences\n",
      "Length 46: 2 sentences\n",
      "Length 48: 2 sentences\n",
      "Length 50: 2 sentences\n",
      "Length 51: 1 sentences\n",
      "Length 52: 1 sentences\n",
      "Length 55: 1 sentences\n",
      "Length 58: 1 sentences\n",
      "Length 65: 1 sentences\n"
     ]
    }
   ],
   "source": [
    "sentence_length = [len(sent.split()) for sent in all_sentences]\n",
    "length_distribution = nltk.FreqDist(sentence_length)\n",
    "\n",
    "print(\"\\nSentence Length Distribution:\")\n",
    "for length, count in sorted(length_distribution.items()):\n",
    "    print(f\"Length {length}: {count} sentences\")"
   ]
  },
  {
   "cell_type": "code",
   "execution_count": 177,
   "id": "326f464c",
   "metadata": {},
   "outputs": [
    {
     "name": "stdout",
     "output_type": "stream",
     "text": [
      "\n",
      "Sentence Length Distribution:\n",
      "Length 3: 2 sentences\n",
      "Length 5: 1 sentences\n",
      "Length 7: 4 sentences\n",
      "Length 8: 3 sentences\n",
      "Length 9: 12 sentences\n",
      "Length 10: 8 sentences\n",
      "Length 11: 10 sentences\n",
      "Length 12: 5 sentences\n",
      "Length 13: 9 sentences\n",
      "Length 14: 12 sentences\n",
      "Length 15: 11 sentences\n",
      "Length 16: 8 sentences\n",
      "Length 17: 8 sentences\n",
      "Length 18: 18 sentences\n",
      "Length 19: 12 sentences\n",
      "Length 20: 9 sentences\n",
      "Length 21: 6 sentences\n",
      "Length 22: 15 sentences\n",
      "Length 23: 12 sentences\n",
      "Length 24: 10 sentences\n",
      "Length 25: 7 sentences\n",
      "Length 26: 8 sentences\n",
      "Length 27: 12 sentences\n",
      "Length 28: 3 sentences\n",
      "Length 29: 8 sentences\n",
      "Length 30: 6 sentences\n",
      "Length 31: 8 sentences\n",
      "Length 32: 10 sentences\n",
      "Length 33: 11 sentences\n",
      "Length 34: 9 sentences\n",
      "Length 35: 1 sentences\n",
      "Length 36: 3 sentences\n",
      "Length 37: 3 sentences\n",
      "Length 38: 6 sentences\n",
      "Length 39: 2 sentences\n",
      "Length 40: 3 sentences\n",
      "Length 41: 6 sentences\n",
      "Length 42: 2 sentences\n",
      "Length 45: 2 sentences\n",
      "Length 46: 2 sentences\n",
      "Length 48: 2 sentences\n",
      "Length 50: 2 sentences\n",
      "Length 51: 1 sentences\n",
      "Length 52: 1 sentences\n",
      "Length 55: 1 sentences\n",
      "Length 58: 1 sentences\n",
      "Length 65: 1 sentences\n"
     ]
    },
    {
     "data": {
      "image/png": "[encoded data removed]",
      "text/plain": [
       "<Figure size 1200x800 with 1 Axes>"
      ]
     },
     "metadata": {},
     "output_type": "display_data"
    }
   ],
   "source": [
    "import matplotlib.pyplot as plt\n",
    "import nltk\n",
    "\n",
    "# Calculate the sentence length distribution\n",
    "sentence_length = [len(sent.split()) for sent in all_sentences]\n",
    "length_distribution = nltk.FreqDist(sentence_length)\n",
    "\n",
    "# Print the sentence length distribution\n",
    "print(\"\\nSentence Length Distribution:\")\n",
    "for length, count in sorted(length_distribution.items()):\n",
    "    print(f\"Length {length}: {count} sentences\")\n",
    "\n",
    "# Plotting the distribution\n",
    "plt.figure(figsize=(12, 8))\n",
    "plt.bar(length_distribution.keys(), length_distribution.values(), color='skyblue')\n",
    "plt.xlabel('Sentence Length (in words)')\n",
    "plt.ylabel('Frequency')\n",
    "plt.title('Sentence Length Distribution')\n",
    "plt.grid(True)\n",
    "plt.show()"
   ]
  },
  {
   "cell_type": "code",
   "execution_count": 187,
   "id": "9f5032ac",
   "metadata": {},
   "outputs": [
    {
     "name": "stdout",
     "output_type": "stream",
     "text": [
      "\n",
      "Sentences shorter than 15 words:\n",
      "Internationally, association football is governed by FIFA.\n",
      "Under FIFA, there are six continental confederations: AFC, CAF, CONCACAF, CONMEBOL, OFC, and UEFA.\n",
      "Of these confederations, CONMEBOL is the oldest one, being founded in 1916.\n",
      "National associations (e.g.\n",
      "Kicking ball games arose independently multiple times across multiple cultures.\n",
      "FIFA cites Cuju as the earliest form of football.\n",
      "Cuju and other ancient games demonstrate humanity’s innate predisposition to play with a ball.\n",
      "Kemari originated after the year 600 during the Asuka period.\n",
      "Phaininda and episkyros were Greek ball games.\n",
      "Athenaeus, writing in 228 CE, mentions the Roman ball game harpastum.\n"
     ]
    }
   ],
   "source": [
    "print(\"\\nSentences shorter than 15 words:\")\n",
    "count = 0\n",
    "for sent in all_sentences:\n",
    "    if len(sent.split(' ')) < 15:\n",
    "        print(sent)\n",
    "        count += 1\n",
    "        if count == 10:\n",
    "            break"
   ]
  },
  {
   "cell_type": "code",
   "execution_count": 188,
   "id": "1585f775",
   "metadata": {},
   "outputs": [
    {
     "name": "stdout",
     "output_type": "stream",
     "text": [
      "\n",
      "Sentences between 15 and 30 words:\n",
      "Traditionally, the game has been played over two 45-minute halves, for a total match time of 90 minutes.\n",
      "With an estimated 250 million players active in over 200 countries and territories, it is the world's most popular sport.\n",
      "The game is played with a football that is 68–70 cm (27–28 in) in circumference.\n",
      "The two teams compete to get the ball into the other team's goal (between the posts, under the bar, and across the goal line), thereby scoring a goal.\n",
      "Only the goalkeepers may use their hands and arms, and only then within the penalty area.\n",
      "The team that has scored more goals at the end of the game is the winner.\n",
      "There are situations where a goal can be disallowed, such as an offside call or a foul in the build-up to the goal.\n",
      "The most senior and prestigious international competitions are the FIFA World Cup and the FIFA Women's World Cup.\n",
      "The men's World Cup is the most-viewed sporting event in the world, surpassing the Olympic Games.\n",
      "The two most prestigious competitions in European club football are the UEFA Champions League and the UEFA Women's Champions League, which attract an extensive television audience throughout the world.\n"
     ]
    }
   ],
   "source": [
    "print(\"\\nSentences between 15 and 30 words:\")\n",
    "count = 0\n",
    "for sent in all_sentences:\n",
    "    if 15 <= len(sent.split(' ')) < 30:\n",
    "        print(sent)\n",
    "        count += 1\n",
    "        if count == 10:\n",
    "            break"
   ]
  },
  {
   "cell_type": "markdown",
   "id": "96353260",
   "metadata": {},
   "source": [
    "## Word Frequency Calculation"
   ]
  },
  {
   "cell_type": "code",
   "execution_count": 180,
   "id": "27469b20",
   "metadata": {},
   "outputs": [
    {
     "name": "stdout",
     "output_type": "stream",
     "text": [
      "First 10 key-value pairs in the word_freq dictionary after normalization:\n",
      "er: 0.020833333333333332\n",
      "true: 0.03125\n",
      "wgULSisLanguageSelectorEmpty: 0.010416666666666666\n",
      "false: 0.041666666666666664\n",
      "wgWikibaseItemId: 0.010416666666666666\n",
      "Q: 0.010416666666666666\n",
      "wgCheckUserClientHintsHeadersJsApi: 0.010416666666666666\n",
      "GEHomepageSuggestedEditsEnableTopics: 0.010416666666666666\n",
      "wgGETopicsMatchModeEnabled: 0.010416666666666666\n",
      "wgGEStructuredTaskRejectionReasonTextInputEnabled: 0.010416666666666666\n"
     ]
    }
   ],
   "source": [
    "max_freq=max(word_freq.values())\n",
    "for word in word_freq.keys():\n",
    "    word_freq [word]= word_freq [word] / max_freq\n",
    "\n",
    "# print (word_freq)\n",
    "\n",
    "print('First 10 key-value pairs in the word_freq dictionary after normalization:')\n",
    "for i, (word, freq) in enumerate(word_freq.items()):\n",
    "    if i < 10:\n",
    "        print(f\"{word}: {freq}\")\n",
    "    else:\n",
    "        break"
   ]
  },
  {
   "cell_type": "markdown",
   "id": "36ca682f",
   "metadata": {},
   "source": [
    "## Sentence Scoring and Selection"
   ]
  },
  {
   "cell_type": "code",
   "execution_count": 190,
   "id": "07372aef",
   "metadata": {},
   "outputs": [
    {
     "name": "stdout",
     "output_type": "stream",
     "text": [
      "key-value pairs in the sent_scores dictionary:\n",
      "Traditionally, the game has been played over two 45-minute halves, for a total match time of 90 minutes.: 1.6249999999999998\n",
      "With an estimated 250 million players active in over 200 countries and territories, it is the world's most popular sport.: 0.9791666666666666\n",
      "The game is played with a football that is 68–70 cm (27–28 in) in circumference.: 2.71875\n",
      "Only the goalkeepers may use their hands and arms, and only then within the penalty area.: 1.0104166666666665\n",
      "The team that has scored more goals at the end of the game is the winner.: 2.3854166666666665\n",
      "There are situations where a goal can be disallowed, such as an offside call or a foul in the build-up to the goal.: 0.71875\n",
      "Internationally, association football is governed by FIFA.: 1.4062500000000002\n",
      "Under FIFA, there are six continental confederations: AFC, CAF, CONCACAF, CONMEBOL, OFC, and UEFA.: 0.8333333333333335\n",
      "Of these confederations, CONMEBOL is the oldest one, being founded in 1916.: 0.3333333333333333\n",
      "National associations (e.g.: 0.17708333333333334\n",
      "The most senior and prestigious international competitions are the FIFA World Cup and the FIFA Women's World Cup.: 3.6354166666666665\n",
      "The men's World Cup is the most-viewed sporting event in the world, surpassing the Olympic Games.: 2.09375\n",
      "Since 2009, the final of the men's tournament has been the most-watched annual sporting event in the world.: 0.6666666666666667\n",
      "Association football is one of a family of football codes that emerged from various ball games played worldwide since antiquity.: 3.2812500000000004\n",
      "Initially spelt assoccer (a shortening of \"association\"), it was later reduced to the modern spelling.: 0.34375\n"
     ]
    }
   ],
   "source": [
    "sent_scores = {}\n",
    "for sent in all_sentences:\n",
    "    if len (sent.split(' ')) < 25:\n",
    "        for word in word_tokenize (sent):\n",
    "            if word in word_freq.keys():            \n",
    "                if sent in sent_scores.keys():\n",
    "                    sent_scores [sent] += word_freq [word]\n",
    "                else:\n",
    "                    sent_scores [sent] = word_freq [word]\n",
    "\n",
    "# print (sent_scores)\n",
    "\n",
    "print('key-value pairs in the sent_scores dictionary:')\n",
    "count = 0\n",
    "for i, (sent, score) in enumerate(sent_scores.items()):\n",
    "    if i < 100:\n",
    "        print(f\"{sent}: {score}\")\n",
    "        count += 1\n",
    "        if count == 15:\n",
    "            break\n",
    "    else:\n",
    "        break"
   ]
  },
  {
   "cell_type": "code",
   "execution_count": 182,
   "id": "7559e478",
   "metadata": {},
   "outputs": [
    {
     "name": "stdout",
     "output_type": "stream",
     "text": [
      "The game is played using a spherical ball of 68–70 cm (27–28 in) circumference, known as the football (or soccer ball).\n",
      "The Chinese competitive game cuju (蹴鞠, literally \"kick ball\"; also known as tsu chu) resembles modern association football.\n",
      "The most senior and prestigious international competitions are the FIFA World Cup and the FIFA Women's World Cup.\n",
      "Association football is one of a family of football codes that emerged from various ball games played worldwide since antiquity.\n",
      "The major international competition in football is the World Cup, organised by FIFA.\n",
      "Under the Laws, the two basic states of play during a game are ball in play and ball out of play.\n",
      "The teams finishing at the top of a country's league may also be eligible to play in international club competitions in the following season.\n"
     ]
    }
   ],
   "source": [
    "# Select the top 7 sentences based on the scores\n",
    "import heapq\n",
    "selected_sentences = heapq.nlargest(7, sent_scores, key=sent_scores.get)\n",
    "\n",
    "for sentence in selected_sentences:\n",
    "    print(sentence)"
   ]
  },
  {
   "cell_type": "code",
   "execution_count": 183,
   "id": "96284891",
   "metadata": {},
   "outputs": [
    {
     "name": "stdout",
     "output_type": "stream",
     "text": [
      "Relevant sentences:\n",
      "Score: 0.61 - Sentence: The major international competition in football is the World Cup, organised by FIFA.\n",
      "Score: 0.58 - Sentence: The most senior and prestigious international competitions are the FIFA World Cup and the FIFA Womens World Cup.\n",
      "Score: 0.56 - Sentence: The game is played using a spherical ball of 68–70 cm (27–28 in) circumference, known as the football (or soccer ball).\n",
      "Score: 0.40 - Sentence: Association football is one of a family of football codes that emerged from various ball games played worldwide since antiquity.\n",
      "Score: 0.30 - Sentence: The teams finishing at the top of a countrys league may also be eligible to play in international club competitions in the following season.\n",
      "Score: 0.20 - Sentence: Under the Laws, the two basic states of play during a game are ball in play and ball out of play.\n",
      "Score: 0.19 - Sentence: The Chinese competitive game cuju (蹴鞠, literally \"kick ball\"; also known as tsu chu) resembles modern association football.\n"
     ]
    }
   ],
   "source": [
    "# Enhance NLP Text Summarization with TF-IDF and Cosine Similarity\n",
    "# Given the top 7 sentences, identify the target setences manually\n",
    "\n",
    "# TF-IDF (Term Frequency-Inverse Document Frequency) is a numerical statistic that reflects the importance of a word in a document relative to a collection of documents. Here, we calcualte the TF-IDF vectors for the sentences and target sentences using scikit-learn. Then we calculate the cosine similarity between the sentences and target sentences to determine the relevance of each sentence. The sentences with higher cosine similarity scores are considered more relevant to the target sentences.\n",
    "\n",
    "# Steps:\n",
    "# Define the top sentences from caluclated scores\n",
    "# Define the target sentences or keywords for relevance\n",
    "# Calculate the TF-IDF vectors for the sentences and target sentences\n",
    "# Calculate the cosine similarity between the sentences and target sentences\n",
    "# Determine the relevance of each sentence based on the cosine similarity\n",
    "# Sort the sentences by relevance and output the relevant sentences\n",
    "\n",
    "from sklearn.metrics.pairwise import cosine_similarity\n",
    "\n",
    "# Define the top sentences from caluclated scores\n",
    "sentences = [\n",
    "    'The game is played using a spherical ball of 68–70 cm (27–28 in) circumference, known as the football (or soccer ball).',\n",
    "    'The Chinese competitive game cuju (蹴鞠, literally \"kick ball\"; also known as tsu chu) resembles modern association football.',\n",
    "    'The most senior and prestigious international competitions are the FIFA World Cup and the FIFA Womens World Cup.',\n",
    "    'Association football is one of a family of football codes that emerged from various ball games played worldwide since antiquity.',\n",
    "    'The major international competition in football is the World Cup, organised by FIFA.',\n",
    "    'Under the Laws, the two basic states of play during a game are ball in play and ball out of play.',\n",
    "    'The teams finishing at the top of a countrys league may also be eligible to play in international club competitions in the following season.'\n",
    "]\n",
    "\n",
    "# Define target sentences or keywords for relevance, manually selected\n",
    "target_sentences = [\n",
    "    \"The game is played using a spherical ball\",\n",
    "    \"FIFA World Cup\",\n",
    "    \"association football codes\",\n",
    "    \"World Cup organised by FIFA\",\n",
    "    \"international club competitions\"\n",
    "]\n",
    "\n",
    "# Calculate TF-IDF vectors\n",
    "vectorizer = TfidfVectorizer().fit_transform(sentences + target_sentences)\n",
    "vectors = vectorizer.toarray()\n",
    "\n",
    "# Calculate cosine similarity\n",
    "cosine_similarities = cosine_similarity(vectors[:len(sentences)], vectors[len(sentences):])\n",
    "\n",
    "# Determine the relevance of each sentence\n",
    "relevance_threshold = 0.1\n",
    "relevant_sentences = []\n",
    "\n",
    "for idx, sentence in enumerate(sentences):\n",
    "    max_similarity = max(cosine_similarities[idx])\n",
    "    if max_similarity >= relevance_threshold:\n",
    "        relevant_sentences.append((sentence, max_similarity))\n",
    "\n",
    "# Sort sentences by relevance\n",
    "relevant_sentences = sorted(relevant_sentences, key=lambda x: x[1], reverse=True)\n",
    "\n",
    "# Output relevant sentences\n",
    "print(\"Relevant sentences:\")\n",
    "for sentence, score in relevant_sentences:\n",
    "    print(f\"Score: {score:.2f} - Sentence: {sentence}\")"
   ]
  },
  {
   "cell_type": "markdown",
   "id": "04088843",
   "metadata": {},
   "source": [
    "Cosine Similarity\n",
    "\n",
    "Range of Values\n",
    "- 1: Indicates that the two vectors are identical.\n",
    "- 0: Indicates that the two vectors are orthogonal (i.e., they have no similarity).\n",
    "- -1: Indicates that the two vectors are diametrically opposite.\n",
    "\n",
    "Normalization: Cosine similarity is useful in text analysis because it is independent of the magnitude of the vectors, focusing purely on their direction. This means that it measures the relative proportion of terms rather than their absolute counts."
   ]
  },
  {
   "cell_type": "code",
   "execution_count": 184,
   "id": "d18edf2d",
   "metadata": {},
   "outputs": [
    {
     "name": "stdout",
     "output_type": "stream",
     "text": [
      "The major international competition in football is the World Cup, organised by FIFA.\n",
      "The most senior and prestigious international competitions are the FIFA World Cup and the FIFA Womens World Cup.\n",
      "The game is played using a spherical ball of 68–70 cm (27–28 in) circumference, known as the football (or soccer ball).\n",
      "Association football is one of a family of football codes that emerged from various ball games played worldwide since antiquity.\n",
      "The teams finishing at the top of a countrys league may also be eligible to play in international club competitions in the following season.\n"
     ]
    }
   ],
   "source": [
    "# select top 5 sentences based on the relevance score\n",
    "selected_sentences = [sentence for sentence, score in relevant_sentences[:5]]\n",
    "selected_summary = \" \".join(selected_sentences)\n",
    "for sent in selected_sentences:\n",
    "    print(sent)"
   ]
  },
  {
   "cell_type": "markdown",
   "id": "d2e2d51a",
   "metadata": {},
   "source": [
    "## Conclusion"
   ]
  },
  {
   "cell_type": "markdown",
   "id": "1b5090c4",
   "metadata": {},
   "source": []
  },
  {
   "cell_type": "code",
   "execution_count": 185,
   "id": "2308cb27",
   "metadata": {},
   "outputs": [],
   "source": [
    "# Summary of this cell is to extract the top 5 sentences based on the relevance scores calculated using TF-IDF vectorization and cosine similarity.\n",
    "# With the purpose of summarizing the text document based on the relevance of the sentences to the target sentences or keywords.\n",
    "# The TF-IDF vectors are calculated for the sentences and target sentences, and the cosine similarity is calculated between them.\n",
    "# The relevance of each sentence is determined based on the cosine similarity, and the relevant sentences are sorted by relevance.\n",
    "# The top 5 relevant sentences are selected to form the summary of the text document."
   ]
  }
 ],
 "metadata": {
  "kernelspec": {
   "display_name": "Python 3",
   "language": "python",
   "name": "python3"
  },
  "language_info": {
   "codemirror_mode": {
    "name": "ipython",
    "version": 3
   },
   "file_extension": ".py",
   "mimetype": "text/x-python",
   "name": "python",
   "nbconvert_exporter": "python",
   "pygments_lexer": "ipython3",
   "version": "3.11.0"
  }
 },
 "nbformat": 4,
 "nbformat_minor": 5
}
