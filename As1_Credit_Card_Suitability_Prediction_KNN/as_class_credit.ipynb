{
 "cells": [
  {
   "cell_type": "markdown",
   "id": "c0031047-2fc4-4fef-8190-2bd0a132d303",
   "metadata": {},
   "source": [
    "## Text Classification \n",
    "\n",
    "### Predicting Category\n",
    "\n",
    "#### Objectives\n",
    "\n",
    "On completing the assignment, you will learn how to write a simple AI supervised classification application.\n",
    "\n",
    "#### Description\n",
    "\n",
    "Write an AI application which, when provided with a person's demographic, financial, and personal attributes such as age, salary, years employed etc., will predict a person's suitability for credit card issuance. For training and testing the application, please use the labeled data set provided in the file, k_creditcard.csv. The data set contains data regarding 9709 individuals. Each person is labeled as either suitable (assigned Target value of 1) or unsuitable (assigned Target value of 0). Use 80% of the data items for training, and the remaining 20% for testing. Train the sklearn's KNeighborsClassifier classifier with parameter n_neighbors set to 5. After the classifier is trained, test it using the test data and produce accuracy score, classification report, and confusion matrix. Then, optionally try out a few self-created individual values and note the application response. \n",
    "\n",
    "The data set provided had 20 columns. However, I used only five of those columns and they are listed below.\n",
    "\n",
    "Data columns used in this assignment:\n",
    "Total_income, Age, Education_type, Housing_type, and Target\n",
    "\n",
    "\n",
    "#### Implementation Notes\n",
    "\n",
    "\n",
    "#### Dataset source\n",
    "\n",
    "The data set was downloaded from the Kaggle website below.\n",
    "\n",
    "https://www.kaggle.com/datasets/rohit265/credit-card-eligibility-data-determining-factors\n",
    "\n",
    "\n",
    "### Submittal\n",
    "\n",
    "The uploaded submittal should contain the following:\n",
    "\n",
    "- jpynb file after running the application from start to finish containing the marked source code, output, and your interaction.\n",
    "  \n",
    "- the corresponding html file.\n",
    "\n",
    "#### Coding\n",
    "\n",
    "Follow the steps below.\n"
   ]
  },
  {
   "cell_type": "markdown",
   "id": "3ad55df5-084e-4ddf-9fa6-bbaaad6ae0e3",
   "metadata": {},
   "source": [
    "Read the dataset from the csv file into a pandas dataframe"
   ]
  },
  {
   "cell_type": "code",
   "execution_count": 727,
   "id": "8ab019d0-3335-497d-8193-f5909e9fadfa",
   "metadata": {},
   "outputs": [],
   "source": [
    "import pandas as pd\n",
    "df=pd.read_csv('k_creditcard.csv')"
   ]
  },
  {
   "cell_type": "markdown",
   "id": "418de3f8-a810-4766-a14e-eafcf5fd4831",
   "metadata": {},
   "source": [
    "Find dimensions of the dataframe (rows,columns) and display its fist few rows."
   ]
  },
  {
   "cell_type": "code",
   "execution_count": 729,
   "id": "06a196a0-5395-4d38-9780-4b16b8cadb41",
   "metadata": {},
   "outputs": [
    {
     "name": "stdout",
     "output_type": "stream",
     "text": [
      "(9709, 20)\n"
     ]
    },
    {
     "data": {
      "text/html": [
       "<div>\n",
       "<style scoped>\n",
       "    .dataframe tbody tr th:only-of-type {\n",
       "        vertical-align: middle;\n",
       "    }\n",
       "\n",
       "    .dataframe tbody tr th {\n",
       "        vertical-align: top;\n",
       "    }\n",
       "\n",
       "    .dataframe thead th {\n",
       "        text-align: right;\n",
       "    }\n",
       "</style>\n",
       "<table border=\"1\" class=\"dataframe\">\n",
       "  <thead>\n",
       "    <tr style=\"text-align: right;\">\n",
       "      <th></th>\n",
       "      <th>ID</th>\n",
       "      <th>Gender</th>\n",
       "      <th>Own_car</th>\n",
       "      <th>Own_property</th>\n",
       "      <th>Work_phone</th>\n",
       "      <th>Phone</th>\n",
       "      <th>Email</th>\n",
       "      <th>Unemployed</th>\n",
       "      <th>Num_children</th>\n",
       "      <th>Num_family</th>\n",
       "      <th>Account_length</th>\n",
       "      <th>Total_income</th>\n",
       "      <th>Age</th>\n",
       "      <th>Years_employed</th>\n",
       "      <th>Income_type</th>\n",
       "      <th>Education_type</th>\n",
       "      <th>Family_status</th>\n",
       "      <th>Housing_type</th>\n",
       "      <th>Occupation_type</th>\n",
       "      <th>Target</th>\n",
       "    </tr>\n",
       "  </thead>\n",
       "  <tbody>\n",
       "    <tr>\n",
       "      <th>0</th>\n",
       "      <td>5008804</td>\n",
       "      <td>1</td>\n",
       "      <td>1</td>\n",
       "      <td>1</td>\n",
       "      <td>1</td>\n",
       "      <td>0</td>\n",
       "      <td>0</td>\n",
       "      <td>0</td>\n",
       "      <td>0</td>\n",
       "      <td>2</td>\n",
       "      <td>15</td>\n",
       "      <td>427500.0</td>\n",
       "      <td>32.868574</td>\n",
       "      <td>12.435574</td>\n",
       "      <td>Working</td>\n",
       "      <td>Higher education</td>\n",
       "      <td>Civil marriage</td>\n",
       "      <td>Rented apartment</td>\n",
       "      <td>Other</td>\n",
       "      <td>1</td>\n",
       "    </tr>\n",
       "    <tr>\n",
       "      <th>1</th>\n",
       "      <td>5008806</td>\n",
       "      <td>1</td>\n",
       "      <td>1</td>\n",
       "      <td>1</td>\n",
       "      <td>0</td>\n",
       "      <td>0</td>\n",
       "      <td>0</td>\n",
       "      <td>0</td>\n",
       "      <td>0</td>\n",
       "      <td>2</td>\n",
       "      <td>29</td>\n",
       "      <td>112500.0</td>\n",
       "      <td>58.793815</td>\n",
       "      <td>3.104787</td>\n",
       "      <td>Working</td>\n",
       "      <td>Secondary / secondary special</td>\n",
       "      <td>Married</td>\n",
       "      <td>House / apartment</td>\n",
       "      <td>Security staff</td>\n",
       "      <td>0</td>\n",
       "    </tr>\n",
       "    <tr>\n",
       "      <th>2</th>\n",
       "      <td>5008808</td>\n",
       "      <td>0</td>\n",
       "      <td>0</td>\n",
       "      <td>1</td>\n",
       "      <td>0</td>\n",
       "      <td>1</td>\n",
       "      <td>1</td>\n",
       "      <td>0</td>\n",
       "      <td>0</td>\n",
       "      <td>1</td>\n",
       "      <td>4</td>\n",
       "      <td>270000.0</td>\n",
       "      <td>52.321403</td>\n",
       "      <td>8.353354</td>\n",
       "      <td>Commercial associate</td>\n",
       "      <td>Secondary / secondary special</td>\n",
       "      <td>Single / not married</td>\n",
       "      <td>House / apartment</td>\n",
       "      <td>Sales staff</td>\n",
       "      <td>0</td>\n",
       "    </tr>\n",
       "    <tr>\n",
       "      <th>3</th>\n",
       "      <td>5008812</td>\n",
       "      <td>0</td>\n",
       "      <td>0</td>\n",
       "      <td>1</td>\n",
       "      <td>0</td>\n",
       "      <td>0</td>\n",
       "      <td>0</td>\n",
       "      <td>1</td>\n",
       "      <td>0</td>\n",
       "      <td>1</td>\n",
       "      <td>20</td>\n",
       "      <td>283500.0</td>\n",
       "      <td>61.504343</td>\n",
       "      <td>0.000000</td>\n",
       "      <td>Pensioner</td>\n",
       "      <td>Higher education</td>\n",
       "      <td>Separated</td>\n",
       "      <td>House / apartment</td>\n",
       "      <td>Other</td>\n",
       "      <td>0</td>\n",
       "    </tr>\n",
       "    <tr>\n",
       "      <th>4</th>\n",
       "      <td>5008815</td>\n",
       "      <td>1</td>\n",
       "      <td>1</td>\n",
       "      <td>1</td>\n",
       "      <td>1</td>\n",
       "      <td>1</td>\n",
       "      <td>1</td>\n",
       "      <td>0</td>\n",
       "      <td>0</td>\n",
       "      <td>2</td>\n",
       "      <td>5</td>\n",
       "      <td>270000.0</td>\n",
       "      <td>46.193967</td>\n",
       "      <td>2.105450</td>\n",
       "      <td>Working</td>\n",
       "      <td>Higher education</td>\n",
       "      <td>Married</td>\n",
       "      <td>House / apartment</td>\n",
       "      <td>Accountants</td>\n",
       "      <td>0</td>\n",
       "    </tr>\n",
       "  </tbody>\n",
       "</table>\n",
       "</div>"
      ],
      "text/plain": [
       "        ID  Gender  Own_car  Own_property  Work_phone  Phone  Email  \\\n",
       "0  5008804       1        1             1           1      0      0   \n",
       "1  5008806       1        1             1           0      0      0   \n",
       "2  5008808       0        0             1           0      1      1   \n",
       "3  5008812       0        0             1           0      0      0   \n",
       "4  5008815       1        1             1           1      1      1   \n",
       "\n",
       "   Unemployed  Num_children  Num_family  Account_length  Total_income  \\\n",
       "0           0             0           2              15      427500.0   \n",
       "1           0             0           2              29      112500.0   \n",
       "2           0             0           1               4      270000.0   \n",
       "3           1             0           1              20      283500.0   \n",
       "4           0             0           2               5      270000.0   \n",
       "\n",
       "         Age  Years_employed           Income_type  \\\n",
       "0  32.868574       12.435574               Working   \n",
       "1  58.793815        3.104787               Working   \n",
       "2  52.321403        8.353354  Commercial associate   \n",
       "3  61.504343        0.000000             Pensioner   \n",
       "4  46.193967        2.105450               Working   \n",
       "\n",
       "                  Education_type         Family_status       Housing_type  \\\n",
       "0               Higher education        Civil marriage   Rented apartment   \n",
       "1  Secondary / secondary special               Married  House / apartment   \n",
       "2  Secondary / secondary special  Single / not married  House / apartment   \n",
       "3               Higher education             Separated  House / apartment   \n",
       "4               Higher education               Married  House / apartment   \n",
       "\n",
       "  Occupation_type  Target  \n",
       "0           Other       1  \n",
       "1  Security staff       0  \n",
       "2     Sales staff       0  \n",
       "3           Other       0  \n",
       "4     Accountants       0  "
      ]
     },
     "execution_count": 729,
     "metadata": {},
     "output_type": "execute_result"
    }
   ],
   "source": [
    "print (df.shape)\n",
    "df[0:5]"
   ]
  },
  {
   "cell_type": "markdown",
   "id": "d754f9e9-e220-4cca-a53e-aedaef8293a6",
   "metadata": {},
   "source": [
    "Determine the number of missing or null entries"
   ]
  },
  {
   "cell_type": "code",
   "execution_count": 731,
   "id": "03546424-5483-4eef-9163-98c0fc6af490",
   "metadata": {},
   "outputs": [
    {
     "data": {
      "text/plain": [
       "0"
      ]
     },
     "execution_count": 731,
     "metadata": {},
     "output_type": "execute_result"
    }
   ],
   "source": [
    "df.isna().sum().sum()\n"
   ]
  },
  {
   "cell_type": "markdown",
   "id": "a7f5b2f4-a517-4090-8d6d-373ec71a468f",
   "metadata": {},
   "source": [
    "Display value count for each category for column Target."
   ]
  },
  {
   "cell_type": "markdown",
   "id": "df779736-2b4f-417f-805b-f1b133a5d063",
   "metadata": {},
   "source": [
    "Bring out only the needed columns"
   ]
  },
  {
   "cell_type": "code",
   "execution_count": 734,
   "id": "804a19d0-3985-43c1-bcbf-611912286b05",
   "metadata": {},
   "outputs": [],
   "source": [
    "df=df.filter(['Total_income','Age','Education_type','Housing_type','Target'])"
   ]
  },
  {
   "cell_type": "markdown",
   "id": "96e397d3-5604-4d26-9711-e78dd007155d",
   "metadata": {},
   "source": [
    "Find dimensions of the dataframe (rows,columns) and display its fist few rows."
   ]
  },
  {
   "cell_type": "code",
   "execution_count": 736,
   "id": "0798b1ef-2af3-4762-8f70-5dc8e82d1970",
   "metadata": {},
   "outputs": [
    {
     "name": "stdout",
     "output_type": "stream",
     "text": [
      "(9709, 5)\n"
     ]
    },
    {
     "data": {
      "text/html": [
       "<div>\n",
       "<style scoped>\n",
       "    .dataframe tbody tr th:only-of-type {\n",
       "        vertical-align: middle;\n",
       "    }\n",
       "\n",
       "    .dataframe tbody tr th {\n",
       "        vertical-align: top;\n",
       "    }\n",
       "\n",
       "    .dataframe thead th {\n",
       "        text-align: right;\n",
       "    }\n",
       "</style>\n",
       "<table border=\"1\" class=\"dataframe\">\n",
       "  <thead>\n",
       "    <tr style=\"text-align: right;\">\n",
       "      <th></th>\n",
       "      <th>Total_income</th>\n",
       "      <th>Age</th>\n",
       "      <th>Education_type</th>\n",
       "      <th>Housing_type</th>\n",
       "      <th>Target</th>\n",
       "    </tr>\n",
       "  </thead>\n",
       "  <tbody>\n",
       "    <tr>\n",
       "      <th>0</th>\n",
       "      <td>427500.0</td>\n",
       "      <td>32.868574</td>\n",
       "      <td>Higher education</td>\n",
       "      <td>Rented apartment</td>\n",
       "      <td>1</td>\n",
       "    </tr>\n",
       "    <tr>\n",
       "      <th>1</th>\n",
       "      <td>112500.0</td>\n",
       "      <td>58.793815</td>\n",
       "      <td>Secondary / secondary special</td>\n",
       "      <td>House / apartment</td>\n",
       "      <td>0</td>\n",
       "    </tr>\n",
       "    <tr>\n",
       "      <th>2</th>\n",
       "      <td>270000.0</td>\n",
       "      <td>52.321403</td>\n",
       "      <td>Secondary / secondary special</td>\n",
       "      <td>House / apartment</td>\n",
       "      <td>0</td>\n",
       "    </tr>\n",
       "  </tbody>\n",
       "</table>\n",
       "</div>"
      ],
      "text/plain": [
       "   Total_income        Age                 Education_type       Housing_type  \\\n",
       "0      427500.0  32.868574               Higher education   Rented apartment   \n",
       "1      112500.0  58.793815  Secondary / secondary special  House / apartment   \n",
       "2      270000.0  52.321403  Secondary / secondary special  House / apartment   \n",
       "\n",
       "   Target  \n",
       "0       1  \n",
       "1       0  \n",
       "2       0  "
      ]
     },
     "execution_count": 736,
     "metadata": {},
     "output_type": "execute_result"
    }
   ],
   "source": [
    "print (df.shape)\n",
    "df[0:3]"
   ]
  },
  {
   "cell_type": "markdown",
   "id": "faa9bca9-54fd-4a89-ae8f-53a665eca8ca",
   "metadata": {},
   "source": [
    "Display the categories in Target column"
   ]
  },
  {
   "cell_type": "code",
   "execution_count": 738,
   "id": "07f409e5-f2cf-416d-a09c-0bc5c5c2f681",
   "metadata": {},
   "outputs": [
    {
     "data": {
      "text/plain": [
       "Target\n",
       "0    8426\n",
       "1    1283\n",
       "Name: count, dtype: int64"
      ]
     },
     "execution_count": 738,
     "metadata": {},
     "output_type": "execute_result"
    }
   ],
   "source": [
    "df.Target.value_counts()"
   ]
  },
  {
   "cell_type": "markdown",
   "id": "2635f012-9ea1-40f3-91a4-4848e75e9c87",
   "metadata": {},
   "source": [
    "Assign the Target column to variable y to be used as labels for the features"
   ]
  },
  {
   "cell_type": "code",
   "execution_count": 740,
   "id": "4e032c8b-4cd0-4f71-bace-8ff9cf99f61a",
   "metadata": {},
   "outputs": [
    {
     "name": "stdout",
     "output_type": "stream",
     "text": [
      "<class 'pandas.core.series.Series'>\n"
     ]
    }
   ],
   "source": [
    "y=df.Target\n",
    "print (type(y))"
   ]
  },
  {
   "cell_type": "markdown",
   "id": "409221f4-b63a-4400-ae89-f08353825813",
   "metadata": {},
   "source": [
    "Remove the Target column from among the features"
   ]
  },
  {
   "cell_type": "code",
   "execution_count": 742,
   "id": "d36a3845-0694-4ff8-8c44-f414f17cbf87",
   "metadata": {},
   "outputs": [
    {
     "data": {
      "text/html": [
       "<div>\n",
       "<style scoped>\n",
       "    .dataframe tbody tr th:only-of-type {\n",
       "        vertical-align: middle;\n",
       "    }\n",
       "\n",
       "    .dataframe tbody tr th {\n",
       "        vertical-align: top;\n",
       "    }\n",
       "\n",
       "    .dataframe thead th {\n",
       "        text-align: right;\n",
       "    }\n",
       "</style>\n",
       "<table border=\"1\" class=\"dataframe\">\n",
       "  <thead>\n",
       "    <tr style=\"text-align: right;\">\n",
       "      <th></th>\n",
       "      <th>Total_income</th>\n",
       "      <th>Age</th>\n",
       "      <th>Education_type</th>\n",
       "      <th>Housing_type</th>\n",
       "    </tr>\n",
       "  </thead>\n",
       "  <tbody>\n",
       "    <tr>\n",
       "      <th>0</th>\n",
       "      <td>427500.0</td>\n",
       "      <td>32.868574</td>\n",
       "      <td>Higher education</td>\n",
       "      <td>Rented apartment</td>\n",
       "    </tr>\n",
       "    <tr>\n",
       "      <th>1</th>\n",
       "      <td>112500.0</td>\n",
       "      <td>58.793815</td>\n",
       "      <td>Secondary / secondary special</td>\n",
       "      <td>House / apartment</td>\n",
       "    </tr>\n",
       "    <tr>\n",
       "      <th>2</th>\n",
       "      <td>270000.0</td>\n",
       "      <td>52.321403</td>\n",
       "      <td>Secondary / secondary special</td>\n",
       "      <td>House / apartment</td>\n",
       "    </tr>\n",
       "  </tbody>\n",
       "</table>\n",
       "</div>"
      ],
      "text/plain": [
       "   Total_income        Age                 Education_type       Housing_type\n",
       "0      427500.0  32.868574               Higher education   Rented apartment\n",
       "1      112500.0  58.793815  Secondary / secondary special  House / apartment\n",
       "2      270000.0  52.321403  Secondary / secondary special  House / apartment"
      ]
     },
     "execution_count": 742,
     "metadata": {},
     "output_type": "execute_result"
    }
   ],
   "source": [
    "df=df.drop(['Target'],axis=1)\n",
    "df[0:3]"
   ]
  },
  {
   "cell_type": "markdown",
   "id": "1ddb05e3-3cdc-406e-8828-0c29fac84f87",
   "metadata": {},
   "source": [
    "Bring out only the categorical features for converting them to numerical."
   ]
  },
  {
   "cell_type": "code",
   "execution_count": 744,
   "id": "c86691a2-14f6-4c1d-8d99-7b9e426ff893",
   "metadata": {},
   "outputs": [
    {
     "data": {
      "text/html": [
       "<div>\n",
       "<style scoped>\n",
       "    .dataframe tbody tr th:only-of-type {\n",
       "        vertical-align: middle;\n",
       "    }\n",
       "\n",
       "    .dataframe tbody tr th {\n",
       "        vertical-align: top;\n",
       "    }\n",
       "\n",
       "    .dataframe thead th {\n",
       "        text-align: right;\n",
       "    }\n",
       "</style>\n",
       "<table border=\"1\" class=\"dataframe\">\n",
       "  <thead>\n",
       "    <tr style=\"text-align: right;\">\n",
       "      <th></th>\n",
       "      <th>Education_type</th>\n",
       "      <th>Housing_type</th>\n",
       "    </tr>\n",
       "  </thead>\n",
       "  <tbody>\n",
       "    <tr>\n",
       "      <th>0</th>\n",
       "      <td>Higher education</td>\n",
       "      <td>Rented apartment</td>\n",
       "    </tr>\n",
       "    <tr>\n",
       "      <th>1</th>\n",
       "      <td>Secondary / secondary special</td>\n",
       "      <td>House / apartment</td>\n",
       "    </tr>\n",
       "    <tr>\n",
       "      <th>2</th>\n",
       "      <td>Secondary / secondary special</td>\n",
       "      <td>House / apartment</td>\n",
       "    </tr>\n",
       "  </tbody>\n",
       "</table>\n",
       "</div>"
      ],
      "text/plain": [
       "                  Education_type       Housing_type\n",
       "0               Higher education   Rented apartment\n",
       "1  Secondary / secondary special  House / apartment\n",
       "2  Secondary / secondary special  House / apartment"
      ]
     },
     "execution_count": 744,
     "metadata": {},
     "output_type": "execute_result"
    }
   ],
   "source": [
    "df_cat=df.filter(['Education_type','Housing_type'])\n",
    "df_cat [0:3]"
   ]
  },
  {
   "cell_type": "markdown",
   "id": "3bbb823e-5437-4c0f-9317-c89b351a7e9b",
   "metadata": {},
   "source": [
    "Display the categories of Education_type"
   ]
  },
  {
   "cell_type": "code",
   "execution_count": 746,
   "id": "b5bd43b9-925c-43b0-909f-77fd8782956d",
   "metadata": {},
   "outputs": [
    {
     "data": {
      "text/plain": [
       "Education_type\n",
       "Secondary / secondary special    6761\n",
       "Higher education                 2457\n",
       "Incomplete higher                 371\n",
       "Lower secondary                   114\n",
       "Academic degree                     6\n",
       "Name: count, dtype: int64"
      ]
     },
     "execution_count": 746,
     "metadata": {},
     "output_type": "execute_result"
    }
   ],
   "source": [
    "df_cat.Education_type.value_counts()\n",
    "#df_cat.groupby('Education_type').count() #alternative form"
   ]
  },
  {
   "cell_type": "markdown",
   "id": "ddfcd6af-3325-4311-bf33-586b79b1d043",
   "metadata": {},
   "source": [
    "Display the categories of Housing_type"
   ]
  },
  {
   "cell_type": "code",
   "execution_count": 748,
   "id": "b7d1f81f-5e4f-4179-bd97-b24b204b7ed5",
   "metadata": {},
   "outputs": [
    {
     "data": {
      "text/plain": [
       "Housing_type\n",
       "House / apartment      8684\n",
       "With parents            448\n",
       "Municipal apartment     323\n",
       "Rented apartment        144\n",
       "Office apartment         76\n",
       "Co-op apartment          34\n",
       "Name: count, dtype: int64"
      ]
     },
     "execution_count": 748,
     "metadata": {},
     "output_type": "execute_result"
    }
   ],
   "source": [
    "df_cat.Housing_type.value_counts()"
   ]
  },
  {
   "cell_type": "markdown",
   "id": "c1c11843-e960-4753-bb63-325ef1a50f90",
   "metadata": {},
   "source": [
    "By default, get_dummies creates k new numerical columns for each categorical column where k is the number of categories used in the categorical column, with each new column representing a category. However, if parameter drop_first=True is provided as is done below, it creates one less new column. For example, for Education_type, it will create 4 new columns instead of 5 (for its 5 categories). In that cases, the absence value (value 0) for the four new columns, would imply the presence of fifth.\n",
    "\n",
    "By default, the allowable values for each new column are True/False. However, if parameter dtype=int is provided as is done below, the allowable column values become 0/1. "
   ]
  },
  {
   "cell_type": "code",
   "execution_count": 750,
   "id": "c6361f22-6554-4bb6-9be4-0230ae3a4bca",
   "metadata": {
    "scrolled": true
   },
   "outputs": [
    {
     "data": {
      "text/html": [
       "<div>\n",
       "<style scoped>\n",
       "    .dataframe tbody tr th:only-of-type {\n",
       "        vertical-align: middle;\n",
       "    }\n",
       "\n",
       "    .dataframe tbody tr th {\n",
       "        vertical-align: top;\n",
       "    }\n",
       "\n",
       "    .dataframe thead th {\n",
       "        text-align: right;\n",
       "    }\n",
       "</style>\n",
       "<table border=\"1\" class=\"dataframe\">\n",
       "  <thead>\n",
       "    <tr style=\"text-align: right;\">\n",
       "      <th></th>\n",
       "      <th>Education_type_Higher education</th>\n",
       "      <th>Education_type_Incomplete higher</th>\n",
       "      <th>Education_type_Lower secondary</th>\n",
       "      <th>Education_type_Secondary / secondary special</th>\n",
       "      <th>Housing_type_House / apartment</th>\n",
       "      <th>Housing_type_Municipal apartment</th>\n",
       "      <th>Housing_type_Office apartment</th>\n",
       "      <th>Housing_type_Rented apartment</th>\n",
       "      <th>Housing_type_With parents</th>\n",
       "    </tr>\n",
       "  </thead>\n",
       "  <tbody>\n",
       "    <tr>\n",
       "      <th>0</th>\n",
       "      <td>1</td>\n",
       "      <td>0</td>\n",
       "      <td>0</td>\n",
       "      <td>0</td>\n",
       "      <td>0</td>\n",
       "      <td>0</td>\n",
       "      <td>0</td>\n",
       "      <td>1</td>\n",
       "      <td>0</td>\n",
       "    </tr>\n",
       "    <tr>\n",
       "      <th>1</th>\n",
       "      <td>0</td>\n",
       "      <td>0</td>\n",
       "      <td>0</td>\n",
       "      <td>1</td>\n",
       "      <td>1</td>\n",
       "      <td>0</td>\n",
       "      <td>0</td>\n",
       "      <td>0</td>\n",
       "      <td>0</td>\n",
       "    </tr>\n",
       "    <tr>\n",
       "      <th>2</th>\n",
       "      <td>0</td>\n",
       "      <td>0</td>\n",
       "      <td>0</td>\n",
       "      <td>1</td>\n",
       "      <td>1</td>\n",
       "      <td>0</td>\n",
       "      <td>0</td>\n",
       "      <td>0</td>\n",
       "      <td>0</td>\n",
       "    </tr>\n",
       "  </tbody>\n",
       "</table>\n",
       "</div>"
      ],
      "text/plain": [
       "   Education_type_Higher education  Education_type_Incomplete higher  \\\n",
       "0                                1                                 0   \n",
       "1                                0                                 0   \n",
       "2                                0                                 0   \n",
       "\n",
       "   Education_type_Lower secondary  \\\n",
       "0                               0   \n",
       "1                               0   \n",
       "2                               0   \n",
       "\n",
       "   Education_type_Secondary / secondary special  \\\n",
       "0                                             0   \n",
       "1                                             1   \n",
       "2                                             1   \n",
       "\n",
       "   Housing_type_House / apartment  Housing_type_Municipal apartment  \\\n",
       "0                               0                                 0   \n",
       "1                               1                                 0   \n",
       "2                               1                                 0   \n",
       "\n",
       "   Housing_type_Office apartment  Housing_type_Rented apartment  \\\n",
       "0                              0                              1   \n",
       "1                              0                              0   \n",
       "2                              0                              0   \n",
       "\n",
       "   Housing_type_With parents  \n",
       "0                          0  \n",
       "1                          0  \n",
       "2                          0  "
      ]
     },
     "execution_count": 750,
     "metadata": {},
     "output_type": "execute_result"
    }
   ],
   "source": [
    "df_cat_num= pd.get_dummies(df_cat, dtype=int,drop_first=True)\n",
    "df_cat_num [0:3]"
   ]
  },
  {
   "cell_type": "markdown",
   "id": "03523f00-99ea-4641-bbbf-610d8e42549e",
   "metadata": {},
   "source": [
    "Bring out the numerical columns"
   ]
  },
  {
   "cell_type": "code",
   "execution_count": 752,
   "id": "145f1d69-6323-4db9-936b-e4cd42c309b2",
   "metadata": {},
   "outputs": [
    {
     "data": {
      "text/html": [
       "<div>\n",
       "<style scoped>\n",
       "    .dataframe tbody tr th:only-of-type {\n",
       "        vertical-align: middle;\n",
       "    }\n",
       "\n",
       "    .dataframe tbody tr th {\n",
       "        vertical-align: top;\n",
       "    }\n",
       "\n",
       "    .dataframe thead th {\n",
       "        text-align: right;\n",
       "    }\n",
       "</style>\n",
       "<table border=\"1\" class=\"dataframe\">\n",
       "  <thead>\n",
       "    <tr style=\"text-align: right;\">\n",
       "      <th></th>\n",
       "      <th>Total_income</th>\n",
       "      <th>Age</th>\n",
       "    </tr>\n",
       "  </thead>\n",
       "  <tbody>\n",
       "    <tr>\n",
       "      <th>0</th>\n",
       "      <td>427500.0</td>\n",
       "      <td>32.868574</td>\n",
       "    </tr>\n",
       "    <tr>\n",
       "      <th>1</th>\n",
       "      <td>112500.0</td>\n",
       "      <td>58.793815</td>\n",
       "    </tr>\n",
       "    <tr>\n",
       "      <th>2</th>\n",
       "      <td>270000.0</td>\n",
       "      <td>52.321403</td>\n",
       "    </tr>\n",
       "  </tbody>\n",
       "</table>\n",
       "</div>"
      ],
      "text/plain": [
       "   Total_income        Age\n",
       "0      427500.0  32.868574\n",
       "1      112500.0  58.793815\n",
       "2      270000.0  52.321403"
      ]
     },
     "execution_count": 752,
     "metadata": {},
     "output_type": "execute_result"
    }
   ],
   "source": [
    "df_num = df.filter(['Total_income','Age'],axis=1)\n",
    "df_num [0:3]"
   ]
  },
  {
   "cell_type": "markdown",
   "id": "8bea7f36-a5f3-4267-9d30-b523366cc515",
   "metadata": {},
   "source": [
    "Concatenate the numerical columns and the categorical columns(that are  converted to numerical columns). So, now all the columns are numerical and represent our features. "
   ]
  },
  {
   "cell_type": "code",
   "execution_count": 754,
   "id": "28435610-b215-4b2c-9ea1-5546ae73293e",
   "metadata": {},
   "outputs": [
    {
     "name": "stdout",
     "output_type": "stream",
     "text": [
      "(9709, 11)\n"
     ]
    },
    {
     "data": {
      "text/html": [
       "<div>\n",
       "<style scoped>\n",
       "    .dataframe tbody tr th:only-of-type {\n",
       "        vertical-align: middle;\n",
       "    }\n",
       "\n",
       "    .dataframe tbody tr th {\n",
       "        vertical-align: top;\n",
       "    }\n",
       "\n",
       "    .dataframe thead th {\n",
       "        text-align: right;\n",
       "    }\n",
       "</style>\n",
       "<table border=\"1\" class=\"dataframe\">\n",
       "  <thead>\n",
       "    <tr style=\"text-align: right;\">\n",
       "      <th></th>\n",
       "      <th>Total_income</th>\n",
       "      <th>Age</th>\n",
       "      <th>Education_type_Higher education</th>\n",
       "      <th>Education_type_Incomplete higher</th>\n",
       "      <th>Education_type_Lower secondary</th>\n",
       "      <th>Education_type_Secondary / secondary special</th>\n",
       "      <th>Housing_type_House / apartment</th>\n",
       "      <th>Housing_type_Municipal apartment</th>\n",
       "      <th>Housing_type_Office apartment</th>\n",
       "      <th>Housing_type_Rented apartment</th>\n",
       "      <th>Housing_type_With parents</th>\n",
       "    </tr>\n",
       "  </thead>\n",
       "  <tbody>\n",
       "    <tr>\n",
       "      <th>0</th>\n",
       "      <td>427500.0</td>\n",
       "      <td>32.868574</td>\n",
       "      <td>1</td>\n",
       "      <td>0</td>\n",
       "      <td>0</td>\n",
       "      <td>0</td>\n",
       "      <td>0</td>\n",
       "      <td>0</td>\n",
       "      <td>0</td>\n",
       "      <td>1</td>\n",
       "      <td>0</td>\n",
       "    </tr>\n",
       "    <tr>\n",
       "      <th>1</th>\n",
       "      <td>112500.0</td>\n",
       "      <td>58.793815</td>\n",
       "      <td>0</td>\n",
       "      <td>0</td>\n",
       "      <td>0</td>\n",
       "      <td>1</td>\n",
       "      <td>1</td>\n",
       "      <td>0</td>\n",
       "      <td>0</td>\n",
       "      <td>0</td>\n",
       "      <td>0</td>\n",
       "    </tr>\n",
       "    <tr>\n",
       "      <th>2</th>\n",
       "      <td>270000.0</td>\n",
       "      <td>52.321403</td>\n",
       "      <td>0</td>\n",
       "      <td>0</td>\n",
       "      <td>0</td>\n",
       "      <td>1</td>\n",
       "      <td>1</td>\n",
       "      <td>0</td>\n",
       "      <td>0</td>\n",
       "      <td>0</td>\n",
       "      <td>0</td>\n",
       "    </tr>\n",
       "  </tbody>\n",
       "</table>\n",
       "</div>"
      ],
      "text/plain": [
       "   Total_income        Age  Education_type_Higher education  \\\n",
       "0      427500.0  32.868574                                1   \n",
       "1      112500.0  58.793815                                0   \n",
       "2      270000.0  52.321403                                0   \n",
       "\n",
       "   Education_type_Incomplete higher  Education_type_Lower secondary  \\\n",
       "0                                 0                               0   \n",
       "1                                 0                               0   \n",
       "2                                 0                               0   \n",
       "\n",
       "   Education_type_Secondary / secondary special  \\\n",
       "0                                             0   \n",
       "1                                             1   \n",
       "2                                             1   \n",
       "\n",
       "   Housing_type_House / apartment  Housing_type_Municipal apartment  \\\n",
       "0                               0                                 0   \n",
       "1                               1                                 0   \n",
       "2                               1                                 0   \n",
       "\n",
       "   Housing_type_Office apartment  Housing_type_Rented apartment  \\\n",
       "0                              0                              1   \n",
       "1                              0                              0   \n",
       "2                              0                              0   \n",
       "\n",
       "   Housing_type_With parents  \n",
       "0                          0  \n",
       "1                          0  \n",
       "2                          0  "
      ]
     },
     "execution_count": 754,
     "metadata": {},
     "output_type": "execute_result"
    }
   ],
   "source": [
    "X = pd.concat([df_num,df_cat_num],axis=1)\n",
    "print (X.shape)\n",
    "X [0:3]"
   ]
  },
  {
   "cell_type": "markdown",
   "id": "c2f9c784-415c-4acf-ad88-be7fb3665a15",
   "metadata": {},
   "source": [
    "Split all data (feature and label) into a training part and a testing part."
   ]
  },
  {
   "cell_type": "code",
   "execution_count": 756,
   "id": "21df4000-9730-49df-b10d-ea5f47489ff5",
   "metadata": {},
   "outputs": [],
   "source": [
    "from sklearn.model_selection import train_test_split\n",
    "X_train, X_test, y_train, y_test = \\\n",
    "train_test_split(X, y, test_size=0.2, random_state=0)"
   ]
  },
  {
   "cell_type": "markdown",
   "id": "73aaaf53-87a0-4baa-af9e-ae12dca16d8e",
   "metadata": {},
   "source": [
    "Scale both training and testing data. For the first one call the function fit_transform and the subsequent one use transform as shown below."
   ]
  },
  {
   "cell_type": "code",
   "execution_count": 758,
   "id": "678283bd-d747-4c44-9761-b2eac30101ab",
   "metadata": {},
   "outputs": [
    {
     "name": "stdout",
     "output_type": "stream",
     "text": [
      "[[-1.23423518  1.74669168 -0.58731173 -0.19974545  9.28814637 -1.50219965\n",
      "   0.34613536 -0.18794657 -0.09042992 -0.12420488 -0.22013887]\n",
      " [ 0.8865448  -0.11520336 -0.58731173 -0.19974545 -0.10766411  0.66569048\n",
      "   0.34613536 -0.18794657 -0.09042992 -0.12420488 -0.22013887]\n",
      " [-0.24152966 -0.2251708  -0.58731173 -0.19974545 -0.10766411  0.66569048\n",
      "   0.34613536 -0.18794657 -0.09042992 -0.12420488 -0.22013887]]\n",
      "[[ 0.8865448  -1.24319554  1.70267331 -0.19974545 -0.10766411 -1.50219965\n",
      "   0.34613536 -0.18794657 -0.09042992 -0.12420488 -0.22013887]\n",
      " [-0.01591477 -1.23540815 -0.58731173 -0.19974545 -0.10766411  0.66569048\n",
      "  -2.88904316  5.32066105 -0.09042992 -0.12420488 -0.22013887]\n",
      " [ 0.43531501 -0.43118276  1.70267331 -0.19974545 -0.10766411 -1.50219965\n",
      "   0.34613536 -0.18794657 -0.09042992 -0.12420488 -0.22013887]]\n"
     ]
    }
   ],
   "source": [
    "from sklearn.preprocessing import StandardScaler\n",
    "sc = StandardScaler()\n",
    "\n",
    "X_train_scaled = sc.fit_transform (X_train)\n",
    "X_test_scaled = sc.transform (X_test)\n",
    "\n",
    "print (X_train_scaled[0:3])\n",
    "print (X_test_scaled[0:3])"
   ]
  },
  {
   "cell_type": "markdown",
   "id": "45377ad3-ffb0-426b-96e1-04b19e837aae",
   "metadata": {},
   "source": [
    "Train our select model with scaled training data"
   ]
  },
  {
   "cell_type": "code",
   "execution_count": 760,
   "id": "e41de352-8ac0-4b4d-b2be-3b81680daa17",
   "metadata": {
    "scrolled": true
   },
   "outputs": [
    {
     "data": {
      "text/html": [
       "<style>#sk-container-id-8 {color: black;}#sk-container-id-8 pre{padding: 0;}#sk-container-id-8 div.sk-toggleable {background-color: white;}#sk-container-id-8 label.sk-toggleable__label {cursor: pointer;display: block;width: 100%;margin-bottom: 0;padding: 0.3em;box-sizing: border-box;text-align: center;}#sk-container-id-8 label.sk-toggleable__label-arrow:before {content: \"▸\";float: left;margin-right: 0.25em;color: #696969;}#sk-container-id-8 label.sk-toggleable__label-arrow:hover:before {color: black;}#sk-container-id-8 div.sk-estimator:hover label.sk-toggleable__label-arrow:before {color: black;}#sk-container-id-8 div.sk-toggleable__content {max-height: 0;max-width: 0;overflow: hidden;text-align: left;background-color: #f0f8ff;}#sk-container-id-8 div.sk-toggleable__content pre {margin: 0.2em;color: black;border-radius: 0.25em;background-color: #f0f8ff;}#sk-container-id-8 input.sk-toggleable__control:checked~div.sk-toggleable__content {max-height: 200px;max-width: 100%;overflow: auto;}#sk-container-id-8 input.sk-toggleable__control:checked~label.sk-toggleable__label-arrow:before {content: \"▾\";}#sk-container-id-8 div.sk-estimator input.sk-toggleable__control:checked~label.sk-toggleable__label {background-color: #d4ebff;}#sk-container-id-8 div.sk-label input.sk-toggleable__control:checked~label.sk-toggleable__label {background-color: #d4ebff;}#sk-container-id-8 input.sk-hidden--visually {border: 0;clip: rect(1px 1px 1px 1px);clip: rect(1px, 1px, 1px, 1px);height: 1px;margin: -1px;overflow: hidden;padding: 0;position: absolute;width: 1px;}#sk-container-id-8 div.sk-estimator {font-family: monospace;background-color: #f0f8ff;border: 1px dotted black;border-radius: 0.25em;box-sizing: border-box;margin-bottom: 0.5em;}#sk-container-id-8 div.sk-estimator:hover {background-color: #d4ebff;}#sk-container-id-8 div.sk-parallel-item::after {content: \"\";width: 100%;border-bottom: 1px solid gray;flex-grow: 1;}#sk-container-id-8 div.sk-label:hover label.sk-toggleable__label {background-color: #d4ebff;}#sk-container-id-8 div.sk-serial::before {content: \"\";position: absolute;border-left: 1px solid gray;box-sizing: border-box;top: 0;bottom: 0;left: 50%;z-index: 0;}#sk-container-id-8 div.sk-serial {display: flex;flex-direction: column;align-items: center;background-color: white;padding-right: 0.2em;padding-left: 0.2em;position: relative;}#sk-container-id-8 div.sk-item {position: relative;z-index: 1;}#sk-container-id-8 div.sk-parallel {display: flex;align-items: stretch;justify-content: center;background-color: white;position: relative;}#sk-container-id-8 div.sk-item::before, #sk-container-id-8 div.sk-parallel-item::before {content: \"\";position: absolute;border-left: 1px solid gray;box-sizing: border-box;top: 0;bottom: 0;left: 50%;z-index: -1;}#sk-container-id-8 div.sk-parallel-item {display: flex;flex-direction: column;z-index: 1;position: relative;background-color: white;}#sk-container-id-8 div.sk-parallel-item:first-child::after {align-self: flex-end;width: 50%;}#sk-container-id-8 div.sk-parallel-item:last-child::after {align-self: flex-start;width: 50%;}#sk-container-id-8 div.sk-parallel-item:only-child::after {width: 0;}#sk-container-id-8 div.sk-dashed-wrapped {border: 1px dashed gray;margin: 0 0.4em 0.5em 0.4em;box-sizing: border-box;padding-bottom: 0.4em;background-color: white;}#sk-container-id-8 div.sk-label label {font-family: monospace;font-weight: bold;display: inline-block;line-height: 1.2em;}#sk-container-id-8 div.sk-label-container {text-align: center;}#sk-container-id-8 div.sk-container {/* jupyter's `normalize.less` sets `[hidden] { display: none; }` but bootstrap.min.css set `[hidden] { display: none !important; }` so we also need the `!important` here to be able to override the default hidden behavior on the sphinx rendered scikit-learn.org. See: https://github.com/scikit-learn/scikit-learn/issues/21755 */display: inline-block !important;position: relative;}#sk-container-id-8 div.sk-text-repr-fallback {display: none;}</style><div id=\"sk-container-id-8\" class=\"sk-top-container\"><div class=\"sk-text-repr-fallback\"><pre>KNeighborsClassifier()</pre><b>In a Jupyter environment, please rerun this cell to show the HTML representation or trust the notebook. <br />On GitHub, the HTML representation is unable to render, please try loading this page with nbviewer.org.</b></div><div class=\"sk-container\" hidden><div class=\"sk-item\"><div class=\"sk-estimator sk-toggleable\"><input class=\"sk-toggleable__control sk-hidden--visually\" id=\"sk-estimator-id-8\" type=\"checkbox\" checked><label for=\"sk-estimator-id-8\" class=\"sk-toggleable__label sk-toggleable__label-arrow\">KNeighborsClassifier</label><div class=\"sk-toggleable__content\"><pre>KNeighborsClassifier()</pre></div></div></div></div></div>"
      ],
      "text/plain": [
       "KNeighborsClassifier()"
      ]
     },
     "execution_count": 760,
     "metadata": {},
     "output_type": "execute_result"
    }
   ],
   "source": [
    "from sklearn.neighbors  import KNeighborsClassifier\n",
    "clf = KNeighborsClassifier(n_neighbors= 5)\n",
    "\n",
    "#from sklearn.svm import SVC\n",
    "#clf = SVC()\n",
    "\n",
    "#from sklearn.ensemble import RandomForestClassifier\n",
    "#clf = RandomForestClassifier(n_estimators=500)\n",
    "\n",
    "#from sklearn.linear_model import LogisticRegression\n",
    "#clf = LogisticRegression ()\n",
    "X_train_scaled=X_train\n",
    "clf.fit (X_train_scaled,y_train)"
   ]
  },
  {
   "cell_type": "markdown",
   "id": "53432518-2a44-4d55-80b6-fc441128ed83",
   "metadata": {},
   "source": [
    "Test trained model with scaled testing data"
   ]
  },
  {
   "cell_type": "code",
   "execution_count": 762,
   "id": "aa7bd647-f6fb-4b19-aca7-459ce313006b",
   "metadata": {},
   "outputs": [
    {
     "data": {
      "text/plain": [
       "array([0, 0, 0, ..., 0, 0, 0])"
      ]
     },
     "execution_count": 762,
     "metadata": {},
     "output_type": "execute_result"
    }
   ],
   "source": [
    "X_test_scaled=X_test\n",
    "y_pred = clf.predict(X_test_scaled)\n",
    "y_pred"
   ]
  },
  {
   "cell_type": "markdown",
   "id": "d7f41678-e595-4a7d-8e38-439e4be62464",
   "metadata": {},
   "source": [
    "Produce accuracy score, classification report, and confusion matrix"
   ]
  },
  {
   "cell_type": "code",
   "execution_count": 764,
   "id": "c78cbcdd-930d-4f40-b21b-7f7f6a695751",
   "metadata": {},
   "outputs": [
    {
     "name": "stdout",
     "output_type": "stream",
     "text": [
      "0.8583934088568486\n",
      "              precision    recall  f1-score   support\n",
      "\n",
      "           0       0.87      0.98      0.92      1691\n",
      "           1       0.15      0.02      0.04       251\n",
      "\n",
      "    accuracy                           0.86      1942\n",
      "   macro avg       0.51      0.50      0.48      1942\n",
      "weighted avg       0.78      0.86      0.81      1942\n",
      "\n",
      "[[1662   29]\n",
      " [ 246    5]]\n"
     ]
    }
   ],
   "source": [
    "from sklearn.metrics import accuracy_score, \\\n",
    "classification_report,confusion_matrix\n",
    "\n",
    "print(accuracy_score(y_test,y_pred))\n",
    "print(classification_report(y_test,y_pred))\n",
    "print (confusion_matrix (y_test,y_pred))"
   ]
  },
  {
   "cell_type": "code",
   "execution_count": null,
   "id": "dbd5309d-88a2-4433-9923-546a228fe511",
   "metadata": {},
   "outputs": [],
   "source": []
  }
 ],
 "metadata": {
  "kernelspec": {
   "display_name": "anaconda-ai-2024.04-py310",
   "language": "python",
   "name": "conda-env-anaconda-ai-2024.04-py310-py"
  },
  "language_info": {
   "codemirror_mode": {
    "name": "ipython",
    "version": 3
   },
   "file_extension": ".py",
   "mimetype": "text/x-python",
   "name": "python",
   "nbconvert_exporter": "python",
   "pygments_lexer": "ipython3",
   "version": "3.10.13"
  }
 },
 "nbformat": 4,
 "nbformat_minor": 5
}
