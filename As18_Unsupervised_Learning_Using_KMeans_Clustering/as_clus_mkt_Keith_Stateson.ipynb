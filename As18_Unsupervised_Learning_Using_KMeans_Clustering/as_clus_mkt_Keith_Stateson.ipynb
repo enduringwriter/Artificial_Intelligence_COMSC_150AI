{
 "cells": [
  {
   "cell_type": "markdown",
   "id": "122ebd06-e163-4b02-9ea7-d59cc0c6860f",
   "metadata": {},
   "source": [
    "## Unsupervised learning using KMeans clustering \n",
    "\n",
    "## Predicting Clusters\n",
    "\n",
    "## Objectives\n",
    "\n",
    "On completing this assignment, you will be able to write a simple AI unsupervised application using KMeans clustering.\n",
    "\n",
    "## Assignment\n",
    "\n",
    "Write an AI application which, when provided with customer data can cluster it into groups based on some common characteristics among customers. You will be provided with a data file named customer.csv containing customer data. From the whole data, you will take the two columns relating to customer yearly income and spending score and use that as your data. You will provide this data to the clustering application and ask it to form 5 clusters. By studying the five clusters formed, you will determine which cluster belongs to those customers which are both high income and high spenders with the intent of marketing your products to that group.\n",
    "\n",
    "For the assignment, you will be provided with the above data file and it is expected that you will produce a list of customer id's belonging to the cluster with high income and high spending. Accomplish this by following the steps outlined in the Implementation section below.\n",
    "\n",
    "## Implementation \n",
    "\n",
    "Follow the implementation steps below.\n",
    "\n",
    "1. Read the contents of the file customer.csv in pandas data frame named df_data.\n",
    "2. From the data frame df_data, filter out the columns, 'Annual Income (k$)' and 'Spending Score (1-100)' and save them in data frame named df_mydata.\n",
    "3. Create an instance of KMeans from sklearn.cluster module by supplying n_clusters=5 in the constructor and save the returned value in variable model.\n",
    "4. Train the model by calling the method fit on variable model and passing it df_mydata.\n",
    "5. The model will identify its five clusters by cluster numbers varying in value from 0 to 5. After the model is trained, display the model's instance variable model.labels_. It will be a one dimensional array containing cluster numbers corresponding to entries in data frame df_mydata. In other words, the first cluster number in the array will be the cluster to which the first entry of df_mydata belongs, the second cluster number will be the cluster to which the second entry of df_mydata belongs, and so on.\n",
    "6. Display the df_mydata entries as a scatter graph in which each circular point will represent an entry in df_mydata and the color of the point will indicate the cluster to which it belong. \n",
    "7. The model will specify cluster centers by their x-y coordinates. Display the instance variable model.cluster_centers_. It will be a two dimensional array containing 5 pairs of values where each pair will contain x and y co-ordinates of the corresponding cluster centers. The cluster center values will correspond to cluster numbers. In other words, the first pair of cluster center values will be the cluster center for cluster number 0; the second pair of cluster center values will correspond to cluster number 1, and so on. \n",
    "8. Display five cluster centers as black circular points in the above scatter plot.\n",
    "9. Locate the cluster center and the cluster located in upper right part of the scatter plot. This is the high income and high spend cluster. From the list of cluster center values see which cluster center it is. Its position in cluster center array will provide the corresponding cluster number. Let us say, it is in the second position in cluster center array indicating that it is the cluster center for cluster number 1.\n",
    "10. Add to the data frame df_data, array model.labels_, as a new column named 'labels'. (Note that data frame df_datat is the data frame in which we originally read the contents of the file customer.csv). The df_data already contains a column CustomerID. Now it will contain an additional column 'labels' containing cluster numbers corresponding to entries. \n",
    "11. Slice out that portion of the data frame df_data where cluster number is 1 and store in data frame df_answer as below.\n",
    "    \n",
    "    df_answer = df_data [df_data.labels==1]\n",
    "    \n",
    "13. From data frame df_answer, filter out the columns 'CustomerID' and 'labels' and save them in data frame df_final_answer. The df_final_answer which will contain, in its column 'CustomerID', the customer id's of the customers that belong to cluster number 1 (high income and high spend) and the column 'labels' will contain all 1's.\n",
    "\n"
   ]
  },
  {
   "cell_type": "markdown",
   "id": "6c4dd4cc",
   "metadata": {},
   "source": [
    "## Title: Unsupervised Learning Using KMeans Clustering\n",
    "\n",
    "### Keith Yrisarri Stateson\n",
    "July 18, 2024. Python 3.11.0\n",
    "\n",
    "##### Summary\n",
    "This assignment focuses on building an AI application that uses KMeans clustering to group customers based on their annual income and spending score. The goal is to identify and target customers who are both high-income earners and high spenders. The program reads customer data, performs clustering to form five distinct groups, and identifies the cluster that represents high-income and high-spending customers. The application also visualizes the clusters and their centers to provide insights into the customer segmentation.\n",
    "\n",
    "Assumptions\n",
    "The input data file customer.csv contains relevant customer information, including annual income and spending score. The data is suitable for clustering and does not require extensive preprocessing. The KMeans clustering algorithm with five clusters will effectively segment the customers. The high-income and high-spending cluster can be visually identified in the scatter plot.\n",
    "\n",
    "##### Summary\n",
    "Data Loading and Exploration\n",
    "- Importing Libraries\n",
    "- Reading the Data from customer.csv\n",
    "- Exploring the Data\n",
    "\n",
    "Data Preprocessing\n",
    "- Filtering Relevant Columns\n",
    "- Preparing the Data for Clustering\n",
    "\n",
    "Building the KMeans Model\n",
    "- Creating and Configuring the KMeans Instance\n",
    "- Training the Model\n",
    "\n",
    "Cluster Analysis\n",
    "- Displaying Cluster Labels\n",
    "- Visualizing the Clusters and Cluster Centers\n",
    "\n",
    "Identifying Target Cluster\n",
    "- Locating High-Income, High-Spending Cluster\n",
    "- Extracting Customer IDs from the Target Cluster\n",
    "\n",
    "Results and Discussion\n",
    "- Summary of Findings\n",
    "- Insights and Observations\n",
    "\n",
    "Conclusion\n",
    "- Summary of Findings\n",
    "- Future Improvements"
   ]
  },
  {
   "cell_type": "markdown",
   "id": "0896d4e2",
   "metadata": {},
   "source": []
  },
  {
   "cell_type": "markdown",
   "id": "aeb15df0-f681-4ddf-ac26-40bc7f67c441",
   "metadata": {},
   "source": []
  }
 ],
 "metadata": {
  "kernelspec": {
   "display_name": "anaconda-ai-2024.04-py310",
   "language": "python",
   "name": "conda-env-anaconda-ai-2024.04-py310-py"
  },
  "language_info": {
   "codemirror_mode": {
    "name": "ipython",
    "version": 3
   },
   "file_extension": ".py",
   "mimetype": "text/x-python",
   "name": "python",
   "nbconvert_exporter": "python",
   "pygments_lexer": "ipython3",
   "version": "3.10.13"
  }
 },
 "nbformat": 4,
 "nbformat_minor": 5
}
