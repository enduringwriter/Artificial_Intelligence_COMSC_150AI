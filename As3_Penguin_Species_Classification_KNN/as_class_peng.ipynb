{
 "cells": [
  {
   "cell_type": "markdown",
   "id": "7c71caba-46a9-4c5f-8d20-1cc75ec614a4",
   "metadata": {},
   "source": [
    "\n",
    "## Text Classification \n",
    "\n",
    "### Predicting Category\n",
    "\n",
    "#### Objectives\n",
    "\n",
    "On completing the assignment, you will be able to write a simple AI  application involving supervised classification.\n",
    "\n",
    "#### Description\n",
    "\n",
    "Write an AI application which, when provided with a penguin's attributes such as its bill length, bill depth, flipper length etc, it will predict the species to which the penguin belongs. For training and testing the application, please use the labeled data set provided in the file, sn_penguin.csv. The data, provided, contains data for about 344 penguins belonging to 3 different species named Adelie, Chinstrap, and Gentoo. Each data item is labeled with the name of the species to which it belongs. Use 80% of the data items for training, and the remaining 20% for testing. Use sklearn's KNeighborsClassifier classifier with its parameter n_neighbors set to 5 train the classifier with the training data. After the classifier is trained, test the classifier using the testing data and produce accuracy score, classification report, and confusion matrix. Then, optionally try out a few self-created individual values and note the application response. \n",
    "\n",
    "\n",
    "#### Implementation Notes\n",
    "\n",
    "\n",
    "#### Dataset source\n",
    "\n",
    "The data set used is downloaded from the Seaborn website .\n",
    "\n",
    "\n",
    "### Submittal\n",
    "\n",
    "The uploaded submittal should contain the following:\n",
    "\n",
    "- jpynb file after running the application from start to finish containing the marked source code, output, and the user interaction.\n",
    "  \n",
    "- the  html file corresponding to the above jpynb file.\n",
    "\n",
    "#### Coding\n",
    "\n",
    "Follow the steps of assignment 1.\n",
    "Make sure to detect the data items containing null values and remove them.\n",
    "\n"
   ]
  },
  {
   "cell_type": "markdown",
   "id": "55f7b455-f9e8-47a9-a827-c5e7ae752038",
   "metadata": {},
   "source": [
    "Read data from csv file to a pandas data frame"
   ]
  },
  {
   "cell_type": "code",
   "execution_count": 3,
   "id": "b31b4b40-9ae2-4652-b1e8-25aa773ad8f2",
   "metadata": {},
   "outputs": [
    {
     "name": "stdout",
     "output_type": "stream",
     "text": [
      "(344, 7)\n"
     ]
    },
    {
     "data": {
      "text/html": [
       "<div>\n",
       "<style scoped>\n",
       "    .dataframe tbody tr th:only-of-type {\n",
       "        vertical-align: middle;\n",
       "    }\n",
       "\n",
       "    .dataframe tbody tr th {\n",
       "        vertical-align: top;\n",
       "    }\n",
       "\n",
       "    .dataframe thead th {\n",
       "        text-align: right;\n",
       "    }\n",
       "</style>\n",
       "<table border=\"1\" class=\"dataframe\">\n",
       "  <thead>\n",
       "    <tr style=\"text-align: right;\">\n",
       "      <th></th>\n",
       "      <th>species</th>\n",
       "      <th>island</th>\n",
       "      <th>bill_length_mm</th>\n",
       "      <th>bill_depth_mm</th>\n",
       "      <th>flipper_length_mm</th>\n",
       "      <th>body_mass_g</th>\n",
       "      <th>sex</th>\n",
       "    </tr>\n",
       "  </thead>\n",
       "  <tbody>\n",
       "    <tr>\n",
       "      <th>0</th>\n",
       "      <td>Adelie</td>\n",
       "      <td>Torgersen</td>\n",
       "      <td>39.1</td>\n",
       "      <td>18.7</td>\n",
       "      <td>181.0</td>\n",
       "      <td>3750.0</td>\n",
       "      <td>Male</td>\n",
       "    </tr>\n",
       "    <tr>\n",
       "      <th>1</th>\n",
       "      <td>Adelie</td>\n",
       "      <td>Torgersen</td>\n",
       "      <td>39.5</td>\n",
       "      <td>17.4</td>\n",
       "      <td>186.0</td>\n",
       "      <td>3800.0</td>\n",
       "      <td>Female</td>\n",
       "    </tr>\n",
       "    <tr>\n",
       "      <th>2</th>\n",
       "      <td>Adelie</td>\n",
       "      <td>Torgersen</td>\n",
       "      <td>40.3</td>\n",
       "      <td>18.0</td>\n",
       "      <td>195.0</td>\n",
       "      <td>3250.0</td>\n",
       "      <td>Female</td>\n",
       "    </tr>\n",
       "  </tbody>\n",
       "</table>\n",
       "</div>"
      ],
      "text/plain": [
       "  species     island  bill_length_mm  bill_depth_mm  flipper_length_mm  \\\n",
       "0  Adelie  Torgersen            39.1           18.7              181.0   \n",
       "1  Adelie  Torgersen            39.5           17.4              186.0   \n",
       "2  Adelie  Torgersen            40.3           18.0              195.0   \n",
       "\n",
       "   body_mass_g     sex  \n",
       "0       3750.0    Male  \n",
       "1       3800.0  Female  \n",
       "2       3250.0  Female  "
      ]
     },
     "execution_count": 3,
     "metadata": {},
     "output_type": "execute_result"
    }
   ],
   "source": [
    "import pandas as pd\n",
    "\n",
    "df=pd.read_csv('penguin.csv',index_col=0)\n",
    "print (df.shape)\n",
    "df [0:3]"
   ]
  },
  {
   "cell_type": "markdown",
   "id": "8ae68f4c-ee1e-4df0-a371-69f8a9c66f11",
   "metadata": {},
   "source": [
    "Detect data samples with entries containing null"
   ]
  },
  {
   "cell_type": "code",
   "execution_count": 6,
   "id": "f7cd0e5b-4f14-4430-9d79-dc662581d679",
   "metadata": {},
   "outputs": [
    {
     "data": {
      "text/plain": [
       "19"
      ]
     },
     "execution_count": 6,
     "metadata": {},
     "output_type": "execute_result"
    }
   ],
   "source": [
    "df.isna().sum().sum()"
   ]
  },
  {
   "cell_type": "markdown",
   "id": "cfefc52e-7b10-48bb-9a78-581426b2077b",
   "metadata": {},
   "source": [
    "Drop data samples with entries containing null"
   ]
  },
  {
   "cell_type": "code",
   "execution_count": 9,
   "id": "c0ef6ded-8ba6-461e-95e9-1299dba6ea6e",
   "metadata": {},
   "outputs": [
    {
     "data": {
      "text/plain": [
       "0"
      ]
     },
     "execution_count": 9,
     "metadata": {},
     "output_type": "execute_result"
    }
   ],
   "source": [
    "df=df.dropna()\n",
    "df.isna().sum().sum()"
   ]
  },
  {
   "cell_type": "markdown",
   "id": "5e1fceb1-9422-4e72-9f74-4198de8fff4a",
   "metadata": {},
   "source": [
    "display shape and first few samples"
   ]
  },
  {
   "cell_type": "code",
   "execution_count": 14,
   "id": "93d17f6e-fe1e-43ba-8a62-75bfa69982e1",
   "metadata": {},
   "outputs": [
    {
     "name": "stdout",
     "output_type": "stream",
     "text": [
      "(333, 7)\n"
     ]
    },
    {
     "data": {
      "text/html": [
       "<div>\n",
       "<style scoped>\n",
       "    .dataframe tbody tr th:only-of-type {\n",
       "        vertical-align: middle;\n",
       "    }\n",
       "\n",
       "    .dataframe tbody tr th {\n",
       "        vertical-align: top;\n",
       "    }\n",
       "\n",
       "    .dataframe thead th {\n",
       "        text-align: right;\n",
       "    }\n",
       "</style>\n",
       "<table border=\"1\" class=\"dataframe\">\n",
       "  <thead>\n",
       "    <tr style=\"text-align: right;\">\n",
       "      <th></th>\n",
       "      <th>species</th>\n",
       "      <th>island</th>\n",
       "      <th>bill_length_mm</th>\n",
       "      <th>bill_depth_mm</th>\n",
       "      <th>flipper_length_mm</th>\n",
       "      <th>body_mass_g</th>\n",
       "      <th>sex</th>\n",
       "    </tr>\n",
       "  </thead>\n",
       "  <tbody>\n",
       "    <tr>\n",
       "      <th>0</th>\n",
       "      <td>Adelie</td>\n",
       "      <td>Torgersen</td>\n",
       "      <td>39.1</td>\n",
       "      <td>18.7</td>\n",
       "      <td>181.0</td>\n",
       "      <td>3750.0</td>\n",
       "      <td>Male</td>\n",
       "    </tr>\n",
       "    <tr>\n",
       "      <th>1</th>\n",
       "      <td>Adelie</td>\n",
       "      <td>Torgersen</td>\n",
       "      <td>39.5</td>\n",
       "      <td>17.4</td>\n",
       "      <td>186.0</td>\n",
       "      <td>3800.0</td>\n",
       "      <td>Female</td>\n",
       "    </tr>\n",
       "    <tr>\n",
       "      <th>2</th>\n",
       "      <td>Adelie</td>\n",
       "      <td>Torgersen</td>\n",
       "      <td>40.3</td>\n",
       "      <td>18.0</td>\n",
       "      <td>195.0</td>\n",
       "      <td>3250.0</td>\n",
       "      <td>Female</td>\n",
       "    </tr>\n",
       "  </tbody>\n",
       "</table>\n",
       "</div>"
      ],
      "text/plain": [
       "  species     island  bill_length_mm  bill_depth_mm  flipper_length_mm  \\\n",
       "0  Adelie  Torgersen            39.1           18.7              181.0   \n",
       "1  Adelie  Torgersen            39.5           17.4              186.0   \n",
       "2  Adelie  Torgersen            40.3           18.0              195.0   \n",
       "\n",
       "   body_mass_g     sex  \n",
       "0       3750.0    Male  \n",
       "1       3800.0  Female  \n",
       "2       3250.0  Female  "
      ]
     },
     "execution_count": 14,
     "metadata": {},
     "output_type": "execute_result"
    }
   ],
   "source": [
    "print (df.shape)\n",
    "df [0:3]"
   ]
  },
  {
   "cell_type": "code",
   "execution_count": null,
   "id": "e068e85f-b784-4428-a1a3-6208fcda0aca",
   "metadata": {},
   "outputs": [],
   "source": []
  }
 ],
 "metadata": {
  "kernelspec": {
   "display_name": "anaconda-panel-2023.05-py310",
   "language": "python",
   "name": "conda-env-anaconda-panel-2023.05-py310-py"
  },
  "language_info": {
   "codemirror_mode": {
    "name": "ipython",
    "version": 3
   },
   "file_extension": ".py",
   "mimetype": "text/x-python",
   "name": "python",
   "nbconvert_exporter": "python",
   "pygments_lexer": "ipython3",
   "version": "3.11.5"
  }
 },
 "nbformat": 4,
 "nbformat_minor": 5
}
