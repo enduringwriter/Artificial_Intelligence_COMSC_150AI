{
 "cells": [
  {
   "cell_type": "markdown",
   "id": "23d09fd1-a509-4d7d-9995-f637d6987a15",
   "metadata": {},
   "source": [
    "\n",
    "## Text Classification \n",
    "\n",
    "### Predicting Category\n",
    "\n",
    "#### Objectives\n",
    "\n",
    "On completing the assignment, you will be able to write a simple AI supervised classification application.\n",
    "\n",
    "#### Description\n",
    "\n",
    "In the last assignment, you were provided a data set that had 20 columns. That assignment used only a set of five of those columns. In this assignment, you will use a different set of five columns and they are listed below.\n",
    "\n",
    "Columns to be used in this assignment:\n",
    "Own_property, Years_employed, Income_type, Family_status, and Target\n",
    "\n",
    "Besides the above change in data, your code should provide the same functionality as the last assignment.\n",
    "\n",
    "\n",
    "### Submittal\n",
    "\n",
    "The uploaded submittal should contain the following:\n",
    "\n",
    "- jpynb file after running the application from start to finish containing the marked source code, output, and your interaction.\n",
    "  \n",
    "- the corresponding html file.\n",
    "\n",
    "###### Coding\n",
    "\n",
    "Follow the steps of the last assignment.\n",
    "\n"
   ]
  }
 ],
 "metadata": {
  "kernelspec": {
   "display_name": "anaconda-ai-2024.04-py310",
   "language": "python",
   "name": "conda-env-anaconda-ai-2024.04-py310-py"
  },
  "language_info": {
   "codemirror_mode": {
    "name": "ipython",
    "version": 3
   },
   "file_extension": ".py",
   "mimetype": "text/x-python",
   "name": "python",
   "nbconvert_exporter": "python",
   "pygments_lexer": "ipython3",
   "version": "3.10.13"
  }
 },
 "nbformat": 4,
 "nbformat_minor": 5
}
