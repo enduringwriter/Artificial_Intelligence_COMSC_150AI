{
 "cells": [
  {
   "attachments": {},
   "cell_type": "markdown",
   "id": "cda89526-a04c-48ae-b37a-087c4c0be973",
   "metadata": {},
   "source": [
    "# Unsupervised learning using K-Means clusters\n",
    "\n",
    "## Classifying Iris flowers into clusters representing species\n",
    "\n",
    "## Objectives\n",
    "\n",
    "On completing this assignment, you will be able to write a simple AI application involving unsupervised learning using K-Means clusters.\n",
    "\n",
    "## Discussion\n",
    "\n",
    "Previously, we trained our learning algorithms with the use of labels in the data using supervised learning. However, at times, we have data without labels that needs classifying. In these situations, we may use unsupervised learning. \n",
    "\n",
    "Unsupervised learning is the process of training algorithms without the use of labels. In unsupervised learning, algorithms try to classify data in subgroups using some underlying similarity metric among data items. Often, they try to find clusters in the data on some similarity measures. One of commonly used clustering algorithm is K-Means clustering. It assumes that the number of clusters are known before hand and relies on Euclidean distance between data points to form clusters. The algorithm is outlined below.\n",
    "\n",
    "Step 1. The initial position of cluster centers (centroids) are randomly selected.\n",
    "\n",
    "Step 2. Each data point is assigned to the centroid nearest to it. \n",
    "\n",
    "Step 3, Once, each point is assigned to a centroid, a new position for each centroid is calculated based on the average distance of its members. (This potentially changes distance between points and different cluster centers.)\n",
    "\n",
    "The steps 2 and 3 are repeated till in step 3, the position of centroids do not change. At  that points, all centroid (cluster center) positions are fixed, and all data points are grouped into into the desired clusters.\n",
    "\n",
    "## Assignment Description\n",
    "\n",
    "Write an AI application which, when provided with sepal lengths and widths of a set of iris flowers belonging to three different species will classify them into three different clusters predicting different species using KMeans from klearns.cluster module. \n",
    "\n",
    "You will be provided with a file named IRIS.csv containing labeled data for 150 Iris flowers of three different species containing their sepal lengths, sepal widths, petal lengths, petal widths, and species name. You will provide the KMeans only the sepal lengths and sepal widths and ask it to divide the data into three clusters. You will check the clusters data against the labeled species data for a match and report the following:\n",
    "\n",
    "- total number of data items used\n",
    "- number of items successfully classified by KMeans\n",
    "- accuracy score\n",
    "- classification report\n",
    "- confusion matrix\n",
    "- Graphically show all data items as points in a scatter graph in three different colors with each color representing a cluster.\n",
    "- Also, graphically show all data items as points in a scatter graph in three different colors with each color representing a species according to the labels in the data.\n",
    "\n",
    "Additionally do the following:\n",
    "\n",
    "- Write code that will perform supervised learning with KNeighborsClassifier (n-neighbors=5) classifier of sklearn.neighbors module with the same data using sepal_length and sepal_width columns as features and species column as labels. Use 80% of the data for training and 20% for testing and produce accuracy score.\n",
    "- Compare the accuracy score of KMeans and KNeighborsClassifier\n",
    "\n",
    "\n",
    "## \n",
    "\n",
    "## Model to be used\n",
    "\n",
    "KMeans from sklearn.cluster module\n",
    "\n",
    "## Submittal\n",
    "\n",
    "The uploaded submittal should contain the following:\n",
    "\n",
    "- jpynb file after running the application from start to finish containinarked source code, output, and your interaction- matching html filefile.\n",
    "\n",
    "## Coding\n",
    "\n",
    "Follow the steps below.ps).\r\n"
   ]
  },
  {
   "cell_type": "markdown",
   "id": "2761e73d-fdcd-4cc6-a149-b053a14625b6",
   "metadata": {},
   "source": [
    "Turn off all the warning messages"
   ]
  },
  {
   "cell_type": "code",
   "execution_count": 24,
   "id": "fa7d3966-e391-4b9a-b845-e8bdf94667fa",
   "metadata": {},
   "outputs": [],
   "source": [
    "import warnings\n",
    "warnings.filterwarnings ('ignore')"
   ]
  },
  {
   "cell_type": "markdown",
   "id": "c169669a-c340-4c9d-9861-691e933fe850",
   "metadata": {},
   "source": [
    "Read the data set from a file into a pandas data frame"
   ]
  },
  {
   "cell_type": "code",
   "execution_count": 26,
   "id": "a7b087bc-efa3-4b45-a3da-cf8f340055d9",
   "metadata": {},
   "outputs": [
    {
     "data": {
      "text/html": [
       "<div>\n",
       "<style scoped>\n",
       "    .dataframe tbody tr th:only-of-type {\n",
       "        vertical-align: middle;\n",
       "    }\n",
       "\n",
       "    .dataframe tbody tr th {\n",
       "        vertical-align: top;\n",
       "    }\n",
       "\n",
       "    .dataframe thead th {\n",
       "        text-align: right;\n",
       "    }\n",
       "</style>\n",
       "<table border=\"1\" class=\"dataframe\">\n",
       "  <thead>\n",
       "    <tr style=\"text-align: right;\">\n",
       "      <th></th>\n",
       "      <th>sepal_length</th>\n",
       "      <th>sepal_width</th>\n",
       "      <th>petal_length</th>\n",
       "      <th>petal_width</th>\n",
       "      <th>species</th>\n",
       "    </tr>\n",
       "  </thead>\n",
       "  <tbody>\n",
       "    <tr>\n",
       "      <th>0</th>\n",
       "      <td>5.1</td>\n",
       "      <td>3.5</td>\n",
       "      <td>1.4</td>\n",
       "      <td>0.2</td>\n",
       "      <td>Iris-setosa</td>\n",
       "    </tr>\n",
       "    <tr>\n",
       "      <th>1</th>\n",
       "      <td>4.9</td>\n",
       "      <td>3.0</td>\n",
       "      <td>1.4</td>\n",
       "      <td>0.2</td>\n",
       "      <td>Iris-setosa</td>\n",
       "    </tr>\n",
       "    <tr>\n",
       "      <th>2</th>\n",
       "      <td>4.7</td>\n",
       "      <td>3.2</td>\n",
       "      <td>1.3</td>\n",
       "      <td>0.2</td>\n",
       "      <td>Iris-setosa</td>\n",
       "    </tr>\n",
       "  </tbody>\n",
       "</table>\n",
       "</div>"
      ],
      "text/plain": [
       "   sepal_length  sepal_width  petal_length  petal_width      species\n",
       "0           5.1          3.5           1.4          0.2  Iris-setosa\n",
       "1           4.9          3.0           1.4          0.2  Iris-setosa\n",
       "2           4.7          3.2           1.3          0.2  Iris-setosa"
      ]
     },
     "execution_count": 26,
     "metadata": {},
     "output_type": "execute_result"
    }
   ],
   "source": [
    "import pandas as pd\n",
    "df = pd.read_csv ('IRIS.csv')\n",
    "df.head(3)"
   ]
  },
  {
   "cell_type": "markdown",
   "id": "c3ad9092-01c2-45f4-bd95-374c6e8e6a02",
   "metadata": {},
   "source": [
    "Check for null or missing entries and if present remove the rows containing them."
   ]
  },
  {
   "cell_type": "code",
   "execution_count": 28,
   "id": "82ecb13c-b381-422d-adee-274826300ce5",
   "metadata": {},
   "outputs": [
    {
     "data": {
      "text/plain": [
       "0"
      ]
     },
     "execution_count": 28,
     "metadata": {},
     "output_type": "execute_result"
    }
   ],
   "source": [
    "df.isna().sum ().sum ()"
   ]
  },
  {
   "cell_type": "code",
   "execution_count": 29,
   "id": "1c7087f9-8b2e-4315-8726-7276a22b43e2",
   "metadata": {},
   "outputs": [
    {
     "data": {
      "text/plain": [
       "0"
      ]
     },
     "execution_count": 29,
     "metadata": {},
     "output_type": "execute_result"
    }
   ],
   "source": [
    "df=df.dropna()\n",
    "df.isna().sum ().sum ()"
   ]
  },
  {
   "cell_type": "markdown",
   "id": "d740f3ba-4923-44df-97bb-79f214af04b1",
   "metadata": {},
   "source": [
    "\n",
    "\n"
   ]
  },
  {
   "cell_type": "markdown",
   "id": "daebc90c-50f4-404a-a690-929dfcadd30f",
   "metadata": {},
   "source": [
    "List all the species and their value counts"
   ]
  },
  {
   "cell_type": "code",
   "execution_count": 32,
   "id": "fdf17048-f0ed-423b-ba3b-2823fd038e15",
   "metadata": {},
   "outputs": [
    {
     "data": {
      "text/plain": [
       "species\n",
       "Iris-setosa        50\n",
       "Iris-versicolor    50\n",
       "Iris-virginica     50\n",
       "Name: count, dtype: int64"
      ]
     },
     "execution_count": 32,
     "metadata": {},
     "output_type": "execute_result"
    }
   ],
   "source": [
    "df.species.value_counts()"
   ]
  },
  {
   "cell_type": "markdown",
   "id": "f3d086ee-4678-4c9e-9e37-5bcbc791c426",
   "metadata": {},
   "source": [
    "Filter out the colums that will be used as features"
   ]
  },
  {
   "cell_type": "code",
   "execution_count": 34,
   "id": "07522fcf-25b8-45e9-ab0e-4368dcd33c77",
   "metadata": {},
   "outputs": [
    {
     "data": {
      "text/html": [
       "<div>\n",
       "<style scoped>\n",
       "    .dataframe tbody tr th:only-of-type {\n",
       "        vertical-align: middle;\n",
       "    }\n",
       "\n",
       "    .dataframe tbody tr th {\n",
       "        vertical-align: top;\n",
       "    }\n",
       "\n",
       "    .dataframe thead th {\n",
       "        text-align: right;\n",
       "    }\n",
       "</style>\n",
       "<table border=\"1\" class=\"dataframe\">\n",
       "  <thead>\n",
       "    <tr style=\"text-align: right;\">\n",
       "      <th></th>\n",
       "      <th>sepal_length</th>\n",
       "      <th>sepal_width</th>\n",
       "    </tr>\n",
       "  </thead>\n",
       "  <tbody>\n",
       "    <tr>\n",
       "      <th>0</th>\n",
       "      <td>5.1</td>\n",
       "      <td>3.5</td>\n",
       "    </tr>\n",
       "    <tr>\n",
       "      <th>1</th>\n",
       "      <td>4.9</td>\n",
       "      <td>3.0</td>\n",
       "    </tr>\n",
       "    <tr>\n",
       "      <th>2</th>\n",
       "      <td>4.7</td>\n",
       "      <td>3.2</td>\n",
       "    </tr>\n",
       "  </tbody>\n",
       "</table>\n",
       "</div>"
      ],
      "text/plain": [
       "   sepal_length  sepal_width\n",
       "0           5.1          3.5\n",
       "1           4.9          3.0\n",
       "2           4.7          3.2"
      ]
     },
     "execution_count": 34,
     "metadata": {},
     "output_type": "execute_result"
    }
   ],
   "source": [
    "df_features = df.filter(['sepal_length','sepal_width'],axis=1)\n",
    "df_features.head(3)"
   ]
  },
  {
   "cell_type": "markdown",
   "id": "3ddcb23b-6b1f-45ee-af66-f944029d18a0",
   "metadata": {},
   "source": [
    "- Create a KMeans object for forming 3 clusters (because we know there are three categories of species in the data.\n",
    "- Train KMeans on data created above containing two features but no labels as it is unsupervised learning.\n",
    "- By default, KMeans assigns cluster numbers (cluster id's) to clusters at random. So, each time we run the application, the same clusters may get different cluster id's (cluster numbers). When we assign a value to random_state and pass it to KMeans at object creation, it seeds the random generator. By assigning the same value this parameter at each run, we ensure that the same clusters will be assigned the same customer number (cluster ids) at each run. This ensures consistent and repeatable application behavior. "
   ]
  },
  {
   "cell_type": "code",
   "execution_count": 36,
   "id": "7c72f966-d524-48ce-bd67-d05996970656",
   "metadata": {},
   "outputs": [
    {
     "name": "stderr",
     "output_type": "stream",
     "text": [
      "  File \"/opt/conda/envs/anaconda-ai-2024.04-py310/lib/python3.10/site-packages/joblib/externals/loky/backend/context.py\", line 217, in _count_physical_cores\n",
      "    raise ValueError(\n"
     ]
    }
   ],
   "source": [
    "from sklearn.cluster import KMeans\n",
    "model = KMeans (n_clusters = 3 , random_state=0)\n",
    "model = model.fit (df_features)"
   ]
  },
  {
   "cell_type": "markdown",
   "id": "2c192bb2-0459-4cf7-94db-112885c33c13",
   "metadata": {},
   "source": [
    "- During training, as mentioned above, KMeans divides the data into clusters (subgroups) and assigns a cluster number (cluster id) to each cluster. Simultaneously, it assigns each data item to a cluster and assigns all cluster members, the parent cluster number (cluster id) as their predicted label. So, all data item belonging to cluster number 2, will have the 2 as their predicted label. Below, after the model is trained we acquire the predicted labels of all data items from KMeans model and display them as a list. \n"
   ]
  },
  {
   "cell_type": "code",
   "execution_count": 38,
   "id": "d2d9c8e2-72fc-47d2-a8b5-5195311e360b",
   "metadata": {},
   "outputs": [
    {
     "name": "stdout",
     "output_type": "stream",
     "text": [
      "[2 2 2 2 2 2 2 2 2 2 2 2 2 2 2 2 2 2 2 2 2 2 2 2 2 2 2 2 2 2 2 2 2 2 2 2 2\n",
      " 2 2 2 2 2 2 2 2 2 2 2 2 2 1 1 1 0 1 0 1 0 1 0 0 0 0 0 0 1 0 0 0 0 0 0 0 0\n",
      " 1 1 1 1 0 0 0 0 0 0 0 0 1 0 0 0 0 0 0 0 0 0 0 0 0 0 1 0 1 1 1 1 0 1 1 1 1\n",
      " 1 1 0 0 1 1 1 1 0 1 0 1 0 1 1 0 0 1 1 1 1 1 0 0 1 1 1 0 1 1 1 0 1 1 1 0 1\n",
      " 1 0]\n"
     ]
    },
    {
     "data": {
      "text/plain": [
       "numpy.ndarray"
      ]
     },
     "execution_count": 38,
     "metadata": {},
     "output_type": "execute_result"
    }
   ],
   "source": [
    "predicted_labels = model.labels_\n",
    "\n",
    "print (predicted_labels)\n",
    "type(predicted_labels)"
   ]
  },
  {
   "cell_type": "markdown",
   "id": "ca8c2a81-874a-406c-a459-844d6d686507",
   "metadata": {},
   "source": [
    "Note that above,\n",
    "- First several items are are assigned 2 as their predicted label as they are assigned to cluster number 2. In other words, KMeans is predicting that these data items have similar features and they are classified to the same species. The actual labels indicate that they belonging to species 'Iris-setosa'. So, KMeans is encoding 2 for species 'Iris-setosa'.\n",
    "- Similarly, many of last items are assigned 1 as their predicted label as they are assigned to cluster number 1. In other words, KMeans is predicting that these data items have similar features and they are classified to the same species. The actual label values indicate that they belonging to species 'Iris-virginica'. So, KMeans is encoding 1 for species 'Iris-virginica'. K\n",
    "- Similarly, KMeans is encoding 0 for species Iris-versicolor'.\n",
    "\n",
    "In summary, from the above discussion, we assumes the following encoding for the above data:\n",
    "\n",
    "  2 : 'Iris-setosa'\n",
    "  \n",
    "  0 : 'Iris-virginica'\n",
    "  \n",
    "  1 : 'Iris-versicolor'\n",
    "  "
   ]
  },
  {
   "cell_type": "markdown",
   "id": "aa6c8505-96fd-49dd-b2e9-991f598fbae9",
   "metadata": {},
   "source": [
    "\n",
    "From KMeans model, we acquire the positions of cluster centers (centroids) and print them below."
   ]
  },
  {
   "cell_type": "code",
   "execution_count": 41,
   "id": "212b8f82-d218-4bfb-990d-83743ff308ef",
   "metadata": {},
   "outputs": [
    {
     "name": "stdout",
     "output_type": "stream",
     "text": [
      "[[5.77358491 2.69245283]\n",
      " [6.81276596 3.07446809]\n",
      " [5.006      3.418     ]]\n"
     ]
    }
   ],
   "source": [
    "predicted_centers = model.cluster_centers_\n",
    "\n",
    "print (predicted_centers)"
   ]
  },
  {
   "cell_type": "markdown",
   "id": "84650e97-46eb-423c-9160-d06f8c5f4384",
   "metadata": {},
   "source": [
    "Below, we filter out the actual label from main data frame and display a few of them."
   ]
  },
  {
   "cell_type": "code",
   "execution_count": 43,
   "id": "32537c66-049e-4e65-8e00-7f3a12a7b33b",
   "metadata": {},
   "outputs": [
    {
     "name": "stdout",
     "output_type": "stream",
     "text": [
      "<class 'pandas.core.frame.DataFrame'>\n",
      "(150, 1)\n",
      "            species\n",
      "0       Iris-setosa\n",
      "1       Iris-setosa\n",
      "2       Iris-setosa\n",
      "3       Iris-setosa\n",
      "4       Iris-setosa\n",
      "..              ...\n",
      "145  Iris-virginica\n",
      "146  Iris-virginica\n",
      "147  Iris-virginica\n",
      "148  Iris-virginica\n",
      "149  Iris-virginica\n",
      "\n",
      "[150 rows x 1 columns]\n"
     ]
    }
   ],
   "source": [
    "df_true_labels = df.filter(['species'], axis=1)\n",
    "\n",
    "print(type(df_true_labels))\n",
    "print(df_true_labels.shape)\n",
    "print(df_true_labels)\n"
   ]
  },
  {
   "cell_type": "markdown",
   "id": "c6408755-375f-4ec3-a198-57e8644be4cd",
   "metadata": {},
   "source": [
    "In the next few steps, we will display the actual labels for the data items, first as strings and then in encoded form to compare them with the predicted label values above obtained from the model.\n",
    "- Encode the labels with 0, 1, and 2 as below using the ordinal decoder. We use the ordinal encoder because it allows us to chose the encoding assignment which label encoder does not.\n",
    "- Below we chose the encoding assignment using the variable maplist. According to ordinal encoder rules, the first name in the list will be encoded zero, the second as 1, and the third as 2, and so on.\n",
    "- We listed the name such that they would get the same encoding as they got in predicted labels above (according to our conjecture mentioned above)"
   ]
  },
  {
   "cell_type": "code",
   "execution_count": 45,
   "id": "ff92c6aa-331b-4581-9dd0-fbd3da2b4143",
   "metadata": {},
   "outputs": [
    {
     "name": "stdout",
     "output_type": "stream",
     "text": [
      "0    2.0\n",
      "1    2.0\n",
      "2    2.0\n",
      "3    2.0\n",
      "4    2.0\n",
      "Name: species, dtype: float64\n",
      "<class 'pandas.core.series.Series'>\n"
     ]
    }
   ],
   "source": [
    "\n",
    "from sklearn.preprocessing import OrdinalEncoder\n",
    "\n",
    "# Below, listed values will be encoded as 0, 1, 2 respectively. \n",
    "maplist=['Iris-versicolor','Iris-virginica','Iris-setosa']\n",
    "\n",
    "oe = OrdinalEncoder(categories=[maplist])\n",
    "\n",
    "'''\n",
    "Below, the method expects the parameter passed to be 2 dimensional. It also returns \n",
    "a 2 dimensional value. However, since the receiving variable is 1 dimensional, it \n",
    "automatically gets converted into 1 dimensional \n",
    "'''\n",
    "df_true_labels.species = oe.fit_transform(df_true_labels)\n",
    "\n",
    "print (df_true_labels.species[0:5])\n",
    "print (type(df_true_labels.species))"
   ]
  },
  {
   "cell_type": "markdown",
   "id": "9e404398-b656-4e5d-aaaf-b0131e789ed9",
   "metadata": {},
   "source": [
    "Convert the the above Series object into array."
   ]
  },
  {
   "cell_type": "code",
   "execution_count": 47,
   "id": "c521ee75-4b0a-410e-9571-964ea954ea59",
   "metadata": {},
   "outputs": [
    {
     "name": "stdout",
     "output_type": "stream",
     "text": [
      "[2. 2. 2. 2. 2. 2. 2. 2. 2. 2. 2. 2. 2. 2. 2. 2. 2. 2. 2. 2. 2. 2. 2. 2.\n",
      " 2. 2. 2. 2. 2. 2. 2. 2. 2. 2. 2. 2. 2. 2. 2. 2. 2. 2. 2. 2. 2. 2. 2. 2.\n",
      " 2. 2. 0. 0. 0. 0. 0. 0. 0. 0. 0. 0. 0. 0. 0. 0. 0. 0. 0. 0. 0. 0. 0. 0.\n",
      " 0. 0. 0. 0. 0. 0. 0. 0. 0. 0. 0. 0. 0. 0. 0. 0. 0. 0. 0. 0. 0. 0. 0. 0.\n",
      " 0. 0. 0. 0. 1. 1. 1. 1. 1. 1. 1. 1. 1. 1. 1. 1. 1. 1. 1. 1. 1. 1. 1. 1.\n",
      " 1. 1. 1. 1. 1. 1. 1. 1. 1. 1. 1. 1. 1. 1. 1. 1. 1. 1. 1. 1. 1. 1. 1. 1.\n",
      " 1. 1. 1. 1. 1. 1.]\n"
     ]
    },
    {
     "data": {
      "text/plain": [
       "numpy.ndarray"
      ]
     },
     "execution_count": 47,
     "metadata": {},
     "output_type": "execute_result"
    }
   ],
   "source": [
    "ar_true_labels = df_true_labels.species.values\n",
    "\n",
    "print (ar_true_labels)\n",
    "type (ar_true_labels)"
   ]
  },
  {
   "cell_type": "markdown",
   "id": "76b9daa3-9da9-4f7b-91e3-fc99ffefeda8",
   "metadata": {},
   "source": [
    "When we visually compare the above true labels with the earlier predicted label, the values are fairly close."
   ]
  },
  {
   "cell_type": "markdown",
   "id": "0bccd97f-44e3-4944-a957-1c99118a9f2f",
   "metadata": {},
   "source": [
    "Below, we display the following:\n",
    "- the total number of items\n",
    "- the total number of matches\n",
    "- the accuracy score\n",
    "- classification report\n",
    "- confusion matrix"
   ]
  },
  {
   "cell_type": "code",
   "execution_count": 50,
   "id": "d426f553-c417-45ca-8320-a05e6968a11e",
   "metadata": {},
   "outputs": [
    {
     "name": "stdout",
     "output_type": "stream",
     "text": [
      "150.0\n",
      "123\n",
      "0.82\n",
      "              precision    recall  f1-score   support\n",
      "\n",
      "         0.0       0.72      0.76      0.74        50\n",
      "         1.0       0.74      0.70      0.72        50\n",
      "         2.0       1.00      1.00      1.00        50\n",
      "\n",
      "    accuracy                           0.82       150\n",
      "   macro avg       0.82      0.82      0.82       150\n",
      "weighted avg       0.82      0.82      0.82       150\n",
      "\n"
     ]
    },
    {
     "data": {
      "text/plain": [
       "array([[38, 12,  0],\n",
       "       [15, 35,  0],\n",
       "       [ 0,  0, 50]])"
      ]
     },
     "execution_count": 50,
     "metadata": {},
     "output_type": "execute_result"
    }
   ],
   "source": [
    "from sklearn.metrics import accuracy_score, classification_report,\\\n",
    "                            confusion_matrix\n",
    "print(ar_true_labels.sum())\n",
    "print (accuracy_score(ar_true_labels,predicted_labels,\\\n",
    "                      normalize=False))\n",
    "print (accuracy_score(ar_true_labels,predicted_labels))\n",
    "print (classification_report(ar_true_labels,predicted_labels))\n",
    "confusion_matrix(ar_true_labels,predicted_labels)"
   ]
  },
  {
   "cell_type": "raw",
   "id": "1a343806-4db3-4e0e-a105-11b299fe1666",
   "metadata": {},
   "source": [
    "Below, we convert our feature data frame into array"
   ]
  },
  {
   "cell_type": "code",
   "execution_count": 51,
   "id": "b5f9d5b5-d352-4a64-a4cc-6699cba9f5f0",
   "metadata": {},
   "outputs": [
    {
     "name": "stdout",
     "output_type": "stream",
     "text": [
      "[[5.1 3.5]\n",
      " [4.9 3. ]\n",
      " [4.7 3.2]\n",
      " [4.6 3.1]\n",
      " [5.  3.6]]\n"
     ]
    }
   ],
   "source": [
    "ar_features = df_features.values\n",
    "print(ar_features[0:5,0:2])"
   ]
  },
  {
   "cell_type": "markdown",
   "id": "27deb053-34f3-4a80-b43c-9d6a7a704522",
   "metadata": {},
   "source": [
    "Below, we graphically show all data items as points in a scatter graph.\n",
    "- with sepal length of the data items along x-axis and their sepal width along y-axis.\n",
    "- colors of data points are chosen from the color map: rainbow\n",
    "- color value of each data point is specified by a number in the list: predicted_labels\n",
    "- numbers in the predicted_labels list are 0, 1, 2. So, each data point is in one of these three colors.\n",
    "- the numbers in the predicted_labels list are in fact the cluster numbers to which the data points belong. So all the data points belonging to the same cluster are in the same color. But, each cluster represents a predicted species. So all data point that are of the same color are in the same predicted species\n",
    "\n",
    "Below, we also show cluster centers (centroids) as black X's.  "
   ]
  },
  {
   "cell_type": "code",
   "execution_count": 53,
   "id": "b831a8d7-a995-45af-873b-107812a8e3b7",
   "metadata": {},
   "outputs": [
    {
     "data": {
      "text/plain": [
       "<matplotlib.collections.PathCollection at 0x7f194c2336d0>"
      ]
     },
     "execution_count": 53,
     "metadata": {},
     "output_type": "execute_result"
    },
    {
     "data": {
      "image/png": "[encoded data removed]",
      "text/plain": [
       "<Figure size 640x480 with 1 Axes>"
      ]
     },
     "metadata": {},
     "output_type": "display_data"
    }
   ],
   "source": [
    "import matplotlib.pyplot as plt\n",
    "\n",
    "plt.scatter (ar_features[:, 0], ar_features [: ,1], c=predicted_labels, cmap='rainbow')\n",
    "plt.scatter (predicted_centers[:,0],predicted_centers[:,1], c='black', marker='x' )"
   ]
  },
  {
   "cell_type": "markdown",
   "id": "9b08563b-a96b-4600-83f4-e2f3518549cb",
   "metadata": {},
   "source": [
    "Below, we graphically show all data items as points in a scatter graph in the same way as we did in the graph above. The only difference is that the color values for points are chosen from the array list ar_true_labels which are encoded values (0, 1, or 2) for species. So, all the data points belonging to the same species are in the same color.  "
   ]
  },
  {
   "cell_type": "code",
   "execution_count": 55,
   "id": "45459915-e37b-49f6-8c1a-7c863268f917",
   "metadata": {
    "scrolled": true
   },
   "outputs": [
    {
     "data": {
      "text/plain": [
       "<matplotlib.collections.PathCollection at 0x7f194c231b10>"
      ]
     },
     "execution_count": 55,
     "metadata": {},
     "output_type": "execute_result"
    },
    {
     "data": {
      "image/png": "[encoded data removed]",
      "text/plain": [
       "<Figure size 640x480 with 1 Axes>"
      ]
     },
     "metadata": {},
     "output_type": "display_data"
    }
   ],
   "source": [
    "\n",
    "plt.scatter ( ar_features [: , 0], ar_features [: ,1], c=ar_true_labels, cmap='rainbow')\n"
   ]
  },
  {
   "cell_type": "markdown",
   "id": "c578f831-a0e6-4b96-8ea9-8110357bf67d",
   "metadata": {},
   "source": [
    "Above, both graphs show the same data point where each point represents a data item in the data set. In the first graph, the colors of the data points are according to values (0, 1, or 2) contained in predicted_labels. In the second graph, the colors of the data points are according to values (0, 1, or 2) in the ar_true_labels. So, by examining the two graphs, we can see how well the three clusters formed by KMeans match the three species. "
   ]
  },
  {
   "cell_type": "markdown",
   "id": "5b93267f-5523-4d48-9847-0561566e84f8",
   "metadata": {},
   "source": []
  }
 ],
 "metadata": {
  "kernelspec": {
   "display_name": "anaconda-ai-2024.04-py310",
   "language": "python",
   "name": "conda-env-anaconda-ai-2024.04-py310-py"
  },
  "language_info": {
   "codemirror_mode": {
    "name": "ipython",
    "version": 3
   },
   "file_extension": ".py",
   "mimetype": "text/x-python",
   "name": "python",
   "nbconvert_exporter": "python",
   "pygments_lexer": "ipython3",
   "version": "3.10.13"
  }
 },
 "nbformat": 4,
 "nbformat_minor": 5
}
