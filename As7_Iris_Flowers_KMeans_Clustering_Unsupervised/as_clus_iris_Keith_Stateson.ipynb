{
 "cells": [
  {
   "attachments": {},
   "cell_type": "markdown",
   "id": "cda89526-a04c-48ae-b37a-087c4c0be973",
   "metadata": {},
   "source": [
    "# Unsupervised learning using K-Means clusters\n",
    "\n",
    "## Classifying Iris flowers into clusters representing species\n",
    "\n",
    "## Objectives\n",
    "\n",
    "On completing this assignment, you will be able to write a simple AI application involving unsupervised learning using K-Means clusters.\n",
    "\n",
    "## Discussion\n",
    "\n",
    "Previously, we trained our learning algorithms with the use of labels in the data using supervised learning. However, at times, we have data without labels that needs classifying. In these situations, we may use unsupervised learning. \n",
    "\n",
    "Unsupervised learning is the process of training algorithms without the use of labels. In unsupervised learning, algorithms try to classify data in subgroups using some underlying similarity metric among data items. Often, they try to find clusters in the data on some similarity measures. One of commonly used clustering algorithm is K-Means clustering. It assumes that the number of clusters are known before hand and relies on Euclidean distance between data points to form clusters. The algorithm is outlined below.\n",
    "\n",
    "Step 1. The initial position of cluster centers (centroids) are randomly selected.\n",
    "\n",
    "Step 2. Each data point is assigned to the centroid nearest to it. \n",
    "\n",
    "Step 3, Once, each point is assigned to a centroid, a new position for each centroid is calculated based on the average distance of its members. (This potentially changes distance between points and different cluster centers.)\n",
    "\n",
    "The steps 2 and 3 are repeated till in step 3, the position of centroids do not change. At  that points, all centroid (cluster center) positions are fixed, and all data points are grouped into into the desired clusters.\n",
    "\n",
    "## Assignment Description\n",
    "\n",
    "Write an AI application which, when provided with sepal lengths and widths of a set of iris flowers belonging to three different species will classify them into three different clusters predicting different species using KMeans from klearns.cluster module. \n",
    "\n",
    "You will be provided with a file named IRIS.csv containing labeled data for 150 Iris flowers of three different species containing their sepal lengths, sepal widths, petal lengths, petal widths, and species name. You will provide the KMeans only the sepal lengths and sepal widths and ask it to divide the data into three clusters. You will check the clusters data against the labeled species data for a match and report the following:\n",
    "\n",
    "- total number of data items used\n",
    "- number of items successfully classified by KMeans\n",
    "- accuracy score\n",
    "- classification report\n",
    "- confusion matrix\n",
    "- Graphically show all data items as points in a scatter graph in three different colors with each color representing a cluster.\n",
    "- Also, graphically show all data items as points in a scatter graph in three different colors with each color representing a species according to the labels in the data.\n",
    "\n",
    "Additionally do the following:\n",
    "\n",
    "- Write code that will perform supervised learning with KNeighborsClassifier (n-neighbors=5) classifier of sklearn.neighbors module with the same data using sepal_length and sepal_width columns as features and species column as labels. Use 80% of the data for training and 20% for testing and produce accuracy score.\n",
    "- Compare the accuracy score of KMeans and KNeighborsClassifier\n",
    "\n",
    "\n",
    "## \n",
    "\n",
    "## Model to be used\n",
    "\n",
    "KMeans from sklearn.cluster module\n",
    "\n",
    "## Submittal\n",
    "\n",
    "The uploaded submittal should contain the following:\n",
    "\n",
    "- jpynb file after running the application from start to finish containinarked source code, output, and your interaction- matching html filefile.\n",
    "\n",
    "## Coding\n",
    "\n",
    "Follow the steps below.ps).\n"
   ]
  },
  {
   "cell_type": "markdown",
   "id": "295d08a5",
   "metadata": {},
   "source": [
    "## Title: Discovering Iris Flower Grouping Using Various Clustering Models - Unsupervised Learning\n",
    "\n",
    "### Keith Yrisarri Stateson\n",
    "June 29, 2024. Python 3.11.0\n",
    "\n",
    "##### Summary\n",
    "This program is an AI application to explore the inherent structure of the Iris dataset using unsupervised learning techniques. The goal is to discover patterns and groupings within the Iris dataset, providing insights into the natural categorization of Iris flower species and enhancing understanding for further research and practical applications in biology and data science.\n",
    "\n",
    "Clustering algorithms are applied to group similar data points without predefined labels. The program involves data cleaning, exploratory data analysis (EDA), and the implementation of three clustering algorithms: KMeans, Hierarchical Clustering, and DBSCAN. Each algorithm is evaluated to identify the best method for grouping the data. \n",
    "\n",
    "##### Assumption\n",
    "The features of the Iris dataset (sepal length, sepal width, petal length, petal width) are assumed to be relevant and sufficient for distinguishing between the three Iris species.\n",
    "\n",
    "### Table of Contents\n",
    "\n",
    "**Part 1:** Importing Libraries and Loading the Dataset\n",
    "\n",
    "**Part 2:** Data Cleaning\n",
    "\n",
    "**Part 3:** Exploratory Data Analysis (EDA)\n",
    "\n",
    "**Part 4:** Preprocessing Data\n",
    "\n",
    "**Part 5:** KMeans Clustering Model\n",
    "\n",
    "**Part 6.** Predicting the Clusters\n",
    "\n",
    "**Part 7.** Determining the Cluster Centers\n",
    "\n",
    "**Part 8:** Encoding Categorical Data\n",
    "\n",
    "**Part 9:** Preparing True Labels\n",
    "\n",
    "**Part 10:** Evaluate the Accuracy of the KMeans Model's Clustering\n",
    "- by Comparing the Predicted Cluster Labels to the True Species Labels\n",
    "\n",
    "**Part 11:** Visualizing the Clusters"
   ]
  },
  {
   "cell_type": "markdown",
   "metadata": {},
   "source": [
    "## Clustering Algorithms, Required for class assignment\n",
    "\n",
    "##### KMeans Clustering: <span style=\"font-weight: normal; font-size: 14px;\"> Suitable for datasets where clusters are roughly spherical and evenly sized. It works well for the Iris dataset as it can identify the natural groupings based on the features.\n",
    "\n",
    "##### Hierarchical Clustering: <span style=\"font-weight: normal; font-size: 14px;\"> Suitable for smaller datasets and provides a dendrogram to visualize the clustering process. It is effective for the Iris dataset, which is relatively small.\n",
    "\n",
    "##### DBSCAN: <span style=\"font-weight: normal; font-size: 14px;\"> Density-Based Spatial Clustering of Applications with Noise is suitable for datasets with clusters of varying shapes and densities. It can handle noise and outliers well, making it a good choice for the Iris dataset if there are any irregular clusters.\n",
    "\n",
    "## Clustering Algorithms, Additional\n",
    "\n",
    "##### Gaussian Mixture Models (GMM): <span style=\"font-weight: normal; font-size: 14px;\"> Assumes that the data is generated from a mixture of several Gaussian distributions. It is more flexible than KMeans as it can model elliptical clusters.\n",
    "\n",
    "##### Affinity Propagation: <span style=\"font-weight: normal; font-size: 14px;\"> Based on the concept of message passing between data points, this algorithm identifies exemplars among the data points and forms clusters around these exemplars.\n",
    "\n",
    "##### Spectral Clustering: <span style=\"font-weight: normal; font-size: 14px;\"> Uses the eigenvalues of a similarity matrix to perform dimensionality reduction before clustering in fewer dimensions. It is suitable for non-convex clusters.\n",
    "\n",
    "##### Agglomerative Clustering: <span style=\"font-weight: normal; font-size: 14px;\"> A type of hierarchical clustering that starts with each data point as a single cluster and merges the closest pairs of clusters iteratively. It is another method under the hierarchical clustering umbrella and is useful for finding nested clusters.\n",
    "\n",
    "##### OPTICS: <span style=\"font-weight: normal; font-size: 14px;\"> Ordering Points To Identify the Clustering Structure is an extension of DBSCAN, it identifies clusters of varying densities and is particularly useful when the density of clusters varies within the dataset.\n",
    "\n",
    "\n",
    "## Suggested Clustering Algorithms based on the dataset and purpose of the code\n",
    "Gaussian Mixture Models (GMM):\n",
    "Suitability: Good\n",
    "Reason: GMM is flexible and can model clusters with different shapes and sizes, which can be beneficial if the Iris dataset contains overlapping clusters.\n",
    "\n",
    "Affinity Propagation:\n",
    "Suitability: Moderate\n",
    "Reason: It can find exemplars and form clusters around them. However, it may be sensitive to the choice of parameters and may not always perform well on small datasets like Iris.\n",
    "\n",
    "Spectral Clustering:\n",
    "Suitability: Good\n",
    "Reason: Spectral clustering can handle non-convex clusters and can work well when the dataset contains complex structures. It is effective in finding clusters with varying shapes.\n",
    "\n",
    "Agglomerative Clustering:\n",
    "Suitability: Good\n",
    "Reason: Hierarchical methods like agglomerative clustering can produce a dendrogram, allowing for flexible clustering solutions at various levels of granularity. It works well for small datasets.\n",
    "\n",
    "OPTICS (Ordering Points To Identify the Clustering Structure):\n",
    "Suitability: Moderate to Good\n",
    "Reason: OPTICS is useful for finding clusters of varying densities and can handle noise effectively. While the Iris dataset typically does not have noise, OPTICS can still provide meaningful clusters.\n",
    "\n"
   ]
  },
  {
   "cell_type": "markdown",
   "id": "58d96608",
   "metadata": {},
   "source": [
    "## Metrics to Evaluate Clustering Models\n",
    "\n",
    "#### Required in Class Assignment\n",
    "\n",
    "Accuracy Score: Measures the overall correctness of the predicted clusters.\n",
    "\n",
    "Precision, Recall, and F1-Score: Provide detailed performance metrics for each predicted cluster, showing how many instances were correctly or incorrectly assigned to each cluster.\n",
    "\n",
    "Confusion Matrix: Offers a comprehensive view of the clustering performance by showing the distribution of actual versus predicted labels.\n",
    "\n",
    "<!-- <span style=\"font-weight: normal; font-size: 14px;\"-->\n",
    "\n",
    "#### Metrics to Evaluate Clustering Models, Additional\n",
    "\n",
    "Silhouette Score:\n",
    "Measures how similar a data point is to its own cluster (cohesion) compared to other clusters (separation).\n",
    "It ranges from -1 to 1.\n",
    "\n",
    "Davies-Bouldin Index:\n",
    "Evaluates the average similarity ratio of each cluster with its most similar cluster,\n",
    "based on the ratio of within-cluster distances to between-cluster distances.\n",
    "It is used to evaluate the goodness of clustering.\n",
    "\n",
    "Adjusted Rand Index (ARI):\n",
    "Measures the similarity between the clustering results and a ground truth clustering, adjusting for chance.\n",
    "Suitable when a reference clustering (e.g., true labels) is available for comparison.\n",
    "\n",
    "Normalized Mutual Information (NMI):\n",
    "Measures the amount of information shared between the clustering result and the ground truth.\n",
    "Ranges from 0 (no mutual information) to 1 (perfect correlation).\n",
    "\n",
    "Homogeneity, Completeness, and V-Measure:\n",
    "Homogeneity: Ensures that each cluster contains only members of a single class.\n",
    "Completeness: Ensures that all members of a given class are assigned to the same cluster.\n",
    "V-Measure: The harmonic mean of homogeneity and completeness.\n",
    "\n",
    "Calinski-Harabasz Index (Variance Ratio Criterion):\n",
    "Measures the ratio of the sum of between-cluster dispersion to within-cluster dispersion.\n",
    "Higher values indicate better-defined clusters.\n",
    "\n",
    "Silhouette Coefficient:\n",
    "Measures how similar each point is to its own cluster compared to other clusters.\n",
    "Ranges from -1 (incorrect clustering) to +1 (highly dense clustering).\n",
    "\n",
    "Dunn Index:\n",
    "Measures the ratio of the minimum inter-cluster distance to the maximum intra-cluster distance.\n",
    "Higher values indicate better clustering.\n",
    "\n",
    "Within-Cluster Sum of Squares (WCSS):\n",
    "Measures the total variance within each cluster.\n",
    "Used to determine the optimal number of clusters (e.g., Elbow Method).\n",
    "\n",
    "Entropy:\n",
    "Measures the purity of the clusters.\n",
    "Lower entropy indicates purer clusters.\n",
    "\n",
    "Fowlkes-Mallows Index:\n",
    "Measures the similarity between the clusters formed by the algorithm and the ground truth clustering.\n",
    "Values range from 0 (no agreement) to 1 (perfect agreement).\n",
    "\n",
    "Cohesion and Separation:\n",
    "Cohesion: Measures how closely related data points in a cluster are.\n",
    "Separation: Measures how distinct a cluster is from other clusters.\n",
    "\n",
    "Cluster Validity Indexes:\n",
    "Various indexes such as the C-Index, Gamma Index, and G2 Index can be used to assess clustering validity based on different criteria.\n",
    "\n",
    "#### Suggested Clustering Algorithms based on the dataset and purpose of the code\n",
    "Silhouette Score:\n",
    "Ideal for: General cluster evaluation for all clustering algorithms.\n",
    "Reason: The Silhouette Score provides a clear measure of how similar data points are within a cluster compared to other clusters. This metric is useful for assessing the overall structure of the clusters formed by any clustering algorithm.\n",
    "\n",
    "Davies-Bouldin Index:\n",
    "Ideal for: Comparing different clustering algorithms.\n",
    "Reason: The Davies-Bouldin Index is effective in evaluating the average similarity ratio of each cluster with its most similar cluster. It helps determine how well the clusters are separated and how compact they are, which is valuable for comparing the performance of different clustering methods.\n",
    "\n",
    "Adjusted Rand Index (ARI):\n",
    "Ideal for: When ground truth labels are available for comparison.\n",
    "Reason: The ARI measures the similarity between the clustering results and the ground truth, adjusting for chance. This metric is particularly useful for the Iris dataset, where true labels are known, allowing for a direct comparison of the clustering performance.\n",
    "\n",
    "Normalized Mutual Information (NMI):\n",
    "Ideal for: Comparing clustering results with ground truth labels.\n",
    "Reason: NMI measures the amount of information shared between the clustering result and the ground truth. It is a robust metric for evaluating how well the clusters match the actual species labels in the Iris dataset.\n",
    "\n",
    "Calinski-Harabasz Index (Variance Ratio Criterion):\n",
    "Ideal for: Evaluating cluster compactness and separation.\n",
    "Reason: The Calinski-Harabasz Index measures the ratio of between-cluster dispersion to within-cluster dispersion. Higher values indicate better-defined clusters, making it a suitable metric for assessing the quality of clusters formed by various algorithms.\n",
    "\n",
    "Homogeneity, Completeness, and V-Measure:\n",
    "Ideal for: Detailed performance analysis when ground truth labels are available.\n",
    "Reason: These metrics provide a comprehensive view of clustering performance:\n",
    "\n",
    "Homogeneity: Ensures that clusters contain only members of a single class.\n",
    "Completeness: Ensures that all members of a given class are assigned to the same cluster.\n",
    "V-Measure: The harmonic mean of homogeneity and completeness, offering a balanced evaluation of both metrics.\n",
    "Confusion Matrix:\n",
    "Ideal for: Visualizing the distribution of predicted versus actual labels.\n",
    "Reason: The confusion matrix provides a detailed view of how the clustering model's predictions compare with the true labels, helping to identify specific areas where the model performs well or poorly."
   ]
  },
  {
   "cell_type": "markdown",
   "id": "adde6242",
   "metadata": {},
   "source": [
    "## Part 1: Importing Libraries and Loading the Dataset"
   ]
  },
  {
   "cell_type": "code",
   "execution_count": 29,
   "id": "fa7d3966-e391-4b9a-b845-e8bdf94667fa",
   "metadata": {},
   "outputs": [],
   "source": [
    "# Turn off all the warning messages\n",
    "import warnings\n",
    "warnings.filterwarnings ('ignore')"
   ]
  },
  {
   "cell_type": "code",
   "execution_count": 30,
   "id": "a7b087bc-efa3-4b45-a3da-cf8f340055d9",
   "metadata": {},
   "outputs": [
    {
     "name": "stdout",
     "output_type": "stream",
     "text": [
      "(150, 5)\n"
     ]
    },
    {
     "data": {
      "text/html": [
       "<div>\n",
       "<style scoped>\n",
       "    .dataframe tbody tr th:only-of-type {\n",
       "        vertical-align: middle;\n",
       "    }\n",
       "\n",
       "    .dataframe tbody tr th {\n",
       "        vertical-align: top;\n",
       "    }\n",
       "\n",
       "    .dataframe thead th {\n",
       "        text-align: right;\n",
       "    }\n",
       "</style>\n",
       "<table border=\"1\" class=\"dataframe\">\n",
       "  <thead>\n",
       "    <tr style=\"text-align: right;\">\n",
       "      <th></th>\n",
       "      <th>sepal_length</th>\n",
       "      <th>sepal_width</th>\n",
       "      <th>petal_length</th>\n",
       "      <th>petal_width</th>\n",
       "      <th>species</th>\n",
       "    </tr>\n",
       "  </thead>\n",
       "  <tbody>\n",
       "    <tr>\n",
       "      <th>0</th>\n",
       "      <td>5.1</td>\n",
       "      <td>3.5</td>\n",
       "      <td>1.4</td>\n",
       "      <td>0.2</td>\n",
       "      <td>Iris-setosa</td>\n",
       "    </tr>\n",
       "    <tr>\n",
       "      <th>1</th>\n",
       "      <td>4.9</td>\n",
       "      <td>3.0</td>\n",
       "      <td>1.4</td>\n",
       "      <td>0.2</td>\n",
       "      <td>Iris-setosa</td>\n",
       "    </tr>\n",
       "    <tr>\n",
       "      <th>2</th>\n",
       "      <td>4.7</td>\n",
       "      <td>3.2</td>\n",
       "      <td>1.3</td>\n",
       "      <td>0.2</td>\n",
       "      <td>Iris-setosa</td>\n",
       "    </tr>\n",
       "  </tbody>\n",
       "</table>\n",
       "</div>"
      ],
      "text/plain": [
       "   sepal_length  sepal_width  petal_length  petal_width      species\n",
       "0           5.1          3.5           1.4          0.2  Iris-setosa\n",
       "1           4.9          3.0           1.4          0.2  Iris-setosa\n",
       "2           4.7          3.2           1.3          0.2  Iris-setosa"
      ]
     },
     "execution_count": 30,
     "metadata": {},
     "output_type": "execute_result"
    }
   ],
   "source": [
    "import pandas as pd\n",
    "df = pd.read_csv ('IRIS.csv')\n",
    "\n",
    "print(df.shape)\n",
    "df.head(3)"
   ]
  },
  {
   "cell_type": "markdown",
   "id": "b3acea97",
   "metadata": {},
   "source": [
    "## Part 2: Data Cleaning"
   ]
  },
  {
   "cell_type": "code",
   "execution_count": 76,
   "id": "82ecb13c-b381-422d-adee-274826300ce5",
   "metadata": {},
   "outputs": [
    {
     "data": {
      "text/plain": [
       "np.int64(0)"
      ]
     },
     "execution_count": 76,
     "metadata": {},
     "output_type": "execute_result"
    }
   ],
   "source": [
    "df.isna().sum ().sum ()  # Check for null or missing entries and if present remove the rows containing them."
   ]
  },
  {
   "cell_type": "code",
   "execution_count": 74,
   "id": "1c7087f9-8b2e-4315-8726-7276a22b43e2",
   "metadata": {},
   "outputs": [
    {
     "name": "stdout",
     "output_type": "stream",
     "text": [
      "(150, 6)\n"
     ]
    },
    {
     "data": {
      "text/plain": [
       "np.int64(0)"
      ]
     },
     "execution_count": 74,
     "metadata": {},
     "output_type": "execute_result"
    }
   ],
   "source": [
    "# Drop the rows with missing values from a DataFrame using the '.dropna()' method.\n",
    "    # By default, it (a) removes any row from the DataFrame that contains at least one missing value (NaN), and\n",
    "    # (b) returns a new DataFrame with the rows containing missing values removed.\n",
    "    # Syntax: DataFrame.dropna(axis=0, how='any', thresh=None, subset=None, inplace=False)\n",
    "    # Example: df.dropna(axis=0, how='any', thresh=None, subset=None, inplace=False)\n",
    "        # how='any' (default): Drop if any value is missing.\n",
    "        # how='all': Drop only if all values are missing.\n",
    "        # axis=0 (default): Drop rows containing missing values.\n",
    "        # axis=1: Drop columns containing missing values.\n",
    "    \n",
    "df=df.dropna()\n",
    "\n",
    "print(df.shape)  # Check the shape of the DataFrame after removing the rows with missing values.\n",
    "\n",
    "df.isna().sum ().sum ()  # Verify the the rows with missing values have been removed."
   ]
  },
  {
   "cell_type": "markdown",
   "id": "338508de",
   "metadata": {},
   "source": [
    "## Part 3: Exploratory Data Analysis (EDA)\n",
    "\n",
    "Evaluate the Features"
   ]
  },
  {
   "cell_type": "code",
   "execution_count": 33,
   "id": "fdf17048-f0ed-423b-ba3b-2823fd038e15",
   "metadata": {},
   "outputs": [
    {
     "data": {
      "text/plain": [
       "species\n",
       "Iris-setosa        50\n",
       "Iris-versicolor    50\n",
       "Iris-virginica     50\n",
       "Name: count, dtype: int64"
      ]
     },
     "execution_count": 33,
     "metadata": {},
     "output_type": "execute_result"
    }
   ],
   "source": [
    "df.species.value_counts()  # Identify unique values in a pandas Series along with the count of each occurrence"
   ]
  },
  {
   "cell_type": "code",
   "execution_count": 34,
   "id": "a161d0b9",
   "metadata": {},
   "outputs": [
    {
     "data": {
      "text/plain": [
       "<bound method IndexOpsMixin.value_counts of 0      5.1\n",
       "1      4.9\n",
       "2      4.7\n",
       "3      4.6\n",
       "4      5.0\n",
       "      ... \n",
       "145    6.7\n",
       "146    6.3\n",
       "147    6.5\n",
       "148    6.2\n",
       "149    5.9\n",
       "Name: sepal_length, Length: 150, dtype: float64>"
      ]
     },
     "execution_count": 34,
     "metadata": {},
     "output_type": "execute_result"
    }
   ],
   "source": [
    "df.sepal_length.value_counts  # Evaluate the values in the 'sepal_length' column, which is a pandas Series"
   ]
  },
  {
   "cell_type": "code",
   "execution_count": 35,
   "id": "c074a9fb",
   "metadata": {},
   "outputs": [
    {
     "data": {
      "text/plain": [
       "<bound method IndexOpsMixin.value_counts of 0      3.5\n",
       "1      3.0\n",
       "2      3.2\n",
       "3      3.1\n",
       "4      3.6\n",
       "      ... \n",
       "145    3.0\n",
       "146    2.5\n",
       "147    3.0\n",
       "148    3.4\n",
       "149    3.0\n",
       "Name: sepal_width, Length: 150, dtype: float64>"
      ]
     },
     "execution_count": 35,
     "metadata": {},
     "output_type": "execute_result"
    }
   ],
   "source": [
    "df.sepal_width.value_counts  # Evaluate the values in the 'sepal_width' column, which is a pandas Series"
   ]
  },
  {
   "cell_type": "markdown",
   "id": "d4505c40",
   "metadata": {},
   "source": [
    "## Part 4: Preprocessing Data\n",
    "\n",
    "Handling missing values, Encoding categorical variables, Scaling numerical features, Normalization, Splitting data into training and testing sets, Creating new dataframes using '.filter()'."
   ]
  },
  {
   "cell_type": "code",
   "execution_count": 38,
   "id": "07522fcf-25b8-45e9-ab0e-4368dcd33c77",
   "metadata": {},
   "outputs": [
    {
     "data": {
      "text/html": [
       "<div>\n",
       "<style scoped>\n",
       "    .dataframe tbody tr th:only-of-type {\n",
       "        vertical-align: middle;\n",
       "    }\n",
       "\n",
       "    .dataframe tbody tr th {\n",
       "        vertical-align: top;\n",
       "    }\n",
       "\n",
       "    .dataframe thead th {\n",
       "        text-align: right;\n",
       "    }\n",
       "</style>\n",
       "<table border=\"1\" class=\"dataframe\">\n",
       "  <thead>\n",
       "    <tr style=\"text-align: right;\">\n",
       "      <th></th>\n",
       "      <th>sepal_length</th>\n",
       "      <th>sepal_width</th>\n",
       "    </tr>\n",
       "  </thead>\n",
       "  <tbody>\n",
       "    <tr>\n",
       "      <th>0</th>\n",
       "      <td>5.1</td>\n",
       "      <td>3.5</td>\n",
       "    </tr>\n",
       "    <tr>\n",
       "      <th>1</th>\n",
       "      <td>4.9</td>\n",
       "      <td>3.0</td>\n",
       "    </tr>\n",
       "    <tr>\n",
       "      <th>2</th>\n",
       "      <td>4.7</td>\n",
       "      <td>3.2</td>\n",
       "    </tr>\n",
       "  </tbody>\n",
       "</table>\n",
       "</div>"
      ],
      "text/plain": [
       "   sepal_length  sepal_width\n",
       "0           5.1          3.5\n",
       "1           4.9          3.0\n",
       "2           4.7          3.2"
      ]
     },
     "execution_count": 38,
     "metadata": {},
     "output_type": "execute_result"
    }
   ],
   "source": [
    "# Create a new DataFrame with only the specified columns as the features \n",
    "    # Syntax: DataFrame.filter(items=None, like=None, regex=None, axis=None)\n",
    "        # axis: The axis to filter on (0 for rows, 1 for columns).\n",
    "        # items: A list of columns to include in the result using index.\n",
    "            # Example: df.filter(items=[0,2]) or df.filter(items=['sepal_length','sepal_width'])\n",
    "        # like: A string to match in the columns.\n",
    "            # Example: df.filter(like='sepal')\n",
    "        # regex: A regular expression to match in the columns.\n",
    "            # Example: df.filter(regex='^sepal', axis=1)  # Selects columns starting with 'sepal'\n",
    "\n",
    "df_features = df.filter(['sepal_length','sepal_width'],axis=1)\n",
    "df_features.head(3)"
   ]
  },
  {
   "cell_type": "markdown",
   "id": "3d8af2fe",
   "metadata": {},
   "source": [
    "## Part 5: KMeans Clustering\n",
    "\n",
    "Create a KMeans object to form 3 clusters.\n",
    "Train the KMeans model using the selected features.\n",
    "Obtain the predicted cluster labels.\n",
    "Analyze and map the cluster labels to the corresponding species.\n",
    "Extract and display the actual species labels from the DataFrame."
   ]
  },
  {
   "cell_type": "markdown",
   "id": "3ddcb23b-6b1f-45ee-af66-f944029d18a0",
   "metadata": {},
   "source": [
    "- Create a KMeans object for forming 3 clusters (because we know there are three categories of species in the data.\n",
    "- Train KMeans on data created above containing two features but no labels as it is unsupervised learning.\n",
    "- By default, KMeans assigns cluster numbers (cluster id's) to clusters at random. So, each time we run the application, the same clusters may get different cluster id's (cluster numbers). When we assign a value to random_state and pass it to KMeans at object creation, it seeds the random generator. By assigning the same value this parameter at each run, we ensure that the same clusters will be assigned the same customer number (cluster ids) at each run. This ensures consistent and repeatable application behavior. "
   ]
  },
  {
   "cell_type": "markdown",
   "metadata": {},
   "source": [
    "#### Initializing and Fitting the KMeans Model"
   ]
  },
  {
   "cell_type": "code",
   "execution_count": 39,
   "id": "7c72f966-d524-48ce-bd67-d05996970656",
   "metadata": {},
   "outputs": [],
   "source": [
    "from sklearn.cluster import KMeans\n",
    "\n",
    "# Create a KMeans model with 3 clusters (3 clusters are specified because we know that there are 3 species of iris in the data set)\n",
    "model = KMeans (n_clusters = 3 , random_state=0)\n",
    "\n",
    "# Fit the model to the features in the data set \n",
    "model = model.fit (df_features)"
   ]
  },
  {
   "cell_type": "markdown",
   "id": "2c192bb2-0459-4cf7-94db-112885c33c13",
   "metadata": {},
   "source": [
    "- During training, as mentioned above, KMeans divides the data into clusters (subgroups) and assigns a cluster number (cluster id) to each cluster. Simultaneously, it assigns each data item to a cluster and assigns all cluster members, the parent cluster number (cluster id) as their predicted label. So, all data item belonging to cluster number 2, will have the 2 as their predicted label. Below, after the model is trained we acquire the predicted labels of all data items from KMeans model and display them as a list. \n"
   ]
  },
  {
   "cell_type": "markdown",
   "id": "9e0efa7f",
   "metadata": {},
   "source": [
    "## Part 6: Predicting the Clusters"
   ]
  },
  {
   "cell_type": "code",
   "execution_count": 69,
   "id": "d2d9c8e2-72fc-47d2-a8b5-5195311e360b",
   "metadata": {},
   "outputs": [
    {
     "name": "stdout",
     "output_type": "stream",
     "text": [
      "[2 2 2 2 2 2 2 2 2 2 2 2 2 2 2 2 2 2 2 2 2 2 2 2 2 2 2 2 2 2 2 2 2 2 2 2 2\n",
      " 2 2 2 2 2 2 2 2 2 2 2 2 2 1 1 1 0 1 0 1 0 1 0 0 0 0 0 0 1 0 0 0 0 0 0 0 0\n",
      " 1 1 1 1 0 0 0 0 0 0 0 0 1 0 0 0 0 0 0 0 0 0 0 0 0 0 1 0 1 1 1 1 2 1 1 1 1\n",
      " 1 1 0 0 1 1 1 1 0 1 0 1 0 1 1 0 0 1 1 1 1 1 0 0 1 1 1 0 1 1 1 0 1 1 1 0 1\n",
      " 1 0]\n"
     ]
    },
    {
     "data": {
      "text/plain": [
       "numpy.ndarray"
      ]
     },
     "execution_count": 69,
     "metadata": {},
     "output_type": "execute_result"
    }
   ],
   "source": [
    "# Predict the cluster labels for each data point in the data set\n",
    "predicted_labels = model.labels_\n",
    "\n",
    "print (predicted_labels)\n",
    "type(predicted_labels)"
   ]
  },
  {
   "cell_type": "markdown",
   "id": "ecf0fdca",
   "metadata": {},
   "source": [
    "#### Add the Predicted Cluster Labels to the Original DataFrame"
   ]
  },
  {
   "cell_type": "code",
   "execution_count": 70,
   "id": "e9cb91bc",
   "metadata": {},
   "outputs": [
    {
     "name": "stdout",
     "output_type": "stream",
     "text": [
      "            species  cluster\n",
      "0       Iris-setosa        2\n",
      "1       Iris-setosa        2\n",
      "2       Iris-setosa        2\n",
      "3       Iris-setosa        2\n",
      "4       Iris-setosa        2\n",
      "..              ...      ...\n",
      "145  Iris-virginica        1\n",
      "146  Iris-virginica        0\n",
      "147  Iris-virginica        1\n",
      "148  Iris-virginica        1\n",
      "149  Iris-virginica        0\n",
      "\n",
      "[150 rows x 2 columns]\n"
     ]
    }
   ],
   "source": [
    "df['cluster'] = predicted_labels\n",
    "\n",
    "# Display the species and cluster labels for each data point in the data set\n",
    "print(df[['species', 'cluster']])"
   ]
  },
  {
   "cell_type": "markdown",
   "id": "50d4caad",
   "metadata": {},
   "source": [
    "#### Identify the Cluster Labels"
   ]
  },
  {
   "cell_type": "code",
   "execution_count": 71,
   "id": "ec526048",
   "metadata": {},
   "outputs": [
    {
     "name": "stdout",
     "output_type": "stream",
     "text": [
      "Cluster to species mapping:  {0: 'Iris-versicolor', 1: 'Iris-virginica', 2: 'Iris-setosa'}\n"
     ]
    }
   ],
   "source": [
    "# Determine the mapping between the species and cluster labels\n",
    "cluster_maping = {}\n",
    "\n",
    "for cluster in range(len(df['cluster'].unique())):\n",
    "    # The cluster for each species is determined by the most common cluster label in the species\n",
    "    most_common_cluster = df[df['cluster'] == cluster]['species'].mode()[0]  # .mode() returns the most common value(s) in a Series\n",
    "    cluster_maping[cluster] = most_common_cluster  # dictionary with cluster as key and species as value\n",
    "\n",
    "print('Cluster to species mapping: ', cluster_maping)"
   ]
  },
  {
   "cell_type": "markdown",
   "id": "ca8c2a81-874a-406c-a459-844d6d686507",
   "metadata": {},
   "source": [
    "#### Old notes from professor - i don't like the assumption approach, so ignore the notes of this markdown cell as well as the cell of code that follows, which I commented out. Also, there is an error in this note and in the cell where the professor encodes the maplist, as the assumptions don't match up.\n",
    "\n",
    "Note about: predicted_labels = model.labels_\n",
    "\n",
    "- First several items are are assigned 2 as their predicted label as they are assigned to cluster number 2. In other words, KMeans is predicting that these data items have similar features and they are classified to the same species. The actual labels indicate that they belonging to species 'Iris-setosa'. So, KMeans is encoding 2 for species 'Iris-setosa'.\n",
    "- Similarly, many of last items are assigned 1 as their predicted label as they are assigned to cluster number 1. In other words, KMeans is predicting that these data items have similar features and they are classified to the same species. The actual label values indicate that they belonging to species 'Iris-virginica'. So, KMeans is encoding 1 for species 'Iris-virginica'.\n",
    "- Similarly, KMeans is encoding 0 for species Iris-versicolor'.\n",
    "\n",
    "In summary, from the above discussion, we assume the following encoding for the above data:\n",
    "\n",
    "  2 : 'Iris-setosa'\n",
    "  \n",
    "  0 : 'Iris-virginica'\n",
    "  \n",
    "  1 : 'Iris-versicolor'\n",
    "  "
   ]
  },
  {
   "cell_type": "code",
   "execution_count": null,
   "id": "75924d15",
   "metadata": {},
   "outputs": [],
   "source": [
    "# cluster_maping = {0:'Cluster 1', 1:'Cluster 2', 2:'Cluster 3'}"
   ]
  },
  {
   "cell_type": "markdown",
   "id": "91fa755f",
   "metadata": {},
   "source": [
    "## Part 7: Determining the Cluster Centers"
   ]
  },
  {
   "cell_type": "code",
   "execution_count": 63,
   "id": "212b8f82-d218-4bfb-990d-83743ff308ef",
   "metadata": {},
   "outputs": [
    {
     "name": "stdout",
     "output_type": "stream",
     "text": [
      "[[5.79038462 2.69615385]\n",
      " [6.81276596 3.07446809]\n",
      " [5.00392157 3.4       ]]\n"
     ]
    }
   ],
   "source": [
    "# From the KMeans model, get the coordinates of the cluster centers (centroids).\n",
    "# The centroids are calculated as the average position of all points in each cluster.\n",
    "# 'predicted_centers' is a NumPy array where:\n",
    "    # Each row represents a cluster center.\n",
    "    # The number of rows equals the number of clusters.\n",
    "    # The number of columns equals the number of features in the dataset.\n",
    "\n",
    "predicted_centers = model.cluster_centers_\n",
    "print (predicted_centers)"
   ]
  },
  {
   "cell_type": "code",
   "execution_count": 64,
   "id": "32537c66-049e-4e65-8e00-7f3a12a7b33b",
   "metadata": {},
   "outputs": [
    {
     "name": "stdout",
     "output_type": "stream",
     "text": [
      "<class 'pandas.core.frame.DataFrame'>\n",
      "(150, 1)\n",
      "            species\n",
      "0       Iris-setosa\n",
      "1       Iris-setosa\n",
      "2       Iris-setosa\n",
      "3       Iris-setosa\n",
      "4       Iris-setosa\n",
      "..              ...\n",
      "145  Iris-virginica\n",
      "146  Iris-virginica\n",
      "147  Iris-virginica\n",
      "148  Iris-virginica\n",
      "149  Iris-virginica\n",
      "\n",
      "[150 rows x 1 columns]\n"
     ]
    }
   ],
   "source": [
    "# Create a DataFrame of true labels (the actual species labels).\n",
    "df_true_labels = df.filter(['species'], axis=1)\n",
    "\n",
    "print(type(df_true_labels))\n",
    "print(df_true_labels.shape)\n",
    "print(df_true_labels)"
   ]
  },
  {
   "cell_type": "markdown",
   "id": "c6408755-375f-4ec3-a198-57e8644be4cd",
   "metadata": {},
   "source": [
    "In the next few steps, we will display the actual labels for the data items, first as strings and then in encoded form to compare them with the predicted label values above obtained from the model.\n",
    "- Encode the labels with 0, 1, and 2 as below using the ordinal decoder. We use the ordinal encoder because it allows us to chose the encoding assignment which label encoder does not.\n",
    "- Below we chose the encoding assignment using the variable maplist. According to ordinal encoder rules, the first name in the list will be encoded zero, the second as 1, and the third as 2, and so on.\n",
    "- We listed the name such that they would get the same encoding as they got in predicted labels above (according to our conjecture mentioned above)"
   ]
  },
  {
   "cell_type": "markdown",
   "id": "ada93b9e",
   "metadata": {},
   "source": [
    "## Part 8: Encoding Categorical Data"
   ]
  },
  {
   "cell_type": "code",
   "execution_count": 65,
   "id": "ff92c6aa-331b-4581-9dd0-fbd3da2b4143",
   "metadata": {},
   "outputs": [
    {
     "name": "stdout",
     "output_type": "stream",
     "text": [
      "0    2.0\n",
      "1    2.0\n",
      "2    2.0\n",
      "3    2.0\n",
      "4    2.0\n",
      "Name: species, dtype: float64\n",
      "<class 'pandas.core.series.Series'>\n"
     ]
    }
   ],
   "source": [
    "from sklearn.preprocessing import OrdinalEncoder  # The 'OrdinalEncoder' encodes categorical data into numerical data.\n",
    "\n",
    "# Encode the species labels using the 'OrdinalEncoder' and the identified mapping from earlier:\n",
    "    # Cluster to species mapping:  {0: 'Iris-versicolor', 1: 'Iris-virginica', 2: 'Iris-setosa'}\n",
    "maplist=['Iris-versicolor','Iris-virginica','Iris-setosa']\n",
    "\n",
    "# Created an instance, 'oe', of the 'OrdinalEncoder' class with the identified mapping\n",
    "oe = OrdinalEncoder(categories=[maplist])\n",
    "\n",
    "'''\n",
    "Below, the 'fit_transform' method expects the parameter passed to be a 2 dimensional array and returns a 2 dimensional value.\n",
    "However, since the receiving variable is 1 dimensional, the output automatically gets converted into a 1D Series.\n",
    "    - 'fit method is used to learn the unique values and their coresponding transformations from the 'species' column based onthe mapping provided.\n",
    "    - 'transform' method applies the learned mapping to the data, converting each category to its corresponding numerical value.\n",
    "'''\n",
    "\n",
    "df_true_labels.species = oe.fit_transform(df_true_labels)\n",
    "\n",
    "print (df_true_labels.species[0:5])\n",
    "print (type(df_true_labels.species))"
   ]
  },
  {
   "cell_type": "markdown",
   "id": "ae2d7c70",
   "metadata": {},
   "source": [
    "## Part 9: Preparing True Labels"
   ]
  },
  {
   "cell_type": "code",
   "execution_count": 66,
   "id": "c521ee75-4b0a-410e-9571-964ea954ea59",
   "metadata": {},
   "outputs": [
    {
     "name": "stdout",
     "output_type": "stream",
     "text": [
      "[2. 2. 2. 2. 2. 2. 2. 2. 2. 2. 2. 2. 2. 2. 2. 2. 2. 2. 2. 2. 2. 2. 2. 2.\n",
      " 2. 2. 2. 2. 2. 2. 2. 2. 2. 2. 2. 2. 2. 2. 2. 2. 2. 2. 2. 2. 2. 2. 2. 2.\n",
      " 2. 2. 0. 0. 0. 0. 0. 0. 0. 0. 0. 0. 0. 0. 0. 0. 0. 0. 0. 0. 0. 0. 0. 0.\n",
      " 0. 0. 0. 0. 0. 0. 0. 0. 0. 0. 0. 0. 0. 0. 0. 0. 0. 0. 0. 0. 0. 0. 0. 0.\n",
      " 0. 0. 0. 0. 1. 1. 1. 1. 1. 1. 1. 1. 1. 1. 1. 1. 1. 1. 1. 1. 1. 1. 1. 1.\n",
      " 1. 1. 1. 1. 1. 1. 1. 1. 1. 1. 1. 1. 1. 1. 1. 1. 1. 1. 1. 1. 1. 1. 1. 1.\n",
      " 1. 1. 1. 1. 1. 1.]\n"
     ]
    },
    {
     "data": {
      "text/plain": [
       "numpy.ndarray"
      ]
     },
     "execution_count": 66,
     "metadata": {},
     "output_type": "execute_result"
    }
   ],
   "source": [
    "# Convert the 'species' column in the 'df_true_labels' DataFrame to a NumPy array using '.values' panda Series and DataFrame attribute.\n",
    "# Attributes:\n",
    "    # Attribute is a property of an object that holds data. Attributes in Python are accessed using dot (.) notation.\n",
    "    # Attributes, unlike functions and methods, do not perform any operations but instead store and return data related to the object.\n",
    "\n",
    "ar_true_labels = df_true_labels.species.values\n",
    "\n",
    "print (ar_true_labels)\n",
    "type (ar_true_labels)"
   ]
  },
  {
   "cell_type": "markdown",
   "id": "76b9daa3-9da9-4f7b-91e3-fc99ffefeda8",
   "metadata": {},
   "source": [
    "When we visually compare the above true labels with the earlier predicted label, the values are fairly close."
   ]
  },
  {
   "cell_type": "markdown",
   "id": "0bccd97f-44e3-4944-a957-1c99118a9f2f",
   "metadata": {},
   "source": [
    "Below, we display the following:\n",
    "- the total number of items\n",
    "- the total number of matches\n",
    "- the accuracy score\n",
    "- classification report\n",
    "- confusion matrix"
   ]
  },
  {
   "cell_type": "markdown",
   "id": "f48a5c89",
   "metadata": {},
   "source": [
    "## Part 10: Evaluate the Accuracy of the KMeans Model's Clustering\n",
    "\n",
    "- by Comparing the Predicted Cluster Labels to the True Species Labels."
   ]
  },
  {
   "cell_type": "code",
   "execution_count": 133,
   "id": "d426f553-c417-45ca-8320-a05e6968a11e",
   "metadata": {},
   "outputs": [
    {
     "name": "stdout",
     "output_type": "stream",
     "text": [
      "150.0\n",
      "123.0\n",
      "0.82\n",
      "              precision    recall  f1-score   support\n",
      "\n",
      "         0.0       0.73      0.76      0.75        50\n",
      "         1.0       0.74      0.70      0.72        50\n",
      "         2.0       0.98      1.00      0.99        50\n",
      "\n",
      "    accuracy                           0.82       150\n",
      "   macro avg       0.82      0.82      0.82       150\n",
      "weighted avg       0.82      0.82      0.82       150\n",
      "\n",
      "[[38 12  0]\n",
      " [14 35  1]\n",
      " [ 0  0 50]]\n",
      "\n",
      "\n",
      "Metrics Interpretation\n",
      "The Accuracy Score correctly predicted 123.0 out of 150.0\n"
     ]
    }
   ],
   "source": [
    "from sklearn.metrics import accuracy_score, classification_report, confusion_matrix\n",
    "\n",
    "print (ar_true_labels.sum())\n",
    "print (accuracy_score(ar_true_labels,predicted_labels, normalize=False))\n",
    "print (accuracy_score(ar_true_labels,predicted_labels))\n",
    "print (classification_report(ar_true_labels,predicted_labels))\n",
    "print (confusion_matrix (ar_true_labels,predicted_labels))\n",
    "\n",
    "print('\\n')\n",
    "print('Metrics Interpretation')\n",
    "correct_predictions = accuracy_score(ar_true_labels, predicted_labels, normalize=False)\n",
    "print(f'The Accuracy Score correctly predicted {correct_predictions} out of {ar_true_labels.sum()}')"
   ]
  },
  {
   "cell_type": "code",
   "execution_count": 135,
   "id": "4d59e0ec",
   "metadata": {},
   "outputs": [],
   "source": [
    "# Metrics Interpretation\n",
    "\n",
    "# Classification Report\n",
    "# 0.0 (Iris-versicolor) has 73% accuracy (precision)\n",
    "# 1.0 (Iris-virginica) has 74% accuracy (precision)\n",
    "# 2.0 (Iris-setosa) has 98% accuracy (precision)\n",
    "\n",
    "# Confusion Matrix\n",
    "    # Row 0 = Class 0.0 (Iris-versicolor)\n",
    "    # Row 1 = Class 1.0 (Iris-virginica)\n",
    "    # Row 2 = Class 2.0 (Iris-setosa)\n",
    "# Row 0\n",
    "    # 38 data points correctly predicted Iris-versicolor (class 0.0)\n",
    "    # 12 data points were misclassified as Iris-virginica (class 1.0)\n",
    "    # 0 data points were misclassified as Iris-setosa (class 2.0)\n",
    "\n",
    "# 35 data points correctly predicted Iris-virginica (class 1.0)\n",
    "# 50 data points correctly predicted Iris-setosa (class 2.0)"
   ]
  },
  {
   "cell_type": "code",
   "execution_count": 131,
   "id": "b5f9d5b5-d352-4a64-a4cc-6699cba9f5f0",
   "metadata": {},
   "outputs": [
    {
     "name": "stdout",
     "output_type": "stream",
     "text": [
      "[[5.1 3.5]\n",
      " [4.9 3. ]\n",
      " [4.7 3.2]\n",
      " [4.6 3.1]\n",
      " [5.  3.6]]\n"
     ]
    }
   ],
   "source": [
    "# Convert the 'df_features' DataFrame to a NumPy array using the '.values' attribute.\n",
    "ar_features = df_features.values\n",
    "print(ar_features[0:5,0:2])"
   ]
  },
  {
   "cell_type": "markdown",
   "id": "27deb053-34f3-4a80-b43c-9d6a7a704522",
   "metadata": {},
   "source": [
    "Below, we graphically show all data items as points in a scatter graph.\n",
    "- with sepal length of the data items along x-axis and their sepal width along y-axis.\n",
    "- colors of data points are chosen from the color map: rainbow\n",
    "- color value of each data point is specified by a number in the list: predicted_labels\n",
    "- numbers in the predicted_labels list are 0, 1, 2. So, each data point is in one of these three colors.\n",
    "- the numbers in the predicted_labels list are in fact the cluster numbers to which the data points belong. So all the data points belonging to the same cluster are in the same color. But, each cluster represents a predicted species. So all data point that are of the same color are in the same predicted species\n",
    "\n",
    "Below, we also show cluster centers (centroids) as black X's.  "
   ]
  },
  {
   "cell_type": "code",
   "execution_count": 136,
   "id": "6f09dc44",
   "metadata": {},
   "outputs": [
    {
     "name": "stdout",
     "output_type": "stream",
     "text": [
      "Silhouette Score: 0.4410884431506603\n"
     ]
    }
   ],
   "source": [
    "# Calculate the Silhouette Score\n",
    "    # The Silhouette Score is a measure of how similar an object is to its cluster compared to other clusters.\n",
    "    # The Silhouette Score ranges from -1 to 1, where:\n",
    "        # 1 indicates that the object is well matched to its own cluster and poorly matched to neighboring clusters.\n",
    "        # 0 indicates that the object is on or very close to the decision boundary between two neighboring clusters.\n",
    "        # -1 indicates that the object is poorly matched to its own cluster and well matched to neighboring clusters.\n",
    "        \n",
    "from sklearn.metrics import silhouette_score\n",
    "sil_score = silhouette_score(ar_features, predicted_labels)\n",
    "print(f'Silhouette Score: {sil_score}')"
   ]
  },
  {
   "cell_type": "markdown",
   "id": "d50b459c",
   "metadata": {},
   "source": [
    "## Part 11: Visualizing the Clusters"
   ]
  },
  {
   "cell_type": "code",
   "execution_count": 84,
   "id": "b831a8d7-a995-45af-873b-107812a8e3b7",
   "metadata": {},
   "outputs": [
    {
     "data": {
      "text/plain": [
       "<matplotlib.collections.PathCollection at 0x146cfbb10>"
      ]
     },
     "execution_count": 84,
     "metadata": {},
     "output_type": "execute_result"
    },
    {
     "data": {
      "image/png": "[encoded data removed]",
      "text/plain": [
       "<Figure size 640x480 with 1 Axes>"
      ]
     },
     "metadata": {},
     "output_type": "display_data"
    }
   ],
   "source": [
    "import matplotlib.pyplot as plt\n",
    "\n",
    "# Scatter plot of the features with the predicted clusters\n",
    "plt.scatter (ar_features[:, 0], ar_features [: ,1], c=predicted_labels, cmap='rainbow')\n",
    "\n",
    "# Scatter plot predicted cluster centers\n",
    "plt.scatter (predicted_centers[:,0],predicted_centers[:,1], c='black', marker='x' )"
   ]
  },
  {
   "cell_type": "markdown",
   "id": "9b08563b-a96b-4600-83f4-e2f3518549cb",
   "metadata": {},
   "source": [
    "Below, we graphically show all data items as points in a scatter graph in the same way as we did in the graph above. The only difference is that the color values for points are chosen from the array list ar_true_labels which are encoded values (0, 1, or 2) for species. So, all the data points belonging to the same species are in the same color.  "
   ]
  },
  {
   "cell_type": "code",
   "execution_count": 85,
   "id": "45459915-e37b-49f6-8c1a-7c863268f917",
   "metadata": {
    "scrolled": true
   },
   "outputs": [
    {
     "data": {
      "text/plain": [
       "<matplotlib.collections.PathCollection at 0x146d5a9d0>"
      ]
     },
     "execution_count": 85,
     "metadata": {},
     "output_type": "execute_result"
    },
    {
     "data": {
      "image/png": "[encoded data removed]",
      "text/plain": [
       "<Figure size 640x480 with 1 Axes>"
      ]
     },
     "metadata": {},
     "output_type": "display_data"
    }
   ],
   "source": [
    "# Scatter plot of the features with the true species labels\n",
    "plt.scatter ( ar_features [: , 0], ar_features [: ,1], c=ar_true_labels, cmap='rainbow')"
   ]
  },
  {
   "cell_type": "markdown",
   "id": "c578f831-a0e6-4b96-8ea9-8110357bf67d",
   "metadata": {},
   "source": [
    "Above, both graphs show the same data point where each point represents a data item in the data set. In the first graph, the colors of the data points are according to values (0, 1, or 2) contained in predicted_labels. In the second graph, the colors of the data points are according to values (0, 1, or 2) in the ar_true_labels. So, by examining the two graphs, we can see how well the three clusters formed by KMeans match the three species. "
   ]
  },
  {
   "cell_type": "code",
   "execution_count": 110,
   "id": "3ab7e604",
   "metadata": {},
   "outputs": [
    {
     "data": {
      "image/png": "[encoded data removed]",
      "text/plain": [
       "<Figure size 640x480 with 1 Axes>"
      ]
     },
     "metadata": {},
     "output_type": "display_data"
    }
   ],
   "source": [
    "import matplotlib.pyplot as plt\n",
    "\n",
    "# Create the scatter plot for predicted labels\n",
    "plt.scatter(ar_features[:, 0], ar_features[:, 1], c=predicted_labels, cmap='rainbow', marker='o', alpha=0.5, label='Predicted Labels')\n",
    "\n",
    "# Overlay the scatter plot for true labels\n",
    "plt.scatter(ar_features[:, 0], ar_features[:, 1], c=ar_true_labels, cmap='Spectral', marker='x', alpha=0.5, label='True Labels')\n",
    "\n",
    "# Adding a legend to differentiate between the two plots\n",
    "plt.legend()\n",
    "\n",
    "# Adding labels and title\n",
    "plt.xlabel('Feature 1')\n",
    "plt.ylabel('Feature 2')\n",
    "plt.title('Comparison of Predicted Labels and True Labels')\n",
    "\n",
    "# Show the plot\n",
    "plt.show()"
   ]
  },
  {
   "cell_type": "code",
   "execution_count": 108,
   "id": "64cccbdf",
   "metadata": {},
   "outputs": [
    {
     "data": {
      "image/png": "[encoded data removed]",
      "text/plain": [
       "<Figure size 640x480 with 1 Axes>"
      ]
     },
     "metadata": {},
     "output_type": "display_data"
    }
   ],
   "source": [
    "import matplotlib.pyplot as plt\n",
    "\n",
    "# Assuming ar_features, predicted_labels, and ar_true_labels are already defined\n",
    "\n",
    "# Create the scatter plot for predicted labels\n",
    "plt.scatter(ar_features[:, 0], ar_features[:, 1], c=predicted_labels, cmap='rainbow', marker='o', alpha=0.5, edgecolor='w', label='Predicted Labels')\n",
    "\n",
    "# Overlay the cluster centers with a distinct color\n",
    "plt.scatter(predicted_centers[:, 0], predicted_centers[:, 1], c='black', marker='x', s=100, label='Cluster Centers')\n",
    "\n",
    "# Overlay the scatter plot for true labels with a different alpha value\n",
    "plt.scatter(ar_features[:, 0], ar_features[:, 1], c=ar_true_labels, cmap='rainbow', marker='o', alpha=0.2, edgecolor='k', label='True Labels')\n",
    "\n",
    "# Adding a legend to differentiate between the two plots\n",
    "plt.legend()\n",
    "\n",
    "# Adding labels and title\n",
    "plt.xlabel('Feature 1')\n",
    "plt.ylabel('Feature 2')\n",
    "plt.title('Comparison of Predicted Labels and True Labels')\n",
    "\n",
    "# Show the plot\n",
    "plt.show()\n"
   ]
  },
  {
   "cell_type": "markdown",
   "id": "5b93267f-5523-4d48-9847-0561566e84f8",
   "metadata": {},
   "source": []
  }
 ],
 "metadata": {
  "kernelspec": {
   "display_name": "Python 3",
   "language": "python",
   "name": "python3"
  },
  "language_info": {
   "codemirror_mode": {
    "name": "ipython",
    "version": 3
   },
   "file_extension": ".py",
   "mimetype": "text/x-python",
   "name": "python",
   "nbconvert_exporter": "python",
   "pygments_lexer": "ipython3",
   "version": "3.11.0"
  }
 },
 "nbformat": 4,
 "nbformat_minor": 5
}
