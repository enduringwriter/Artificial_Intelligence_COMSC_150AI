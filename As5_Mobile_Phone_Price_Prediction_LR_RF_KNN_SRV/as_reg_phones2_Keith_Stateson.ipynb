{
 "cells": [
  {
   "attachments": {},
   "cell_type": "markdown",
   "id": "891078ec-1ee3-4bc8-8137-e35733a43cce",
   "metadata": {},
   "source": [
    "## Supervised Learning using Regression\n",
    "\n",
    "## Predicting Price\n",
    "\n",
    "## Objectives\n",
    "Upon completing this assignment, you will learn how to write a simple AI application involving supervised learning using regression.\n",
    "\n",
    "## Summary\n",
    "Write an AI application that predicts the price of an Android cell phone based on its attributes. Use the prvoided dataset (k_mobilephonepriceprediction.csv), which contains data on 1370 Android cell phones with 17 features, including the price. Use 80% of the data for training and 20% for testing. Train the sklearn's 'LinearRegression' model. After training the model, test the model and compute the Mean Absolute Percentage Error (MAPE). Additionally, report the trained model's coefficients (coef_) and intercept (intercept_). \n",
    "\n",
    "#### Regressor Models to be Used\n",
    "Evaluate the following regression models from sklearn and compare their performance using MAPE:\n",
    "\n",
    "- LinearRegression from sklearn.linear_model\n",
    "- KNeighborsRegressor from sklearn.neighbors (use n_neighbors=5)\n",
    "- SVR from sklearn.svm\n",
    "- RandomForestRegressor from sklearn.ensemble\n",
    "\n",
    "Try some made-up attribute values with the best performing model and report the predicted prices.\n",
    "\n",
    "## Implementation \n",
    "\n",
    "#### Preprocessing\n",
    "- Remove rows with missing or null values\n",
    "- Remove duplicate rows\n",
    "\n",
    "#### Columns Used\n",
    "\n",
    "Although dataset has 17 columns, use only the following 6 columns for the prediction: Rating, Spec_score, Ram, Display, Screen_resolution, company, Price\n",
    "\n",
    "#### Column Cleaning\n",
    "- 'Rating' and 'Spec_score' column values are already numerical.\n",
    "- 'Ram' and 'Display' values need cleaning as they are strings (e.g., '4 GB RAM' and '6.7 inches'). Remove alphabetical chars and convert the integer to float.\n",
    "- Screen_resolution are ordinal strings (e.g., '2408 x 1080 px Display with Water Drop Notch' and '720 x 1560 px Display with Punch Hole'). Convert them to numerical values using sklearn.preprocessing's label encoder 'LabelEncoder'.\n",
    "- 'company' has many unique company names. Retain the top 5 names and convert the rest to \"Others\". Use 'pandas.get_dummies' for one-hot encoding.\n",
    "- 'Price' values are strings with commas (e.g., '9,999'). Remove the commas and convert to float.\n",
    "\n",
    "## Data values are either quantitative (numerical) or qualitative (categorical)\n",
    "\n",
    "#### Quantitative (Numerical) Values\n",
    "\n",
    "Quantitative values can be shown along a number line and support mathematical operations (+, -, *, /). They can be either discrete or continuous.\n",
    "\n",
    "**Discrete Values**: Discrete numerical values (e.g., integers (neg, 0, and pos) and whole numbers (0 and pos #s)) exist along a number line within a range but exclude some values (e.g., fractions and decimals).  \n",
    "**Continuous Values**: Continuous numerical values exist along a number line within a range without exclusions (e.g., floats). For example, shoe sizes are discrete values, but foot sizes are continuous values.  \n",
    "**Regressors vs. Classifiers**: For continuous target values (e.g., prices), use regressors. For other targets, use classifiers.\n",
    "\n",
    "#### Qualitative (Categorical, Non-numerical) Values\n",
    "Qualitative values are not shown along a number line and do not support mathematical operations. They can be either nominal or ordinal.\n",
    "\n",
    "**Nominal Values**: Nominal values are names without any ranking (e.g., hair colors: black, brown, red, etc.).  \n",
    "**Ordinal Values**: Ordinal values are names with an implied ranking (e.g., job satisfaction levels).  \n",
    "**Implementing Nominal and Ordinal Values**: Convert both nominal and ordinal values to numerical values:\n",
    "- For nominal values, use pandas.get_dummies to create separate columns for each unique value. Pandas creates a separate column for each unique name value. For example, in a hair color column, a new column is created for each named value (e.g., black, brown, red) and assigned a value of 0 or 1, indicating the presence or absence of the color.\n",
    "- For ordinal values, use LabelEncoder to substitute ordered names with numerical values. LabelEncoder does not create new columns. Instead, it substitutes the value 0, 1, 2, 3, etc., for the ordered name values. \n",
    "\n",
    "## Implementation Notes\n",
    "\n",
    "#### Dataset source\n",
    "The dataset was downloaded from ???.\n",
    "\n",
    "## Submittal\n",
    "Your submission should include:  \n",
    "\n",
    "- 'jpynb' file containing the source code, output, and your interaction.\n",
    "- the corresponding 'HTML' file."
   ]
  },
  {
   "cell_type": "markdown",
   "id": "98273366",
   "metadata": {},
   "source": [
    "## Keith Yrisarri Stateson\n",
    "June 23, 2024. Python 3.11.0\n",
    "\n",
    "## Title: Predicting Mobile Phone Prices Using Various Regression Models - Supervised Learning\n",
    "\n",
    "## Summary\n",
    "This program is an AI application to predict the prices of Android cell phones based on their attributes. Supervised learning and regression techniques are used to train and evaluate multiple models on a provided dataset, predict phone prices for new, made-up attributes, and assess model accuracy using MAPE. The goal is to determine which model performs best in predicting phone prices and to understand the influence of various features on the price.\n",
    "\n",
    "## Table of Contents\n",
    "    \n",
    "Part 1: DataFrame Cleaning\n",
    "\n",
    "Part 2: Evaluate the Features and Target variable\n",
    "\n",
    "Part 3: Data Cleaning\n",
    "\n",
    "Part 4: Feature Engineering\n",
    "\n",
    "Part 5: Train-Test Split and Feature Scaling\n",
    "\n",
    "Part 6: Modeling\n",
    "- Linear Regression Model\n",
    "- Random Forest Regressor Model\n",
    "- KNN Model (K-Nearest Neighbors)\n",
    "- SVR Model (Support Vector Regressor)\n",
    "\n",
    "Part 7: Identify the best performing model to predict mobile phone prices\n",
    "\n",
    "Part 8: Predict Mobile Phone Prices with New Data"
   ]
  },
  {
   "cell_type": "markdown",
   "id": "9a6f8d6a",
   "metadata": {},
   "source": [
    "## Part 1: DataFrame Cleaning\n",
    "\n",
    "Evaluate the dataframe for missing values, empty rows and columns, and duplicate entries"
   ]
  },
  {
   "cell_type": "code",
   "execution_count": 2,
   "id": "bd62dc12",
   "metadata": {},
   "outputs": [
    {
     "name": "stdout",
     "output_type": "stream",
     "text": [
      "(1370, 17)\n"
     ]
    },
    {
     "data": {
      "text/html": [
       "<div>\n",
       "<style scoped>\n",
       "    .dataframe tbody tr th:only-of-type {\n",
       "        vertical-align: middle;\n",
       "    }\n",
       "\n",
       "    .dataframe tbody tr th {\n",
       "        vertical-align: top;\n",
       "    }\n",
       "\n",
       "    .dataframe thead th {\n",
       "        text-align: right;\n",
       "    }\n",
       "</style>\n",
       "<table border=\"1\" class=\"dataframe\">\n",
       "  <thead>\n",
       "    <tr style=\"text-align: right;\">\n",
       "      <th></th>\n",
       "      <th>Name</th>\n",
       "      <th>Rating</th>\n",
       "      <th>Spec_score</th>\n",
       "      <th>No_of_sim</th>\n",
       "      <th>Ram</th>\n",
       "      <th>Battery</th>\n",
       "      <th>Display</th>\n",
       "      <th>Camera</th>\n",
       "      <th>External_Memory</th>\n",
       "      <th>Android_version</th>\n",
       "      <th>Price</th>\n",
       "      <th>company</th>\n",
       "      <th>Inbuilt_memory</th>\n",
       "      <th>fast_charging</th>\n",
       "      <th>Screen_resolution</th>\n",
       "      <th>Processor</th>\n",
       "      <th>Processor_name</th>\n",
       "    </tr>\n",
       "  </thead>\n",
       "  <tbody>\n",
       "    <tr>\n",
       "      <th>0</th>\n",
       "      <td>Samsung Galaxy F14 5G</td>\n",
       "      <td>4.65</td>\n",
       "      <td>68</td>\n",
       "      <td>Dual Sim, 3G, 4G, 5G, VoLTE,</td>\n",
       "      <td>4 GB RAM</td>\n",
       "      <td>6000 mAh Battery</td>\n",
       "      <td>6.6 inches</td>\n",
       "      <td>50 MP + 2 MP Dual Rear &amp;amp; 13 MP Front Camera</td>\n",
       "      <td>Memory Card Supported, upto 1 TB</td>\n",
       "      <td>13</td>\n",
       "      <td>9,999</td>\n",
       "      <td>Samsung</td>\n",
       "      <td>128 GB inbuilt</td>\n",
       "      <td>25W Fast Charging</td>\n",
       "      <td>2408 x 1080 px Display with Water Drop Notch</td>\n",
       "      <td>Octa Core Processor</td>\n",
       "      <td>Exynos 1330</td>\n",
       "    </tr>\n",
       "    <tr>\n",
       "      <th>1</th>\n",
       "      <td>Samsung Galaxy A11</td>\n",
       "      <td>4.20</td>\n",
       "      <td>63</td>\n",
       "      <td>Dual Sim, 3G, 4G, VoLTE,</td>\n",
       "      <td>2 GB RAM</td>\n",
       "      <td>4000 mAh Battery</td>\n",
       "      <td>6.4 inches</td>\n",
       "      <td>13 MP + 5 MP + 2 MP Triple Rear &amp;amp; 8 MP Fro...</td>\n",
       "      <td>Memory Card Supported, upto 512 GB</td>\n",
       "      <td>10</td>\n",
       "      <td>9,990</td>\n",
       "      <td>Samsung</td>\n",
       "      <td>32 GB inbuilt</td>\n",
       "      <td>15W Fast Charging</td>\n",
       "      <td>720 x 1560 px Display with Punch Hole</td>\n",
       "      <td>1.8 GHz Processor</td>\n",
       "      <td>Octa Core</td>\n",
       "    </tr>\n",
       "    <tr>\n",
       "      <th>2</th>\n",
       "      <td>Samsung Galaxy A13</td>\n",
       "      <td>4.30</td>\n",
       "      <td>75</td>\n",
       "      <td>Dual Sim, 3G, 4G, VoLTE,</td>\n",
       "      <td>4 GB RAM</td>\n",
       "      <td>5000 mAh Battery</td>\n",
       "      <td>6.6 inches</td>\n",
       "      <td>50 MP Quad Rear &amp;amp; 8 MP Front Camera</td>\n",
       "      <td>Memory Card Supported, upto 1 TB</td>\n",
       "      <td>12</td>\n",
       "      <td>11,999</td>\n",
       "      <td>Samsung</td>\n",
       "      <td>64 GB inbuilt</td>\n",
       "      <td>25W Fast Charging</td>\n",
       "      <td>1080 x 2408 px Display with Water Drop Notch</td>\n",
       "      <td>2 GHz Processor</td>\n",
       "      <td>Octa Core</td>\n",
       "    </tr>\n",
       "  </tbody>\n",
       "</table>\n",
       "</div>"
      ],
      "text/plain": [
       "                    Name  Rating  Spec_score                      No_of_sim  \\\n",
       "0  Samsung Galaxy F14 5G    4.65          68  Dual Sim, 3G, 4G, 5G, VoLTE,    \n",
       "1     Samsung Galaxy A11    4.20          63      Dual Sim, 3G, 4G, VoLTE,    \n",
       "2     Samsung Galaxy A13    4.30          75      Dual Sim, 3G, 4G, VoLTE,    \n",
       "\n",
       "        Ram            Battery     Display  \\\n",
       "0  4 GB RAM  6000 mAh Battery   6.6 inches   \n",
       "1  2 GB RAM  4000 mAh Battery   6.4 inches   \n",
       "2  4 GB RAM  5000 mAh Battery   6.6 inches   \n",
       "\n",
       "                                              Camera  \\\n",
       "0    50 MP + 2 MP Dual Rear &amp; 13 MP Front Camera   \n",
       "1  13 MP + 5 MP + 2 MP Triple Rear &amp; 8 MP Fro...   \n",
       "2            50 MP Quad Rear &amp; 8 MP Front Camera   \n",
       "\n",
       "                      External_Memory Android_version   Price  company  \\\n",
       "0    Memory Card Supported, upto 1 TB              13   9,999  Samsung   \n",
       "1  Memory Card Supported, upto 512 GB              10   9,990  Samsung   \n",
       "2    Memory Card Supported, upto 1 TB              12  11,999  Samsung   \n",
       "\n",
       "    Inbuilt_memory       fast_charging  \\\n",
       "0   128 GB inbuilt   25W Fast Charging   \n",
       "1    32 GB inbuilt   15W Fast Charging   \n",
       "2    64 GB inbuilt   25W Fast Charging   \n",
       "\n",
       "                               Screen_resolution             Processor  \\\n",
       "0   2408 x 1080 px Display with Water Drop Notch   Octa Core Processor   \n",
       "1          720 x 1560 px Display with Punch Hole     1.8 GHz Processor   \n",
       "2   1080 x 2408 px Display with Water Drop Notch       2 GHz Processor   \n",
       "\n",
       "  Processor_name  \n",
       "0    Exynos 1330  \n",
       "1      Octa Core  \n",
       "2      Octa Core  "
      ]
     },
     "execution_count": 2,
     "metadata": {},
     "output_type": "execute_result"
    }
   ],
   "source": [
    "import seaborn as sns\n",
    "import pandas as pd\n",
    "import warnings\n",
    "import numpy as np\n",
    "import re\n",
    "\n",
    "warnings.filterwarnings('ignore')\n",
    "#warnings.filterwarnings('ignore', category=UserWarning)\n",
    "\n",
    "\n",
    "df=pd.read_csv('k_mobilephonepriceprediction.csv',index_col=0)\n",
    "\n",
    "print(df.shape)\n",
    "df.head(3)"
   ]
  },
  {
   "cell_type": "code",
   "execution_count": 3,
   "id": "e6fd4496",
   "metadata": {},
   "outputs": [
    {
     "data": {
      "text/plain": [
       "Name                   0\n",
       "Rating                 0\n",
       "Spec_score             0\n",
       "No_of_sim              0\n",
       "Ram                    0\n",
       "Battery                0\n",
       "Display                0\n",
       "Camera                 0\n",
       "External_Memory        0\n",
       "Android_version      443\n",
       "Price                  0\n",
       "company                0\n",
       "Inbuilt_memory        19\n",
       "fast_charging         89\n",
       "Screen_resolution      2\n",
       "Processor             28\n",
       "Processor_name         0\n",
       "dtype: int64"
      ]
     },
     "execution_count": 3,
     "metadata": {},
     "output_type": "execute_result"
    }
   ],
   "source": [
    "# sum missing values by column\n",
    "df.isna().sum()"
   ]
  },
  {
   "cell_type": "code",
   "execution_count": 4,
   "id": "61084cdf",
   "metadata": {},
   "outputs": [
    {
     "data": {
      "text/plain": [
       "np.int64(581)"
      ]
     },
     "execution_count": 4,
     "metadata": {},
     "output_type": "execute_result"
    }
   ],
   "source": [
    "# Sum of missing values across all rows and columns in the entire dataframe. It does not indicate\n",
    "# the number of empty rows directly, but rather the total number of missing entries in the dataframe.\n",
    "\n",
    "df.isna().sum().sum()"
   ]
  },
  {
   "cell_type": "code",
   "execution_count": 5,
   "id": "4713158d",
   "metadata": {},
   "outputs": [
    {
     "name": "stdout",
     "output_type": "stream",
     "text": [
      "Empty Rows:  Empty DataFrame\n",
      "Columns: [Name, Rating, Spec_score, No_of_sim, Ram, Battery, Display, Camera, External_Memory, Android_version, Price, company, Inbuilt_memory, fast_charging, Screen_resolution, Processor, Processor_name]\n",
      "Index: []\n"
     ]
    }
   ],
   "source": [
    "# Find empty rows (rows where all elements are NaN)\n",
    "\n",
    "empty_rows = df[df.isna().all(axis=1)]\n",
    "print('Empty Rows: ', empty_rows)"
   ]
  },
  {
   "cell_type": "code",
   "execution_count": 6,
   "id": "e3e3ee74",
   "metadata": {},
   "outputs": [
    {
     "name": "stdout",
     "output_type": "stream",
     "text": [
      "Empty Columns: []\n"
     ]
    }
   ],
   "source": [
    "# Find empty columns (columns where all elements are NaN)\n",
    "\n",
    "empty_columns = df.columns[df.isna().all()].tolist()\n",
    "print(\"Empty Columns:\", empty_columns)"
   ]
  },
  {
   "cell_type": "code",
   "execution_count": 7,
   "id": "491d692e",
   "metadata": {},
   "outputs": [
    {
     "name": "stdout",
     "output_type": "stream",
     "text": [
      "Duplicate Rows: Empty DataFrame\n",
      "Columns: [Name, Rating, Spec_score, No_of_sim, Ram, Battery, Display, Camera, External_Memory, Android_version, Price, company, Inbuilt_memory, fast_charging, Screen_resolution, Processor, Processor_name]\n",
      "Index: []\n"
     ]
    }
   ],
   "source": [
    "# Find duplicate rows\n",
    "\n",
    "duplicate_rows = df[df.duplicated()]\n",
    "print('Duplicate Rows:', duplicate_rows)"
   ]
  },
  {
   "cell_type": "code",
   "execution_count": 8,
   "id": "94707498",
   "metadata": {},
   "outputs": [
    {
     "name": "stdout",
     "output_type": "stream",
     "text": [
      "(817, 17)\n"
     ]
    },
    {
     "data": {
      "text/plain": [
       "np.int64(0)"
      ]
     },
     "execution_count": 8,
     "metadata": {},
     "output_type": "execute_result"
    }
   ],
   "source": [
    "# Drop rows with missing values\n",
    "df = df.dropna()\n",
    "print(df.shape)\n",
    "\n",
    "# Verifiy that there are no rows with missing values\n",
    "df.isna().sum().sum()"
   ]
  },
  {
   "cell_type": "markdown",
   "id": "49b31042",
   "metadata": {},
   "source": [
    "## Part 2: Evaluate the Features and Target variable"
   ]
  },
  {
   "cell_type": "code",
   "execution_count": 9,
   "id": "c06a6a52",
   "metadata": {},
   "outputs": [
    {
     "data": {
      "text/plain": [
       "Price\n",
       "19,990      22\n",
       "14,999      22\n",
       "13,999      21\n",
       "11,999      20\n",
       "9,999       18\n",
       "            ..\n",
       "14,950       1\n",
       "15,590       1\n",
       "17,945       1\n",
       "19,490       1\n",
       "1,19,990     1\n",
       "Name: count, Length: 343, dtype: int64"
      ]
     },
     "execution_count": 9,
     "metadata": {},
     "output_type": "execute_result"
    }
   ],
   "source": [
    "# Evaluate the distribution of the target variable\n",
    "\n",
    "df.Price.value_counts()"
   ]
  },
  {
   "cell_type": "code",
   "execution_count": 10,
   "id": "a0fdd177",
   "metadata": {},
   "outputs": [
    {
     "data": {
      "text/plain": [
       "Rating\n",
       "4.40    67\n",
       "4.30    59\n",
       "4.55    59\n",
       "4.60    53\n",
       "4.10    52\n",
       "4.00    52\n",
       "4.65    51\n",
       "4.50    51\n",
       "4.35    50\n",
       "4.15    48\n",
       "4.20    47\n",
       "4.25    45\n",
       "4.45    44\n",
       "4.05    44\n",
       "4.70    44\n",
       "4.75    42\n",
       "3.95     6\n",
       "3.90     3\n",
       "Name: count, dtype: int64"
      ]
     },
     "execution_count": 10,
     "metadata": {},
     "output_type": "execute_result"
    }
   ],
   "source": [
    "# Evaluate the distribution of the feature 'Rating'\n",
    "df.Rating.value_counts()"
   ]
  },
  {
   "cell_type": "code",
   "execution_count": 11,
   "id": "b892b053",
   "metadata": {},
   "outputs": [
    {
     "data": {
      "text/plain": [
       "Spec_score\n",
       "75    81\n",
       "84    53\n",
       "86    50\n",
       "80    42\n",
       "85    37\n",
       "82    37\n",
       "83    37\n",
       "78    36\n",
       "77    34\n",
       "79    34\n",
       "81    31\n",
       "74    29\n",
       "76    28\n",
       "89    28\n",
       "71    26\n",
       "88    23\n",
       "73    21\n",
       "72    21\n",
       "87    19\n",
       "70    16\n",
       "69    13\n",
       "90    12\n",
       "67    12\n",
       "68    12\n",
       "91    11\n",
       "93    11\n",
       "92    10\n",
       "66     9\n",
       "64     8\n",
       "94     8\n",
       "63     6\n",
       "65     5\n",
       "95     4\n",
       "96     3\n",
       "54     2\n",
       "61     2\n",
       "98     1\n",
       "58     1\n",
       "62     1\n",
       "60     1\n",
       "53     1\n",
       "55     1\n",
       "Name: count, dtype: int64"
      ]
     },
     "execution_count": 11,
     "metadata": {},
     "output_type": "execute_result"
    }
   ],
   "source": [
    "# Evaluate the distribution of the feature 'Spec_score'\n",
    "\n",
    "df.Spec_score.value_counts()"
   ]
  },
  {
   "cell_type": "code",
   "execution_count": 12,
   "id": "3f2c7161",
   "metadata": {},
   "outputs": [
    {
     "data": {
      "text/plain": [
       "Ram\n",
       "8 GB RAM     306\n",
       "4 GB RAM     210\n",
       "6 GB RAM     177\n",
       "12 GB RAM     84\n",
       "16 GB RAM     16\n",
       "3 GB RAM      15\n",
       "2 GB RAM       6\n",
       "18 GB RAM      2\n",
       "24 GB RAM      1\n",
       "Name: count, dtype: int64"
      ]
     },
     "execution_count": 12,
     "metadata": {},
     "output_type": "execute_result"
    }
   ],
   "source": [
    "# Evaluate the distribution of the feature 'Ram'\n",
    "\n",
    "df.Ram.value_counts()"
   ]
  },
  {
   "cell_type": "code",
   "execution_count": 13,
   "id": "0f361b8e",
   "metadata": {},
   "outputs": [
    {
     "data": {
      "text/plain": [
       "Display\n",
       "6.67 inches    91\n",
       "6.5 inches     88\n",
       "6.6 inches     82\n",
       "6.7 inches     64\n",
       "6.78 inches    51\n",
       "               ..\n",
       "7.45 inches     1\n",
       "7.4 inches      1\n",
       "7.1 inches      1\n",
       "7.63 inches     1\n",
       "10 inches       1\n",
       "Name: count, Length: 65, dtype: int64"
      ]
     },
     "execution_count": 13,
     "metadata": {},
     "output_type": "execute_result"
    }
   ],
   "source": [
    "# Evaluate the distribution of the feature 'Display'\n",
    "\n",
    "df.Display.value_counts()"
   ]
  },
  {
   "cell_type": "code",
   "execution_count": 14,
   "id": "65655d85",
   "metadata": {},
   "outputs": [
    {
     "data": {
      "text/plain": [
       "Screen_resolution\n",
       "1080 x 2400 px                                  240\n",
       "720 x 1600 px                                    57\n",
       "720 x 1600 px Display with Water Drop Notch      54\n",
       "1080 x 2412 px                                   45\n",
       "1080 x 2408 px                                   42\n",
       "                                               ... \n",
       "1440 x 3200 px Display with Punch Hole            1\n",
       "720 x 1544 px Display with Water Drop Notch       1\n",
       "1080 x 2408 px Display with Punch Hole            1\n",
       "Full HD+ Display with Punch Hole                  1\n",
       "1080 x 2388 px Display with Water Drop Notch      1\n",
       "Name: count, Length: 89, dtype: int64"
      ]
     },
     "execution_count": 14,
     "metadata": {},
     "output_type": "execute_result"
    }
   ],
   "source": [
    "# Evaluate the distribution of the feature 'Screen_resolution'\n",
    "\n",
    "df.Screen_resolution.value_counts()"
   ]
  },
  {
   "cell_type": "code",
   "execution_count": 15,
   "id": "4bc05a73",
   "metadata": {},
   "outputs": [
    {
     "data": {
      "text/plain": [
       "company\n",
       "Samsung     149\n",
       "Realme      126\n",
       "Vivo        124\n",
       "Motorola     72\n",
       "Xiaomi       69\n",
       "Poco         54\n",
       "OnePlus      37\n",
       "iQOO         23\n",
       "Honor        21\n",
       "TCL          20\n",
       "OPPO         20\n",
       "POCO         18\n",
       "Huawei       18\n",
       "Lava         13\n",
       "Oppo         11\n",
       "Google        9\n",
       "itel          9\n",
       "Asus          6\n",
       "Lenovo        5\n",
       "Tecno         4\n",
       "LG            3\n",
       "Itel          2\n",
       "Nothing       1\n",
       "Gionee        1\n",
       "IQOO          1\n",
       "Coolpad       1\n",
       "Name: count, dtype: int64"
      ]
     },
     "execution_count": 15,
     "metadata": {},
     "output_type": "execute_result"
    }
   ],
   "source": [
    "# Evaluate the distribution of the feature 'company'\n",
    "\n",
    "df.company.value_counts()"
   ]
  },
  {
   "cell_type": "code",
   "execution_count": 16,
   "id": "17aea4cc",
   "metadata": {},
   "outputs": [],
   "source": [
    "df_tartget = df.Price"
   ]
  },
  {
   "cell_type": "markdown",
   "id": "ea822821",
   "metadata": {},
   "source": [
    "## Part 3: Data Cleaning - Features and Target variable\n",
    "\n",
    "*Conversion of Panda Series into a NumPy Array.*  \n",
    "Many machine learning libraries, such as scikit-learn, expect input data to be in the form of NumPy arrays rather than pandas Series.  \n",
    "Converting the target to a NumPy array ensures compatibility with these libraries."
   ]
  },
  {
   "cell_type": "code",
   "execution_count": 17,
   "id": "22dc64b7",
   "metadata": {},
   "outputs": [],
   "source": [
    "# Create definitions to clean the data\n",
    "\n",
    "def cleanup_target (item):\n",
    "    \"\"\"This function cleans up the target column.\"\"\"\n",
    "    item = re.sub (r'[,]', '',item)  # Replace comma with an empty string\n",
    "    item = re.sub (r'\\s+', '',item)  # Replace whitespace characters: spaces, tabs, newlines, and carriage returns with an empty string\n",
    "    item = item.strip()\n",
    "    return float (item)\n",
    "\n",
    "def cleanup_ram (item):\n",
    "    \"\"\"This function cleans up the Ram column.\"\"\"\n",
    "    item_extract_digits = re.findall(r'\\d+', item)  # Extract the digits from the string\n",
    "    cleaned_item = item_extract_digits[0]  # Extract the first element from the list\n",
    "    return float (cleaned_item)\n",
    "\n",
    "def cleanup_display (item):\n",
    "    \"\"\"This function cleans up the Display column.\"\"\"\n",
    "    item = re.sub (r'inches', '',item)  # Replace inch with an empty string\n",
    "    item = item.strip()\n",
    "    return float (item)\n",
    "\n",
    "def cleanup_screen_resolution (item):\n",
    "    \"\"\"This function cleans up the Screen_resolution column to the format, e.g., '1920 x 1080'.\"\"\"  \n",
    "    if 'px' in item:\n",
    "        item_index = item.find('px')  # if the data wasn't friendly, could use: re.findall(r'\\d+', item)\n",
    "        cleaned_item = item[:item_index - 1]  # Adjusted to remove the space before 'px'\n",
    "        cleaned_item = cleaned_item.strip()\n",
    "        return cleaned_item\n",
    "    else:\n",
    "        cleaned_item = \"1920 x 1080\"  # to account for the value 'Full HD+...'\n",
    "        return cleaned_item\n",
    "\n",
    "def company (item):\n",
    "    \"\"\"This function cleans up the company column.\"\"\"\n",
    "    if (item == 'Samsung') or (item == 'Realme') or (item == 'Vivo') or (item == 'Motorola') or (item == 'Xiaomi'):\n",
    "        return item\n",
    "    else:\n",
    "        return 'Other'\n",
    "    # company = company.strip()\n",
    "    # if company in ['Samsung', 'Realme', 'Vivo', 'Motorola', 'Xiaomi']:\n",
    "    #     return company\n",
    "    # else:\n",
    "    #     return 'Other'"
   ]
  },
  {
   "cell_type": "code",
   "execution_count": 18,
   "id": "bd99106d",
   "metadata": {},
   "outputs": [
    {
     "name": "stdout",
     "output_type": "stream",
     "text": [
      "0     9,999\n",
      "1     9,990\n",
      "2    11,999\n",
      "Name: Price, dtype: object\n",
      "<class 'pandas.core.series.Series'>\n",
      "\n",
      "\n",
      "[ 9999.  9990. 11999.]\n",
      "<class 'numpy.ndarray'>\n",
      "<class 'numpy.float64'>\n"
     ]
    }
   ],
   "source": [
    "# Assign and clean the target variable\n",
    "\n",
    "target = df.Price\n",
    "print(target.head(3))\n",
    "print(type(target))\n",
    "\n",
    "print('\\n')\n",
    "target = target.apply(cleanup_target)\n",
    "target = np.array(target)\n",
    "print(target[0:3])\n",
    "print(type(target))\n",
    "print(type(target[0]))"
   ]
  },
  {
   "cell_type": "code",
   "execution_count": 19,
   "id": "ded20a3d",
   "metadata": {},
   "outputs": [
    {
     "data": {
      "text/html": [
       "<div>\n",
       "<style scoped>\n",
       "    .dataframe tbody tr th:only-of-type {\n",
       "        vertical-align: middle;\n",
       "    }\n",
       "\n",
       "    .dataframe tbody tr th {\n",
       "        vertical-align: top;\n",
       "    }\n",
       "\n",
       "    .dataframe thead th {\n",
       "        text-align: right;\n",
       "    }\n",
       "</style>\n",
       "<table border=\"1\" class=\"dataframe\">\n",
       "  <thead>\n",
       "    <tr style=\"text-align: right;\">\n",
       "      <th></th>\n",
       "      <th>Rating</th>\n",
       "      <th>Spec_score</th>\n",
       "      <th>Ram</th>\n",
       "      <th>Display</th>\n",
       "      <th>Screen_resolution</th>\n",
       "      <th>company</th>\n",
       "    </tr>\n",
       "  </thead>\n",
       "  <tbody>\n",
       "    <tr>\n",
       "      <th>0</th>\n",
       "      <td>4.65</td>\n",
       "      <td>68</td>\n",
       "      <td>4 GB RAM</td>\n",
       "      <td>6.6 inches</td>\n",
       "      <td>2408 x 1080 px Display with Water Drop Notch</td>\n",
       "      <td>Samsung</td>\n",
       "    </tr>\n",
       "    <tr>\n",
       "      <th>1</th>\n",
       "      <td>4.20</td>\n",
       "      <td>63</td>\n",
       "      <td>2 GB RAM</td>\n",
       "      <td>6.4 inches</td>\n",
       "      <td>720 x 1560 px Display with Punch Hole</td>\n",
       "      <td>Samsung</td>\n",
       "    </tr>\n",
       "    <tr>\n",
       "      <th>2</th>\n",
       "      <td>4.30</td>\n",
       "      <td>75</td>\n",
       "      <td>4 GB RAM</td>\n",
       "      <td>6.6 inches</td>\n",
       "      <td>1080 x 2408 px Display with Water Drop Notch</td>\n",
       "      <td>Samsung</td>\n",
       "    </tr>\n",
       "    <tr>\n",
       "      <th>4</th>\n",
       "      <td>4.10</td>\n",
       "      <td>69</td>\n",
       "      <td>4 GB RAM</td>\n",
       "      <td>6.5 inches</td>\n",
       "      <td>720 x 1600 px Display with Water Drop Notch</td>\n",
       "      <td>Samsung</td>\n",
       "    </tr>\n",
       "    <tr>\n",
       "      <th>5</th>\n",
       "      <td>4.40</td>\n",
       "      <td>75</td>\n",
       "      <td>6 GB RAM</td>\n",
       "      <td>6.5 inches</td>\n",
       "      <td>720 x 1600 px</td>\n",
       "      <td>Samsung</td>\n",
       "    </tr>\n",
       "    <tr>\n",
       "      <th>...</th>\n",
       "      <td>...</td>\n",
       "      <td>...</td>\n",
       "      <td>...</td>\n",
       "      <td>...</td>\n",
       "      <td>...</td>\n",
       "      <td>...</td>\n",
       "    </tr>\n",
       "    <tr>\n",
       "      <th>1365</th>\n",
       "      <td>4.05</td>\n",
       "      <td>75</td>\n",
       "      <td>4 GB RAM</td>\n",
       "      <td>6.6 inches</td>\n",
       "      <td>720 x 1612 px</td>\n",
       "      <td>TCL</td>\n",
       "    </tr>\n",
       "    <tr>\n",
       "      <th>1366</th>\n",
       "      <td>4.10</td>\n",
       "      <td>80</td>\n",
       "      <td>8 GB RAM</td>\n",
       "      <td>6.8 inches</td>\n",
       "      <td>1200 x 2400 px</td>\n",
       "      <td>TCL</td>\n",
       "    </tr>\n",
       "    <tr>\n",
       "      <th>1367</th>\n",
       "      <td>4.00</td>\n",
       "      <td>80</td>\n",
       "      <td>6 GB RAM</td>\n",
       "      <td>6.6 inches</td>\n",
       "      <td>720 x 1612 px</td>\n",
       "      <td>TCL</td>\n",
       "    </tr>\n",
       "    <tr>\n",
       "      <th>1368</th>\n",
       "      <td>4.50</td>\n",
       "      <td>79</td>\n",
       "      <td>6 GB RAM</td>\n",
       "      <td>6.6 inches</td>\n",
       "      <td>720 x 1612 px</td>\n",
       "      <td>TCL</td>\n",
       "    </tr>\n",
       "    <tr>\n",
       "      <th>1369</th>\n",
       "      <td>4.65</td>\n",
       "      <td>93</td>\n",
       "      <td>12 GB RAM</td>\n",
       "      <td>10 inches</td>\n",
       "      <td>1916 x 2160 px</td>\n",
       "      <td>TCL</td>\n",
       "    </tr>\n",
       "  </tbody>\n",
       "</table>\n",
       "<p>817 rows × 6 columns</p>\n",
       "</div>"
      ],
      "text/plain": [
       "      Rating  Spec_score        Ram     Display  \\\n",
       "0       4.65          68   4 GB RAM  6.6 inches   \n",
       "1       4.20          63   2 GB RAM  6.4 inches   \n",
       "2       4.30          75   4 GB RAM  6.6 inches   \n",
       "4       4.10          69   4 GB RAM  6.5 inches   \n",
       "5       4.40          75   6 GB RAM  6.5 inches   \n",
       "...      ...         ...        ...         ...   \n",
       "1365    4.05          75   4 GB RAM  6.6 inches   \n",
       "1366    4.10          80   8 GB RAM  6.8 inches   \n",
       "1367    4.00          80   6 GB RAM  6.6 inches   \n",
       "1368    4.50          79   6 GB RAM  6.6 inches   \n",
       "1369    4.65          93  12 GB RAM   10 inches   \n",
       "\n",
       "                                  Screen_resolution  company  \n",
       "0      2408 x 1080 px Display with Water Drop Notch  Samsung  \n",
       "1             720 x 1560 px Display with Punch Hole  Samsung  \n",
       "2      1080 x 2408 px Display with Water Drop Notch  Samsung  \n",
       "4       720 x 1600 px Display with Water Drop Notch  Samsung  \n",
       "5                                     720 x 1600 px  Samsung  \n",
       "...                                             ...      ...  \n",
       "1365                                  720 x 1612 px      TCL  \n",
       "1366                                 1200 x 2400 px      TCL  \n",
       "1367                                  720 x 1612 px      TCL  \n",
       "1368                                  720 x 1612 px      TCL  \n",
       "1369                                 1916 x 2160 px      TCL  \n",
       "\n",
       "[817 rows x 6 columns]"
      ]
     },
     "execution_count": 19,
     "metadata": {},
     "output_type": "execute_result"
    }
   ],
   "source": [
    "# Assign the features\n",
    "\n",
    "df_features = df.filter(['Rating', 'Spec_score', 'Ram', 'Display', 'Screen_resolution', 'company'], axis=1)\n",
    "df_features"
   ]
  },
  {
   "cell_type": "code",
   "execution_count": 20,
   "id": "80b21019",
   "metadata": {},
   "outputs": [
    {
     "name": "stdout",
     "output_type": "stream",
     "text": [
      "0    4 GB RAM\n",
      "1    2 GB RAM\n",
      "2    4 GB RAM\n",
      "Name: Ram, dtype: object\n",
      "\n",
      "\n",
      "0    4.0\n",
      "1    2.0\n",
      "2    4.0\n",
      "Name: Ram, dtype: float64\n",
      "<class 'pandas.core.series.Series'>\n",
      "<class 'numpy.float64'>\n"
     ]
    }
   ],
   "source": [
    "# Clean the feature 'Ram' and convert it to a numpy array\n",
    "\n",
    "print(df_features.Ram[0:3])\n",
    "\n",
    "df_features.Ram = df_features.Ram.apply(cleanup_ram)\n",
    "df_features.Ram = np.array(df_features.Ram)\n",
    "\n",
    "print('\\n')\n",
    "print(df_features.Ram[0:3])\n",
    "print(type(df_features.Ram))\n",
    "print(type(df_features.Ram[0]))"
   ]
  },
  {
   "cell_type": "code",
   "execution_count": 21,
   "id": "d5ddf6fa",
   "metadata": {},
   "outputs": [
    {
     "name": "stdout",
     "output_type": "stream",
     "text": [
      "<class 'pandas.core.series.Series'>\n",
      "<class 'numpy.float64'>\n"
     ]
    }
   ],
   "source": [
    "# Clean the feature 'Display' and convert it to a numpy array\n",
    "\n",
    "df_features.Display = df_features.Display.apply(cleanup_display)\n",
    "df_features.Display = np.array(df_features.Display)\n",
    "\n",
    "print(type(df_features.Display))\n",
    "print(type(df_features.Display[0]))"
   ]
  },
  {
   "cell_type": "code",
   "execution_count": 22,
   "id": "c3ce9470",
   "metadata": {},
   "outputs": [
    {
     "name": "stdout",
     "output_type": "stream",
     "text": [
      "<class 'pandas.core.series.Series'>\n",
      "<class 'str'>\n"
     ]
    }
   ],
   "source": [
    "# Clean the feature 'Screen_resolution' and convert it to a numpy array\n",
    "\n",
    "df_features.Screen_resolution = df_features.Screen_resolution.apply(cleanup_screen_resolution)\n",
    "df_features.Screen_resolution = np.array(df_features.Screen_resolution)\n",
    "\n",
    "print(type(df_features.Screen_resolution))\n",
    "print(type(df_features.Screen_resolution[0]))"
   ]
  },
  {
   "cell_type": "code",
   "execution_count": 23,
   "id": "a2de8cdf",
   "metadata": {},
   "outputs": [
    {
     "name": "stdout",
     "output_type": "stream",
     "text": [
      "<class 'pandas.core.series.Series'>\n",
      "<class 'str'>\n"
     ]
    }
   ],
   "source": [
    "# Clean the feature 'company' and convert it to a numpy array\n",
    "\n",
    "df_features.company = df_features.company.apply(company)\n",
    "df_features.company = np.array(df_features.company)\n",
    "\n",
    "print(type(df_features.company))\n",
    "print(type(df_features.company[0]))"
   ]
  },
  {
   "cell_type": "markdown",
   "id": "e0ba3ed7",
   "metadata": {},
   "source": [
    "## Part 4: Feature Engineering\n",
    "\n",
    "Transform nominal categorical data to numerical using pandas.get_dummies, and drop the catgorical column and add the newly created numerical version to the features dataframe.\n",
    "\n",
    "Transforms ordinal categorical data to numerical using the LabelEncoder."
   ]
  },
  {
   "cell_type": "code",
   "execution_count": 24,
   "id": "632fb44e",
   "metadata": {},
   "outputs": [
    {
     "name": "stdout",
     "output_type": "stream",
     "text": [
      "   Rating  Spec_score  Ram  Display Screen_resolution  company\n",
      "0    4.65          68  4.0      6.6       2408 x 1080  Samsung\n",
      "1    4.20          63  2.0      6.4        720 x 1560  Samsung\n",
      "2    4.30          75  4.0      6.6       1080 x 2408  Samsung\n"
     ]
    }
   ],
   "source": [
    "print(df_features.head(3))"
   ]
  },
  {
   "cell_type": "code",
   "execution_count": 25,
   "id": "c07f1a62",
   "metadata": {},
   "outputs": [
    {
     "name": "stdout",
     "output_type": "stream",
     "text": [
      "0    2408 x 1080\n",
      "1     720 x 1560\n",
      "2    1080 x 2408\n",
      "Name: Screen_resolution, dtype: object\n",
      "\n",
      "\n",
      "0    49\n",
      "1    55\n",
      "2     9\n",
      "Name: Screen_resolution, dtype: int64\n",
      "\n",
      "\n",
      "Screen_resolution\n",
      "7     284\n",
      "56    113\n",
      "9      58\n",
      "4      55\n",
      "10     45\n",
      "     ... \n",
      "37      1\n",
      "41      1\n",
      "2       1\n",
      "36      1\n",
      "51      1\n",
      "Name: count, Length: 62, dtype: int64\n",
      "\n",
      "\n",
      "{'1080 x 1920': 0, '1080 x 2160': 1, '1080 x 2256': 2, '1080 x 2280': 3, '1080 x 2340': 4, '1080 x 2376': 5, '1080 x 2388': 6, '1080 x 2400': 7, '1080 x 2404': 8, '1080 x 2408': 9, '1080 x 2412': 10, '1080 x 2448': 11, '1080 x 2460': 12, '1080 x 2480': 13, '1080 x 2520': 14, '1176 x 2400': 15, '1200 x 2400': 16, '1200 x 2640': 17, '1212 x 2616': 18, '1220 x 2712': 19, '1240 x 2772': 20, '1260 x 2712': 21, '1260 x 2720': 22, '1260 x 2800': 23, '1264 x 2780': 24, '1344 x 2772': 25, '1440 x 2780': 26, '1440 x 2960': 27, '1440 x 3040': 28, '1440 x 3088': 29, '1440 x 3120': 30, '1440 x 3168': 31, '1440 x 3200': 32, '1440 x 3216': 33, '1600 x 2560': 34, '1600 x 720': 35, '1612 x 720': 36, '1792 x 1920': 37, '1800 x 3440': 38, '1812 x 2176': 39, '1840 x 2208': 40, '1864 x 3820': 41, '1916 x 2160': 42, '1920 x 1080': 43, '1984 x 2272': 44, '2000 x 2296': 45, '2156 x 2344': 46, '2200 x 2480': 47, '2400 x 1080': 48, '2408 x 1080': 49, '2460 x 1080': 50, '540 x 1092': 51, '720 x 1440': 52, '720 x 1520': 53, '720 x 1544': 54, '720 x 1560': 55, '720 x 1600': 56, '720 x 1604': 57, '720 x 1612': 58, '720 x 1640': 59, '720 x 1650': 60, '720 x 1680': 61}\n"
     ]
    }
   ],
   "source": [
    "# Encode the 'Screen_resolution' feature from ordinal categorical to numerical using LabelEncoder\n",
    "\n",
    "from sklearn.preprocessing import LabelEncoder\n",
    "le = LabelEncoder()\n",
    "\n",
    "print(df_features.Screen_resolution.head(3))\n",
    "print('\\n')\n",
    "\n",
    "df_features.Screen_resolution = le.fit_transform(df_features.Screen_resolution)\n",
    "\n",
    "print(df_features.Screen_resolution.head(3))\n",
    "print('\\n')\n",
    "print(df_features.Screen_resolution.value_counts())\n",
    "print('\\n')\n",
    "\n",
    "# Visual mapping of Screen_resolution values to integers \n",
    "mapping = dict(zip(le.classes_, range(len(le.classes_))))\n",
    "print(mapping)"
   ]
  },
  {
   "cell_type": "code",
   "execution_count": 26,
   "id": "6276dad5",
   "metadata": {},
   "outputs": [
    {
     "name": "stdout",
     "output_type": "stream",
     "text": [
      "0    Samsung\n",
      "1    Samsung\n",
      "2    Samsung\n",
      "Name: company, dtype: object\n",
      "\n",
      "\n"
     ]
    },
    {
     "data": {
      "text/html": [
       "<div>\n",
       "<style scoped>\n",
       "    .dataframe tbody tr th:only-of-type {\n",
       "        vertical-align: middle;\n",
       "    }\n",
       "\n",
       "    .dataframe tbody tr th {\n",
       "        vertical-align: top;\n",
       "    }\n",
       "\n",
       "    .dataframe thead th {\n",
       "        text-align: right;\n",
       "    }\n",
       "</style>\n",
       "<table border=\"1\" class=\"dataframe\">\n",
       "  <thead>\n",
       "    <tr style=\"text-align: right;\">\n",
       "      <th></th>\n",
       "      <th>Other</th>\n",
       "      <th>Realme</th>\n",
       "      <th>Samsung</th>\n",
       "      <th>Vivo</th>\n",
       "      <th>Xiaomi</th>\n",
       "    </tr>\n",
       "  </thead>\n",
       "  <tbody>\n",
       "    <tr>\n",
       "      <th>0</th>\n",
       "      <td>0</td>\n",
       "      <td>0</td>\n",
       "      <td>1</td>\n",
       "      <td>0</td>\n",
       "      <td>0</td>\n",
       "    </tr>\n",
       "    <tr>\n",
       "      <th>1</th>\n",
       "      <td>0</td>\n",
       "      <td>0</td>\n",
       "      <td>1</td>\n",
       "      <td>0</td>\n",
       "      <td>0</td>\n",
       "    </tr>\n",
       "    <tr>\n",
       "      <th>2</th>\n",
       "      <td>0</td>\n",
       "      <td>0</td>\n",
       "      <td>1</td>\n",
       "      <td>0</td>\n",
       "      <td>0</td>\n",
       "    </tr>\n",
       "    <tr>\n",
       "      <th>4</th>\n",
       "      <td>0</td>\n",
       "      <td>0</td>\n",
       "      <td>1</td>\n",
       "      <td>0</td>\n",
       "      <td>0</td>\n",
       "    </tr>\n",
       "    <tr>\n",
       "      <th>5</th>\n",
       "      <td>0</td>\n",
       "      <td>0</td>\n",
       "      <td>1</td>\n",
       "      <td>0</td>\n",
       "      <td>0</td>\n",
       "    </tr>\n",
       "    <tr>\n",
       "      <th>...</th>\n",
       "      <td>...</td>\n",
       "      <td>...</td>\n",
       "      <td>...</td>\n",
       "      <td>...</td>\n",
       "      <td>...</td>\n",
       "    </tr>\n",
       "    <tr>\n",
       "      <th>1365</th>\n",
       "      <td>1</td>\n",
       "      <td>0</td>\n",
       "      <td>0</td>\n",
       "      <td>0</td>\n",
       "      <td>0</td>\n",
       "    </tr>\n",
       "    <tr>\n",
       "      <th>1366</th>\n",
       "      <td>1</td>\n",
       "      <td>0</td>\n",
       "      <td>0</td>\n",
       "      <td>0</td>\n",
       "      <td>0</td>\n",
       "    </tr>\n",
       "    <tr>\n",
       "      <th>1367</th>\n",
       "      <td>1</td>\n",
       "      <td>0</td>\n",
       "      <td>0</td>\n",
       "      <td>0</td>\n",
       "      <td>0</td>\n",
       "    </tr>\n",
       "    <tr>\n",
       "      <th>1368</th>\n",
       "      <td>1</td>\n",
       "      <td>0</td>\n",
       "      <td>0</td>\n",
       "      <td>0</td>\n",
       "      <td>0</td>\n",
       "    </tr>\n",
       "    <tr>\n",
       "      <th>1369</th>\n",
       "      <td>1</td>\n",
       "      <td>0</td>\n",
       "      <td>0</td>\n",
       "      <td>0</td>\n",
       "      <td>0</td>\n",
       "    </tr>\n",
       "  </tbody>\n",
       "</table>\n",
       "<p>817 rows × 5 columns</p>\n",
       "</div>"
      ],
      "text/plain": [
       "      Other  Realme  Samsung  Vivo  Xiaomi\n",
       "0         0       0        1     0       0\n",
       "1         0       0        1     0       0\n",
       "2         0       0        1     0       0\n",
       "4         0       0        1     0       0\n",
       "5         0       0        1     0       0\n",
       "...     ...     ...      ...   ...     ...\n",
       "1365      1       0        0     0       0\n",
       "1366      1       0        0     0       0\n",
       "1367      1       0        0     0       0\n",
       "1368      1       0        0     0       0\n",
       "1369      1       0        0     0       0\n",
       "\n",
       "[817 rows x 5 columns]"
      ]
     },
     "execution_count": 26,
     "metadata": {},
     "output_type": "execute_result"
    }
   ],
   "source": [
    "# Convert the 'company' feature from categorical to numerical using get_dummies\n",
    "\n",
    "print(df_features['company'].head(3))\n",
    "print('\\n')\n",
    "\n",
    "df_features_company_num = pd.get_dummies(df_features.company, dtype=int, drop_first=True)\n",
    "df_features_company_num"
   ]
  },
  {
   "cell_type": "code",
   "execution_count": 27,
   "id": "9f8b5f63",
   "metadata": {},
   "outputs": [
    {
     "name": "stdout",
     "output_type": "stream",
     "text": [
      "      Rating  Spec_score   Ram  Display  Screen_resolution  Other  Realme  \\\n",
      "0       4.65          68   4.0      6.6                 49      0       0   \n",
      "1       4.20          63   2.0      6.4                 55      0       0   \n",
      "2       4.30          75   4.0      6.6                  9      0       0   \n",
      "4       4.10          69   4.0      6.5                 56      0       0   \n",
      "5       4.40          75   6.0      6.5                 56      0       0   \n",
      "...      ...         ...   ...      ...                ...    ...     ...   \n",
      "1365    4.05          75   4.0      6.6                 58      1       0   \n",
      "1366    4.10          80   8.0      6.8                 16      1       0   \n",
      "1367    4.00          80   6.0      6.6                 58      1       0   \n",
      "1368    4.50          79   6.0      6.6                 58      1       0   \n",
      "1369    4.65          93  12.0     10.0                 42      1       0   \n",
      "\n",
      "      Samsung  Vivo  Xiaomi  \n",
      "0           1     0       0  \n",
      "1           1     0       0  \n",
      "2           1     0       0  \n",
      "4           1     0       0  \n",
      "5           1     0       0  \n",
      "...       ...   ...     ...  \n",
      "1365        0     0       0  \n",
      "1366        0     0       0  \n",
      "1367        0     0       0  \n",
      "1368        0     0       0  \n",
      "1369        0     0       0  \n",
      "\n",
      "[817 rows x 10 columns]\n"
     ]
    }
   ],
   "source": [
    "# Drop the 'company' column from the features dataframe and concatenate the numerical 'company_num' column\n",
    "\n",
    "df_features = df_features.drop(['company'], axis=1)\n",
    "df_features = pd.concat([df_features, df_features_company_num], axis=1)\n",
    "print(df_features)"
   ]
  },
  {
   "cell_type": "markdown",
   "id": "41398842",
   "metadata": {},
   "source": [
    "## Part 5: Train-Test Split and Feature Scaling\n",
    "\n",
    "Assign features and target.  \n",
    "Split the dataset into 80% training, 20% testing.  \n",
    "Standardize the training and test feature data.  \n",
    "Apply the transformation to both the training and test datasets."
   ]
  },
  {
   "cell_type": "code",
   "execution_count": 28,
   "id": "429e3ba8-bcd2-4878-b7c8-ed95b30db2c1",
   "metadata": {},
   "outputs": [],
   "source": [
    "# Assign the features and the target variable, and split the data into training and test sets\n",
    "\n",
    "X = df_features\n",
    "y = target\n",
    "\n",
    "from sklearn.model_selection import train_test_split\n",
    "X_train, X_test, y_train, y_test = train_test_split(X, y, test_size=0.2, random_state=0)"
   ]
  },
  {
   "cell_type": "code",
   "execution_count": 29,
   "id": "30660f1e",
   "metadata": {},
   "outputs": [
    {
     "name": "stdout",
     "output_type": "stream",
     "text": [
      "[[ 0.97353535 -0.18314954 -0.34562274 ... -0.44268578 -0.43025338\n",
      "  -0.30327091]\n",
      " [-1.44866916  0.50816059  0.37085868 ...  2.25893863 -0.43025338\n",
      "  -0.30327091]\n",
      " [ 0.09273371 -0.04488752 -0.34562274 ... -0.44268578 -0.43025338\n",
      "  -0.30327091]\n",
      " ...\n",
      " [ 0.53313453  0.64642261  0.37085868 ... -0.44268578 -0.43025338\n",
      "  -0.30327091]\n",
      " [-1.22846875  0.50816059  0.37085868 ... -0.44268578 -0.43025338\n",
      "  -0.30327091]\n",
      " [ 0.09273371 -2.11881791 -1.42034486 ... -0.44268578 -0.43025338\n",
      "   3.29738188]]\n",
      "\n",
      "\n",
      "[[ 0.31293412 -1.42750778 -1.06210415 ... -0.44268578 -0.43025338\n",
      "  -0.30327091]\n",
      " [ 1.41393617  0.36989856  0.37085868 ... -0.44268578 -0.43025338\n",
      "  -0.30327091]\n",
      " [-0.1274667   1.19947072  0.37085868 ...  2.25893863 -0.43025338\n",
      "  -0.30327091]\n",
      " ...\n",
      " [-0.78806793 -0.18314954 -0.34562274 ... -0.44268578 -0.43025338\n",
      "  -0.30327091]\n",
      " [-1.22846875 -0.87445967  0.37085868 ... -0.44268578  2.32421186\n",
      "  -0.30327091]\n",
      " [ 0.31293412 -0.18314954 -0.34562274 ...  2.25893863 -0.43025338\n",
      "  -0.30327091]]\n"
     ]
    }
   ],
   "source": [
    "# Standardize the training and test data using StandardScaler and fit and transform the training data\n",
    "\n",
    "from sklearn.preprocessing import StandardScaler\n",
    "sc = StandardScaler()\n",
    "X_train_scaled = sc.fit_transform(X_train)\n",
    "X_test_scaled = sc.transform(X_test)\n",
    "print(X_train_scaled)\n",
    "print('\\n')\n",
    "print(X_test_scaled)"
   ]
  },
  {
   "cell_type": "markdown",
   "id": "3de24c8e",
   "metadata": {},
   "source": [
    "## Part 6: Modeling\n",
    "\n",
    "Linear Regression  \n",
    "Random Forest Regressor  \n",
    "KNN Model (K-Nearest Neighbor)  \n",
    "SVR (Support Vector Regression)"
   ]
  },
  {
   "cell_type": "code",
   "execution_count": 30,
   "id": "49c1992b",
   "metadata": {},
   "outputs": [
    {
     "name": "stdout",
     "output_type": "stream",
     "text": [
      "Predicted Prices (Linear Regression): [10005.79775342 23906.88301057 54909.530152   17592.3095252\n",
      " 42305.35025807 12969.69994686 46291.18979772 21624.45500174\n",
      " 30027.20189087 -9168.89902842]\n",
      "\n",
      "\n",
      "Predicted Prices (RandomForest): [10644.66       19337.505      42039.3        11326.62\n",
      " 24793.815      13024.92       30742.11666667 17841.5625\n",
      " 22371.84880952  8594.035     ]\n",
      "\n",
      "\n",
      "Predicted Prices (KNeighbors): [11095.4 16995.2 32551.4 10537.2 29199.  12165.4 33215.8 17085.6 28193.6\n",
      "  7659. ]\n",
      "\n",
      "\n",
      "Predicted Prices (SVR): [15970.37158905 16028.28402133 16061.11881974 15989.94798245\n",
      " 16067.70983654 16023.44945965 16067.37293901 16046.85313871\n",
      " 16055.47187045 15973.20087165]\n",
      "\n",
      "\n",
      "Actual Prices: [13990. 19990. 64999.  8999. 29999. 14990. 24999. 12990. 29990.  6999.]\n"
     ]
    }
   ],
   "source": [
    "# Train the model using Linear Regression, RandomForestRegressor, KNeighborsRegressor, and SVR, and make predictions\n",
    "\n",
    "from sklearn.linear_model import LinearRegression\n",
    "from sklearn.ensemble import RandomForestRegressor\n",
    "from sklearn.neighbors import KNeighborsRegressor\n",
    "from sklearn.svm import SVR\n",
    "from sklearn.metrics import mean_absolute_percentage_error\n",
    "\n",
    "# Linear Regression\n",
    "lr_model = LinearRegression()\n",
    "lr_model.fit(X_train_scaled, y_train)\n",
    "\n",
    "# RandomForestRegressor\n",
    "rf_model = RandomForestRegressor(random_state=42)\n",
    "rf_model.fit(X_train_scaled, y_train)\n",
    "\n",
    "# KNeighborsRegressor\n",
    "knn_model = KNeighborsRegressor()\n",
    "knn_model.fit(X_train_scaled, y_train)\n",
    "\n",
    "# SVR\n",
    "svr_model = SVR()\n",
    "svr_model.fit(X_train_scaled, y_train)\n",
    "\n",
    "# Prediction using Linear Regression\n",
    "y_pred_lr = lr_model.predict(X_test_scaled)\n",
    "# y_pred_lr = np.maximum(0, y_pred_lr)  # This only corrects the output after the prediction, but it doesn't address\n",
    "# the underlying issue with the model training and feature engineering.\n",
    "print(f'Predicted Prices (Linear Regression): {y_pred_lr[:10]}')\n",
    "print('\\n')\n",
    "\n",
    "# Prediction using RandomForestRegressor\n",
    "y_pred_rf = rf_model.predict(X_test_scaled)\n",
    "# y_pred_rf = np.maximum(0, y_pred_rf)\n",
    "print(f'Predicted Prices (RandomForest): {y_pred_rf[:10]}')\n",
    "print('\\n')\n",
    "\n",
    "# Prediction using KNeighborsRegressor\n",
    "y_pred_knn = knn_model.predict(X_test_scaled)\n",
    "# y_pred_knn = np.maximum(0, y_pred_knn)\n",
    "print(f'Predicted Prices (KNeighbors): {y_pred_knn[:10]}')\n",
    "print('\\n')\n",
    "\n",
    "# Prediction using SVR\n",
    "y_pred_svr = svr_model.predict(X_test_scaled)\n",
    "# y_pred_svr = np.maximum(0, y_pred_svr)\n",
    "print(f'Predicted Prices (SVR): {y_pred_svr[:10]}')\n",
    "print('\\n')\n",
    "\n",
    "# Print the actual prices of the test set\n",
    "print(f'Actual Prices: {y_test[0:10]}')"
   ]
  },
  {
   "cell_type": "code",
   "execution_count": 31,
   "id": "349fd6f7",
   "metadata": {},
   "outputs": [
    {
     "name": "stdout",
     "output_type": "stream",
     "text": [
      "Linear Regression MAPE: 0.6308508179691432\n",
      "RandomForestRegressor MAPE: 0.22001452363267027\n",
      "KNeighborsRegressor MAPE: 0.2601163379108481\n",
      "SVR MAPE: 0.45149758966197023\n"
     ]
    }
   ],
   "source": [
    "# Calculate MAPE for each model\n",
    "\n",
    "# Calculate MAPE for Linear Regression\n",
    "mape_lr = mean_absolute_percentage_error(y_test, y_pred_lr)\n",
    "print(f'Linear Regression MAPE: {mape_lr}')\n",
    "\n",
    "# Calculate MAPE for RandomForestRegressor\n",
    "mape_rf = mean_absolute_percentage_error(y_test, y_pred_rf)\n",
    "print(f'RandomForestRegressor MAPE: {mape_rf}')\n",
    "\n",
    "# Calculate MAPE for KNeighborsRegressor\n",
    "mape_knn = mean_absolute_percentage_error(y_test, y_pred_knn)\n",
    "print(f'KNeighborsRegressor MAPE: {mape_knn}')\n",
    "\n",
    "# Calculate MAPE for SVR\n",
    "mape_svr = mean_absolute_percentage_error(y_test, y_pred_svr)\n",
    "print(f'SVR MAPE: {mape_svr}')"
   ]
  },
  {
   "cell_type": "markdown",
   "id": "48c3888f",
   "metadata": {},
   "source": [
    "## Part 7: Identify the best performing model to predict mobile phone prices"
   ]
  },
  {
   "cell_type": "code",
   "execution_count": 32,
   "id": "23315555",
   "metadata": {},
   "outputs": [
    {
     "name": "stdout",
     "output_type": "stream",
     "text": [
      "Best Model is: RandomForestRegressor with MAPE: 0.22001452363267027\n"
     ]
    }
   ],
   "source": [
    "# Best model based on MAPE\n",
    "mape_values_dict = {'Linear Regression': mape_lr, 'RandomForestRegressor': mape_rf, 'KNeighborsRegressor': mape_knn, 'SVR': mape_svr}\n",
    "print(f'Best Model is: {min(mape_values_dict, key=mape_values_dict.get)} with MAPE: {min(mape_values_dict.values())}')"
   ]
  },
  {
   "cell_type": "markdown",
   "id": "67ee72c1",
   "metadata": {},
   "source": [
    "## Part 8: Predict Mobile Phone Prices with New Data"
   ]
  },
  {
   "cell_type": "code",
   "execution_count": 35,
   "id": "c76e149e",
   "metadata": {},
   "outputs": [
    {
     "name": "stdout",
     "output_type": "stream",
     "text": [
      "[9759.045]\n",
      "[8997.2]\n",
      "[16010.54752924]\n",
      "[860.26422755]\n"
     ]
    }
   ],
   "source": [
    "# Rating  Spec_score   Ram  Display  Screen_resolution  Other  Realme Samsung  Vivo  Xiaomi\n",
    "sc_new_data = sc.transform([[4.99, 65, 6.0, 6.5, 33, 0, 0, 1, 0, 0]])\n",
    "print(rf_model.predict (sc_new_data))\n",
    "print(knn_model.predict (sc_new_data))\n",
    "print(svr_model.predict (sc_new_data))\n",
    "print(lr_model.predict (sc_new_data))"
   ]
  },
  {
   "cell_type": "code",
   "execution_count": null,
   "id": "0a9b3ae7",
   "metadata": {},
   "outputs": [],
   "source": []
  }
 ],
 "metadata": {
  "kernelspec": {
   "display_name": "Python 3",
   "language": "python",
   "name": "python3"
  },
  "language_info": {
   "codemirror_mode": {
    "name": "ipython",
    "version": 3
   },
   "file_extension": ".py",
   "mimetype": "text/x-python",
   "name": "python",
   "nbconvert_exporter": "python",
   "pygments_lexer": "ipython3",
   "version": "3.11.0"
  }
 },
 "nbformat": 4,
 "nbformat_minor": 5
}
